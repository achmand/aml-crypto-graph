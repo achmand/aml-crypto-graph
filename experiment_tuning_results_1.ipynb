{
 "cells": [
  {
   "cell_type": "code",
   "execution_count": null,
   "metadata": {},
   "outputs": [],
   "source": [
    "###### importing dependencies ############################################\n",
    "from cryptoaml import utils as util  \n",
    "\n",
    "###### constants #########################################################\n",
    "experiment_1 = \"persistence/experiment_1/tuning_studies/\"\n",
    "\n",
    "tpe_search = \"{}tpe/\".format(experiment_1)\n",
    "# grid_search  = \"{}grid_search/\".format(experiment_1)"
   ]
  },
  {
   "cell_type": "code",
   "execution_count": 2,
   "metadata": {
    "scrolled": false
   },
   "outputs": [],
   "source": [
    "# # XGBOOST LF\n",
    "# print(\"XGBOOST LF\")\n",
    "# study_gsxgb_LF = util.read_pickle(experiment_1 + \"gs_xgboost_LF.pkl\")\n",
    "# study_gsxgb_LF_df = study_gsxgb_LF.trials_dataframe()\n",
    "# display(study_gsxgb_LF_df[study_gsxgb_LF_df[\"state\"] == \"COMPLETE\"].sort_values(\"value\", ascending=False))\n",
    "# study_tpexgb_LF = util.read_pickle(experiment_1 + \"tpe_xgboost_LF.pkl\")\n",
    "# study_tpexgb_LF_df = study_tpexgb_LF.trials_dataframe()\n",
    "# display(study_tpexgb_LF_df[study_tpexgb_LF_df[\"state\"] == \"COMPLETE\"].sort_values(\"value\", ascending=False))\n",
    "\n",
    "# # XGBOOST LF_NE\n",
    "# print(\"XGBOOST LF_NE\")\n",
    "# study_gsxgb_LFNE = util.read_pickle(experiment_1 + \"gs_xgboost_LF_NE.pkl\")\n",
    "# study_gsxgb_LFNE_df = study_gsxgb_LFNE.trials_dataframe()\n",
    "# display(study_gsxgb_LFNE_df[study_gsxgb_LFNE_df[\"state\"] == \"COMPLETE\"].sort_values(\"value\", ascending=False))\n",
    "# study_tpexgb_LFNE = util.read_pickle(experiment_1 + \"tpe_xgboost_LF_NE.pkl\")\n",
    "# study_tpexgb_LFNE_df = study_tpexgb_LFNE.trials_dataframe()\n",
    "# display(study_tpexgb_LFNE_df[study_tpexgb_LFNE_df[\"state\"] == \"COMPLETE\"].sort_values(\"value\", ascending=False))\n",
    "\n",
    "# # XGBOOST AF\n",
    "# print(\"XGBOOST AF\")\n",
    "# study_gsxgb_AF = util.read_pickle(experiment_1 + \"gs_xgboost_AF.pkl\")\n",
    "# study_gsxgb_AF_df = study_gsxgb_AF.trials_dataframe()\n",
    "# display(study_gsxgb_AF_df[study_gsxgb_AF_df[\"state\"] == \"COMPLETE\"].sort_values(\"value\", ascending=False))\n",
    "# study_tpexgb_AF = util.read_pickle(experiment_1 + \"tpe_xgboost_AF.pkl\")\n",
    "# study_tpexgb_AF_df = study_tpexgb_AF.trials_dataframe()\n",
    "# display(study_tpexgb_AF_df[study_tpexgb_AF_df[\"state\"] == \"COMPLETE\"].sort_values(\"value\", ascending=False))\n",
    "\n",
    "# # XGBOOST AF_NE\n",
    "# print(\"XGBOOST AF_NE GS\")\n",
    "# study_gsxgb_AFNE = util.read_pickle(experiment_1 + \"gs_xgboost_AF_NE.pkl\")\n",
    "# study_gsxgb_AFNE_df = study_gsxgb_AFNE.trials_dataframe()\n",
    "# display(study_gsxgb_AFNE_df[study_gsxgb_AFNE_df[\"state\"] == \"COMPLETE\"].sort_values(\"value\", ascending=False))\n",
    "# print(\"XGBOOST AF_NE TPE\")\n",
    "# study_tpexgb_AFNE = util.read_pickle(experiment_1 + \"tpe_xgboost_AF_NE.pkl\")\n",
    "# study_tpexgb_AFNE_df = study_tpexgb_AFNE.trials_dataframe()\n",
    "# display(study_tpexgb_AFNE_df[study_tpexgb_AFNE_df[\"state\"] == \"COMPLETE\"].sort_values(\"value\", ascending=False))"
   ]
  },
  {
   "cell_type": "code",
   "execution_count": null,
   "metadata": {},
   "outputs": [],
   "source": [
    "# LIGHTGBM \n",
    "\n",
    "# LIGHTGBM AF\n",
    "print(\"LIGHTGBM AF GS\")\n",
    "study_gslight_AF = util.read_pickle(experiment_1 + \"gs_lightgbm_AF.pkl\")\n",
    "study_gslight_AF_df = study_gslight_AF.trials_dataframe()\n",
    "display(study_gslight_AF_df[study_gslight_AF_df[\"state\"] == \"COMPLETE\"].sort_values(\"value\", ascending=False))\n",
    "print(\"LIGHTGBM AF TPE\")\n",
    "study_tpelight_AF = util.read_pickle(experiment_1 + \"tpe_lightgbm_AF.pkl\")\n",
    "study_tpelight_AF_df = study_tpelight_AF.trials_dataframe()\n",
    "display(study_tpelight_AF_df[study_tpelight_AF_df[\"state\"] == \"COMPLETE\"].sort_values(\"value\", ascending=False))"
   ]
  },
  {
   "cell_type": "code",
   "execution_count": null,
   "metadata": {},
   "outputs": [],
   "source": []
  }
 ],
 "metadata": {
  "kernelspec": {
   "display_name": "Python 3.7.6 64-bit ('btc-classifier': conda)",
   "language": "python",
   "name": "python37664bitbtcclassifiercondaf328939486114fc0aeb107830f867d66"
  },
  "language_info": {
   "codemirror_mode": {
    "name": "ipython",
    "version": 3
   },
   "file_extension": ".py",
   "mimetype": "text/x-python",
   "name": "python",
   "nbconvert_exporter": "python",
   "pygments_lexer": "ipython3",
   "version": "3.7.6"
  }
 },
 "nbformat": 4,
 "nbformat_minor": 4
}

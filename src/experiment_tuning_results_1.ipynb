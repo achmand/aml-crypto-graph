{
 "cells": [
  {
   "cell_type": "code",
   "execution_count": 2,
   "metadata": {},
   "outputs": [],
   "source": [
    "###### importing dependencies ############################################\n",
    "from cryptoaml import utils as util  \n",
    "\n",
    "###### constants #########################################################\n",
    "experiment_1 = \"persistence/experiment_1/tuning_studies/\"\n",
    "\n",
    "tpe_search   = \"{}tpe/\".format(experiment_1)\n",
    "# grid_search  = \"{}grid_search/\".format(experiment_1)"
   ]
  },
  {
   "cell_type": "code",
   "execution_count": 1,
   "metadata": {
    "scrolled": false
   },
   "outputs": [
    {
     "ename": "NameError",
     "evalue": "name 'util' is not defined",
     "output_type": "error",
     "traceback": [
      "\u001b[0;31m---------------------------------------------------------------------------\u001b[0m",
      "\u001b[0;31mNameError\u001b[0m                                 Traceback (most recent call last)",
      "\u001b[0;32m<ipython-input-1-7af4c4a4df0d>\u001b[0m in \u001b[0;36m<module>\u001b[0;34m\u001b[0m\n\u001b[1;32m     31\u001b[0m \u001b[0;34m\u001b[0m\u001b[0m\n\u001b[1;32m     32\u001b[0m \u001b[0;31m# XGBOOST AF_NE\u001b[0m\u001b[0;34m\u001b[0m\u001b[0;34m\u001b[0m\u001b[0;34m\u001b[0m\u001b[0m\n\u001b[0;32m---> 33\u001b[0;31m \u001b[0mstudy_gsxgb_AFNE\u001b[0m \u001b[0;34m=\u001b[0m \u001b[0mutil\u001b[0m\u001b[0;34m.\u001b[0m\u001b[0mread_pickle\u001b[0m\u001b[0;34m(\u001b[0m\u001b[0mgrid_search\u001b[0m \u001b[0;34m+\u001b[0m \u001b[0;34m\"gs_xgboost_AFNE.pkl\"\u001b[0m\u001b[0;34m)\u001b[0m\u001b[0;34m\u001b[0m\u001b[0;34m\u001b[0m\u001b[0m\n\u001b[0m\u001b[1;32m     34\u001b[0m \u001b[0mstudy_gsxgb_AFNE_df\u001b[0m \u001b[0;34m=\u001b[0m \u001b[0mstudy_gsxgb_AFNE\u001b[0m\u001b[0;34m.\u001b[0m\u001b[0mtrials_dataframe\u001b[0m\u001b[0;34m(\u001b[0m\u001b[0;34m)\u001b[0m\u001b[0;34m\u001b[0m\u001b[0;34m\u001b[0m\u001b[0m\n\u001b[1;32m     35\u001b[0m \u001b[0mprint\u001b[0m\u001b[0;34m(\u001b[0m\u001b[0mstudy_gsxgb_AFNE_df\u001b[0m\u001b[0;34m[\u001b[0m\u001b[0mstudy_gsxgb_AFNE_df\u001b[0m\u001b[0;34m[\u001b[0m\u001b[0;34m\"state\"\u001b[0m\u001b[0;34m]\u001b[0m \u001b[0;34m==\u001b[0m \u001b[0;34m\"COMPLETE\"\u001b[0m\u001b[0;34m]\u001b[0m\u001b[0;34m.\u001b[0m\u001b[0mshape\u001b[0m\u001b[0;34m)\u001b[0m\u001b[0;34m\u001b[0m\u001b[0;34m\u001b[0m\u001b[0m\n",
      "\u001b[0;31mNameError\u001b[0m: name 'util' is not defined"
     ]
    }
   ],
   "source": [
    "# XGBOOST LF\n",
    "# study_gsxgb_LF = util.read_pickle(experiment_1 + \"gs_xgboost_LF.pkl\")\n",
    "# study_gsxgb_LF_df = study_gsxgb_LF.trials_dataframe()\n",
    "# study_tpexgb_LF = util.read_pickle(experiment_1 + \"tpe_xgboost_LF.pkl\")\n",
    "# study_tpexgb_LF_df = study_tpexgb_LF.trials_dataframe()\n",
    "# print(study_gsxgb_LF_df[study_gsxgb_LF_df[\"state\"] == \"COMPLETE\"].shape)\n",
    "# study_gsxgb_LF_df[study_gsxgb_LF_df[\"state\"] == \"COMPLETE\"].sort_values(\"value\", ascending=False)\n",
    "# print(study_tpexgb_LF_df[study_tpexgb_LF_df[\"state\"] == \"COMPLETE\"].shape)\n",
    "# study_tpexgb_LF_df[study_tpexgb_LF_df[\"state\"] == \"COMPLETE\"].sort_values(\"value\", ascending=False)\n",
    "\n",
    "# XGBOOST LF_NE\n",
    "# study_gsxgb_LFNE = util.read_pickle(experiment_1 + \"gs_xgboost_LFNE.pkl\")\n",
    "# study_gsxgb_LFNE_df = study_gsxgb_LFNE.trials_dataframe()\n",
    "# study_tpexgb_LFNE = util.read_pickle(experiment_1 + \"tpe_xgboost_LFNE.pkl\")\n",
    "# study_tpexgb_LFNE_df = study_tpexgb_LFNE.trials_dataframe()\n",
    "# print(study_gsxgb_LFNE_df[study_gsxgb_LFNE_df[\"state\"] == \"COMPLETE\"].shape)\n",
    "# display(study_gsxgb_LFNE_df[study_gsxgb_LFNE_df[\"state\"] == \"COMPLETE\"].sort_values(\"value\", ascending=False))\n",
    "# print(study_tpexgb_LFNE_df[study_tpexgb_LFNE_df[\"state\"] == \"COMPLETE\"].shape)\n",
    "# display(study_tpexgb_LFNE_df[study_tpexgb_LFNE_df[\"state\"] == \"COMPLETE\"].sort_values(\"value\", ascending=False))\n",
    "\n",
    "\n",
    "# XGBOOST AF\n",
    "# study_gsxgb_AF = util.read_pickle(experiment_1 + \"gs_xgboost_AF.pkl\")\n",
    "# study_gsxgb_AF_df = study_gsxgb_AF.trials_dataframe()\n",
    "# study_tpexgb_AF = util.read_pickle(experiment_1 + \"tpe_xgboost_AF.pkl\")\n",
    "# study_tpexgb_AF_df = study_tpexgb_AF.trials_dataframe()\n",
    "# print(study_gsxgb_AF_df[study_gsxgb_AF_df[\"state\"] == \"COMPLETE\"].shape)\n",
    "# study_gsxgb_AF_df[study_gsxgb_AF_df[\"state\"] == \"COMPLETE\"].sort_values(\"value\", ascending=False)\n",
    "# print(study_tpexgb_AF_df[study_tpexgb_AF_df[\"state\"] == \"COMPLETE\"].shape)\n",
    "# study_tpexgb_AF_df[study_tpexgb_AF_df[\"state\"] == \"COMPLETE\"].sort_values(\"value\", ascending=False)\n",
    "\n",
    "# XGBOOST AF_NE\n",
    "study_gsxgb_AFNE = util.read_pickle(experiment_1 + \"gs_xgboost_AFNE.pkl\")\n",
    "study_gsxgb_AFNE_df = study_gsxgb_AFNE.trials_dataframe()\n",
    "print(study_gsxgb_AFNE_df[study_gsxgb_AFNE_df[\"state\"] == \"COMPLETE\"].shape)\n",
    "study_gsxgb_AFNE_df[study_gsxgb_AFNE_df[\"state\"] == \"COMPLETE\"].sort_values(\"value\", ascending=False)"
   ]
  },
  {
   "cell_type": "code",
   "execution_count": 4,
   "metadata": {},
   "outputs": [],
   "source": [
    "# study_tpexgb_LF_df[study_tpexgb_LF_df[\"state\"] == \"COMPLETE\"].sort_values(\"params_gamma\", ascending=False)"
   ]
  },
  {
   "cell_type": "code",
   "execution_count": null,
   "metadata": {},
   "outputs": [],
   "source": []
  }
 ],
 "metadata": {
  "kernelspec": {
   "display_name": "Python 3.7.6 64-bit ('btc-classifier': conda)",
   "language": "python",
   "name": "python37664bitbtcclassifiercondaf328939486114fc0aeb107830f867d66"
  },
  "language_info": {
   "codemirror_mode": {
    "name": "ipython",
    "version": 3
   },
   "file_extension": ".py",
   "mimetype": "text/x-python",
   "name": "python",
   "nbconvert_exporter": "python",
   "pygments_lexer": "ipython3",
   "version": "3.7.6"
  }
 },
 "nbformat": 4,
 "nbformat_minor": 4
}

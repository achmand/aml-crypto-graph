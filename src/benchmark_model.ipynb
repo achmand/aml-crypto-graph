{
 "cells": [
  {
   "cell_type": "code",
   "execution_count": 1,
   "metadata": {},
   "outputs": [
    {
     "name": "stderr",
     "output_type": "stream",
     "text": [
      "/home/delinvas/anaconda3/envs/btc-classifier/lib/python3.7/site-packages/sklearn/utils/deprecation.py:144: FutureWarning: The sklearn.metrics.scorer module is  deprecated in version 0.22 and will be removed in version 0.24. The corresponding classes / functions should instead be imported from sklearn.metrics. Anything that cannot be imported from sklearn.metrics is now part of the private API.\n",
      "  warnings.warn(message, FutureWarning)\n"
     ]
    }
   ],
   "source": [
    "# Importing dependencies\n",
    "import numpy as np\n",
    "import cryptoaml.datareader as cdr\n",
    "from collections import OrderedDict\n",
    "from cryptoaml.models import (RandomForestAlgo)"
   ]
  },
  {
   "cell_type": "code",
   "execution_count": 2,
   "metadata": {},
   "outputs": [],
   "source": [
    "data = cdr.get_data(\"elliptic\")\n",
    "data_sets = data.train_test_split(train_size=0.7, feat_set=[\"LF\", \"AF\"])"
   ]
  },
  {
   "cell_type": "code",
   "execution_count": 3,
   "metadata": {},
   "outputs": [
    {
     "name": "stdout",
     "output_type": "stream",
     "text": [
      "{'bootstrap': True, 'ccp_alpha': 0.0, 'class_weight': None, 'criterion': 'gini', 'max_depth': None, 'max_features': 50, 'max_leaf_nodes': None, 'max_samples': None, 'min_impurity_decrease': 0.0, 'min_impurity_split': None, 'min_samples_leaf': 1, 'min_samples_split': 2, 'min_weight_fraction_leaf': 0.0, 'n_estimators': 50, 'n_jobs': None, 'oob_score': False, 'random_state': None, 'verbose': 0, 'warm_start': False}\n"
     ]
    }
   ],
   "source": [
    "rf = RandomForestAlgo(n_estimators=50, max_features=50)\n",
    "print(rf.get_params())"
   ]
  },
  {
   "cell_type": "code",
   "execution_count": null,
   "metadata": {},
   "outputs": [],
   "source": [
    "metrics = {}\n",
    "total_runs = 200\n",
    "\n",
    "for feature_set in data_sets:\n",
    "    \n",
    "    # Get current feature set \n",
    "    tmp_dataset = data_sets[feature_set]\n",
    "    \n",
    "    # Training set \n",
    "    tmp_dataset_train_X = tmp_dataset.train_X\n",
    "    tmp_dataset_train_y = tmp_dataset.train_y\n",
    "    \n",
    "    # Test set \n",
    "    tmp_dataset_test_X = tmp_dataset.test_X\n",
    "    tmp_dataset_test_y = tmp_dataset.test_y\n",
    "    \n",
    "    metrics[feature_set] = {}\n",
    "    metrics[feature_set][\"precision\"] = []\n",
    "    metrics[feature_set][\"recall\"] = []\n",
    "    metrics[feature_set][\"f1\"] = []\n",
    "    metrics[feature_set][\"f1_micro\"] = []\n",
    "    \n",
    "    for i in range(total_runs):\n",
    "        rf.fit(tmp_dataset_train_X, tmp_dataset_train_y)\n",
    "        tmp_metrics = rf.evaluate(metrics=[\"precision\", \"recall\", \"f1\", \"f1_micro\"], \n",
    "                                  X=tmp_dataset_test_X,\n",
    "                                  y=tmp_dataset_test_y)\n",
    "        \n",
    "        metrics[feature_set][\"precision\"].append(tmp_metrics[\"precision\"])\n",
    "        metrics[feature_set][\"recall\"].append(tmp_metrics[\"recall\"])\n",
    "        metrics[feature_set][\"f1\"].append(tmp_metrics[\"f1\"])\n",
    "        metrics[feature_set][\"f1_micro\"].append(tmp_metrics[\"f1_micro\"])"
   ]
  },
  {
   "cell_type": "code",
   "execution_count": null,
   "metadata": {},
   "outputs": [],
   "source": [
    "for feature_set in metrics:\n",
    "    print(\"===========================================\")\n",
    "    print(feature_set)\n",
    "    print(\"===========================================\")\n",
    "\n",
    "    for metric in metrics[feature_set]:\n",
    "        metric_mean = round(np.mean(metrics[feature_set][metric]),3)\n",
    "        metric_std = round(np.std(metrics[feature_set][metric]),3)\n",
    "        print(\"\\t {}\\n\\t\\tmean:{}\\n\\t\\tstd:{}\".format(metric, metric_mean, metric_std))"
   ]
  }
 ],
 "metadata": {
  "kernelspec": {
   "display_name": "Python [conda env:btc-classifier] *",
   "language": "python",
   "name": "conda-env-btc-classifier-py"
  },
  "language_info": {
   "codemirror_mode": {
    "name": "ipython",
    "version": 3
   },
   "file_extension": ".py",
   "mimetype": "text/x-python",
   "name": "python",
   "nbconvert_exporter": "python",
   "pygments_lexer": "ipython3",
   "version": "3.7.6"
  }
 },
 "nbformat": 4,
 "nbformat_minor": 4
}

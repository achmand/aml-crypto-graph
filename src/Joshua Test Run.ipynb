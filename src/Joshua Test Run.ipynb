{
 "cells": [
  {
   "cell_type": "code",
   "execution_count": 1,
   "metadata": {},
   "outputs": [
    {
     "name": "stderr",
     "output_type": "stream",
     "text": [
      "/home/delinvas/anaconda3/envs/btc-classifier/lib/python3.7/site-packages/sklearn/utils/deprecation.py:144: FutureWarning:\n",
      "\n",
      "The sklearn.metrics.scorer module is  deprecated in version 0.22 and will be removed in version 0.24. The corresponding classes / functions should instead be imported from sklearn.metrics. Anything that cannot be imported from sklearn.metrics is now part of the private API.\n",
      "\n"
     ]
    }
   ],
   "source": [
    "import pandas as pd \n",
    "import numpy as np\n",
    "import cryptoaml.datareader as cdr\n",
    "from cryptoaml.models import XgboostAlgo\n",
    "from cryptoaml.models import CatBoostAlgo\n",
    "from cryptoaml.models import LightGbmAlgo\n",
    "from cryptoaml.models import RandomForestAlgo\n",
    "from sklearn.model_selection import cross_validate, train_test_split\n",
    "from sklearn.model_selection import StratifiedKFold"
   ]
  },
  {
   "cell_type": "code",
   "execution_count": 5,
   "metadata": {
    "scrolled": false
   },
   "outputs": [
    {
     "name": "stdout",
     "output_type": "stream",
     "text": [
      "<cryptoaml.utils.Namespace object at 0x7fca01063fd0>\n"
     ]
    },
    {
     "data": {
      "text/plain": [
       "656     1\n",
       "600     1\n",
       "1973    1\n",
       "743     0\n",
       "334     0\n",
       "       ..\n",
       "1084    1\n",
       "301     1\n",
       "1691    0\n",
       "2114    0\n",
       "1765    0\n",
       "Name: class, Length: 3276, dtype: int64"
      ]
     },
     "metadata": {},
     "output_type": "display_data"
    },
    {
     "data": {
      "text/plain": [
       "1975    1\n",
       "1184    0\n",
       "214     1\n",
       "1842    0\n",
       "1297    0\n",
       "       ..\n",
       "2201    0\n",
       "1241    0\n",
       "1148    0\n",
       "547     0\n",
       "2168    1\n",
       "Name: class, Length: 1405, dtype: int64"
      ]
     },
     "metadata": {},
     "output_type": "display_data"
    },
    {
     "name": "stdout",
     "output_type": "stream",
     "text": [
      "OrderedDict([('precision', 0.9811912225705329), ('recall', 0.9571865443425076), ('f1_micro', 0.9715302491103203), ('accuracy', 0.9715302491103203), ('auc', 0.970603924634636), ('confusion', array([[739,  12],\n",
      "       [ 28, 626]])), ('f1', 0.9690402476780184)])\n",
      "OrderedDict([('precision', 0.9890795631825273), ('recall', 0.9694189602446484), ('f1_micro', 0.9807829181494662), ('accuracy', 0.9807829181494662), ('auc', 0.9800490273926304), ('confusion', array([[744,   7],\n",
      "       [ 20, 634]])), ('f1', 0.9791505791505792)])\n",
      "OrderedDict([('precision', 0.9831288343558282), ('recall', 0.9801223241590215), ('f1_micro', 0.9829181494661922), ('accuracy', 0.9829181494661922), ('auc', 0.9827375935042778), ('confusion', array([[740,  11],\n",
      "       [ 13, 641]])), ('f1', 0.9816232771822357)])\n",
      "OrderedDict([('precision', 0.9844479004665629), ('recall', 0.9678899082568807), ('f1_micro', 0.9779359430604982), ('accuracy', 0.9779359430604982), ('auc', 0.9772871645145922), ('confusion', array([[741,  10],\n",
      "       [ 21, 633]])), ('f1', 0.9760986892829605)])\n",
      "OrderedDict([('precision', 0.9830769230769231), ('recall', 0.9770642201834863), ('f1_micro', 0.9814946619217082), ('accuracy', 0.9814946619217082), ('auc', 0.98120854151651), ('confusion', array([[740,  11],\n",
      "       [ 15, 639]])), ('f1', 0.9800613496932515)])\n"
     ]
    }
   ],
   "source": [
    "eth_data = cdr.get_data(\"eth_accounts\")\n",
    "dataset = eth_data.train_test_split(0.7)[\"ALL\"]\n",
    "print(dataset)\n",
    "\n",
    "# X = eth_data.dataset_[eth_data._cols_features]\n",
    "# y = eth_data.dataset_[\"class\"]\n",
    "# X_train, X_test, y_train, y_test = train_test_split(X, y, train_size=0.7, stratify=y, shuffle=True)\n",
    "\n",
    "\n",
    "X_train = dataset.train_X\n",
    "X_test = dataset.test_X\n",
    "y_train = dataset.train_y\n",
    "y_test = dataset.test_y\n",
    "\n",
    "\n",
    "display(y_train)\n",
    "display(y_test)\n",
    "\n",
    "\n",
    "model = RandomForestAlgo()\n",
    "model.fit(X_train, y_train)\n",
    "results = model.evaluate([\"precision\", \"recall\", \"f1_micro\", \"accuracy\", \"auc\", \"confusion\", \"f1\"],\n",
    "                         X_test, \n",
    "                         y_test)\n",
    "print(results)\n",
    "\n",
    "\n",
    "model = XgboostAlgo()\n",
    "model.fit(X_train, y_train)\n",
    "results = model.evaluate([\"precision\", \"recall\", \"f1_micro\", \"accuracy\", \"auc\", \"confusion\", \"f1\"],\n",
    "                         X_test, \n",
    "                         y_test)\n",
    "print(results)\n",
    "\n",
    "model = CatBoostAlgo(verbose=0)\n",
    "model.fit(X_train, y_train)\n",
    "results = model.evaluate([\"precision\", \"recall\", \"f1_micro\", \"accuracy\", \"auc\", \"confusion\", \"f1\"],\n",
    "                         X_test, \n",
    "                         y_test)\n",
    "print(results)\n",
    "\n",
    "model = LightGbmAlgo(verbose=0)\n",
    "model.fit(X_train, y_train)\n",
    "results = model.evaluate([\"precision\", \"recall\", \"f1_micro\", \"accuracy\", \"auc\", \"confusion\", \"f1\"],\n",
    "                         X_test, \n",
    "                         y_test)\n",
    "print(results)\n",
    "\n",
    "model = XgboostAlgo(n_estimators=150, \n",
    "                  max_depth=4,\n",
    "                  subsample=0.5,\n",
    "                  objective='binary:logistic',\n",
    "                  learning_rate=0.2)\n",
    "\n",
    "model.fit(X_train, y_train)\n",
    "results = model.evaluate([\"precision\", \"recall\", \"f1_micro\", \"accuracy\", \"auc\", \"confusion\", \"f1\"],\n",
    "                         X_test, \n",
    "                         y_test)\n",
    "print(results)"
   ]
  },
  {
   "cell_type": "code",
   "execution_count": 3,
   "metadata": {},
   "outputs": [
    {
     "data": {
      "text/plain": [
       "0.9847560975609757"
      ]
     },
     "execution_count": 3,
     "metadata": {},
     "output_type": "execute_result"
    }
   ],
   "source": [
    "0.9869130100076983\n",
    "0.9847560975609757\n",
    "\n",
    "0.9791505791505792\n",
    "\n",
    "\n",
    "# model = XgboostAlgo(n_estimators=150, \n",
    "#                   max_depth=4,\n",
    "#                   subsample=0.5,\n",
    "#                   objective='binary:logistic',\n",
    "#                   learning_rate=0.2)\n",
    "\n",
    "\n",
    "\n",
    "# # from sklearn.ensemble import RandomForestClassifier\n",
    "\n",
    "# # model = RandomForestClassifier()\n",
    "\n",
    "# # xgb = CatBoostAlgo({   'base_score': 0.5,\n",
    "# #     'booster': None,\n",
    "# #     'colsample_bylevel': 1,\n",
    "# #     'colsample_bynode': 1,\n",
    "# #     'colsample_bytree': 0.9020405533670462,\n",
    "# #     'gamma': 0.010750000000000001,\n",
    "# #     'gpu_id': -1,\n",
    "# #     'importance_type': 'gain',\n",
    "# #     'interaction_constraints': None,\n",
    "# #     'learning_rate': 0.3,\n",
    "# #     'max_delta_step': 0,\n",
    "# #     'max_depth': 7,\n",
    "# #     'min_child_weight': 0,\n",
    "# #     'monotone_constraints': None,\n",
    "# #     'n_estimators': 450,\n",
    "# #     'n_jobs': 0,\n",
    "# #     'num_parallel_tree': 1,\n",
    "# #     'objective': 'binary:logistic',\n",
    "# #     'random_state': 0,\n",
    "# #     'reg_alpha': 3.27144418388647e-08,\n",
    "# #     'reg_lambda': 0.959909924979428,\n",
    "# #     'scale_pos_weight': 1,\n",
    "# #     'subsample': 0.9193293644242201,\n",
    "# #     'tree_method': None,\n",
    "# #     'validate_parameters': False,\n",
    "# #     'verbosity': None})._model\n",
    "# # print(xgb.get_params())\n",
    "\n",
    "# score = {'f1', 'roc_auc', 'accuracy'}\n",
    "# scores = cross_validate(model, \n",
    "#                         X, \n",
    "#                         y, \n",
    "#                         return_train_score=True,\n",
    "#                         scoring= score, \n",
    "#                         n_jobs=-1,\n",
    "#                         cv=StratifiedKFold(n_splits=10, shuffle=True))\n",
    "\n",
    "# # print(scores)\n",
    "# decimals = 4\n",
    "# metrics = {}\n",
    "# metrics[\"accuracy\"] = round(scores[\"test_accuracy\"].mean(), decimals)\n",
    "# metrics[\"accuracy_std\"] = round(scores[\"test_accuracy\"].std(), decimals)\n",
    "# metrics[\"f1\"] = round(scores[\"test_f1\"].mean(), decimals)\n",
    "# metrics[\"f1_std\"] = round(scores[\"test_f1\"].std(), decimals)\n",
    "# metrics[\"auc\"] = round(scores[\"test_roc_auc\"].mean(), decimals)\n",
    "# metrics[\"auc_std\"] = round(scores[\"test_roc_auc\"].std(), decimals)\n",
    "\n",
    "# print(metrics)"
   ]
  },
  {
   "cell_type": "code",
   "execution_count": null,
   "metadata": {},
   "outputs": [],
   "source": []
  }
 ],
 "metadata": {
  "kernelspec": {
   "display_name": "Python 3.7.6 64-bit ('btc-classifier': conda)",
   "language": "python",
   "name": "python37664bitbtcclassifiercondaf328939486114fc0aeb107830f867d66"
  },
  "language_info": {
   "codemirror_mode": {
    "name": "ipython",
    "version": 3
   },
   "file_extension": ".py",
   "mimetype": "text/x-python",
   "name": "python",
   "nbconvert_exporter": "python",
   "pygments_lexer": "ipython3",
   "version": "3.7.6"
  }
 },
 "nbformat": 4,
 "nbformat_minor": 4
}

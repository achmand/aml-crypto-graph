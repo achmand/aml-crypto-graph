{
 "cells": [
  {
   "cell_type": "code",
   "execution_count": 1,
   "metadata": {},
   "outputs": [],
   "source": [
    "# Importing dependencies\n",
    "import cryptoaml.datareader as cdr\n",
    "from sklearn.metrics import f1_score\n",
    "from cryptoaml.models import XgbBoostAlgo\n",
    "\n",
    "import warnings\n",
    "warnings.filterwarnings(module='sklearn*', action='ignore', category=DeprecationWarning)"
   ]
  },
  {
   "cell_type": "code",
   "execution_count": 2,
   "metadata": {},
   "outputs": [],
   "source": [
    "# create a new instance of Elliptic Dataset\n",
    "ell = cdr.get_data(\"elliptic\", encode_classes=True)\n",
    "af_datasplit = ell.get_data_split(train_perc=0.7, input_feats=\"AF\", inc_unknown=False)"
   ]
  },
  {
   "cell_type": "code",
   "execution_count": 3,
   "metadata": {
    "scrolled": false
   },
   "outputs": [
    {
     "name": "stdout",
     "output_type": "stream",
     "text": [
      "{'base_score': 0.5, 'booster': 'gbtree', 'colsample_bylevel': 1, 'colsample_bynode': 1, 'colsample_bytree': 1, 'gamma': 0, 'learning_rate': 0.1, 'max_delta_step': 0, 'max_depth': 3, 'min_child_weight': 1, 'missing': None, 'n_estimators': 100, 'n_jobs': 1, 'nthread': None, 'objective': 'binary:logistic', 'random_state': 0, 'reg_alpha': 0, 'reg_lambda': 1, 'scale_pos_weight': 1, 'seed': None, 'silent': None, 'subsample': 1, 'verbosity': 1}\n",
      "{'precision': 0.8220793140407289, 'recall': 0.7082179132040628, 'f1': 0.7609126984126984, 'f1_micro': 0.9710857828434313}\n"
     ]
    }
   ],
   "source": [
    "random_grid_tune = {\n",
    "    \"name\": \"random_grid\",\n",
    "    \"cv\": 5,\n",
    "    \"n_iter\": 2,\n",
    "    \"param_grid\" :{\"learning_rate\": [0.1, 0.01, 0.001],\n",
    "                   \"gamma\" : [0.01, 0.1, 0.3, 0.5, 1, 1.5, 2],\n",
    "                   \"max_depth\": [2, 4, 7, 10],\n",
    "                   \"colsample_bytree\": [0.3, 0.6, 0.8, 1.0],\n",
    "                   \"subsample\": [0.2, 0.4, 0.5, 0.6, 0.7],\n",
    "                   \"reg_alpha\": [0, 0.5, 1],\n",
    "                   \"reg_lambda\": [1, 1.5, 2, 3, 4.5],\n",
    "                   \"min_child_weight\": [1, 3, 5, 7],\n",
    "                   \"n_estimators\": [100, 250, 500, 1000]}\n",
    "}\n",
    "\n",
    "xgboost = XgbBoostAlgo()\n",
    "# xgboost.fit(af_datasplit.train_X, af_datasplit.train_y, tune=random_grid_tune)\n",
    "\n",
    "xgboost.fit(af_datasplit.train_X, af_datasplit.train_y)\n",
    "print(xgboost.params)\n",
    "metrics = xgboost.evaluate(metrics=[\"precision\", \"recall\", \"f1\", \"f1_micro\"], \n",
    "                           X_test=af_datasplit.test_X, \n",
    "                           y_test=af_datasplit.test_y)\n",
    "print(metrics)"
   ]
  },
  {
   "cell_type": "code",
   "execution_count": 18,
   "metadata": {},
   "outputs": [
    {
     "name": "stdout",
     "output_type": "stream",
     "text": [
      "        importance\n",
      "LF_89     0.108287\n",
      "LF_4      0.101515\n",
      "LF_52     0.073868\n",
      "LF_39     0.054792\n",
      "AGG_69    0.042751\n",
      "...            ...\n",
      "LF_34     0.000000\n",
      "LF_92     0.000000\n",
      "LF_91     0.000000\n",
      "LF_90     0.000000\n",
      "AGG_18    0.000000\n",
      "\n",
      "[165 rows x 1 columns]\n"
     ]
    }
   ],
   "source": [
    "print(xgboost.feature_importance)\n",
    "\n",
    "# y_pred = xgboost.predict(af_datasplit.test_X)\n",
    "# print(f1_score(af_datasplit.test_y, y_pred, average=\"binary\"))\n",
    "\n",
    "# ###############################"
   ]
  },
  {
   "cell_type": "code",
   "execution_count": 5,
   "metadata": {},
   "outputs": [],
   "source": [
    "# # importing dependencies\n",
    "# import cryptoaml.datareader as cdr\n",
    "# from collections import OrderedDict\n",
    "# from cryptoaml.models import XgbBoostAlgo, LightGbmAlgo\n",
    "\n",
    "# import xgboost as xgb\n",
    "# from sklearn.ensemble import RandomForestClassifier\n",
    "# from sklearn.model_selection import RandomizedSearchCV"
   ]
  },
  {
   "cell_type": "code",
   "execution_count": 6,
   "metadata": {},
   "outputs": [],
   "source": [
    "# # create a new instance of Elliptic Dataset\n",
    "# ell = cdr.get_data(\"elliptic\", \n",
    "#                    encode_classes=True)"
   ]
  },
  {
   "cell_type": "code",
   "execution_count": 7,
   "metadata": {},
   "outputs": [],
   "source": [
    "# # xgbAlgo = XgbBoostAlgo() \n",
    "# # print(xgbAlgo.params)\n",
    "\n",
    "# # lgb = LightGbmAlgo() \n",
    "# # print(lgb.params)\n",
    "# af_datasplit = ell.get_data_split(train_perc=0.7, input_feats=\"AF\", inc_unknown=False)"
   ]
  },
  {
   "cell_type": "code",
   "execution_count": 8,
   "metadata": {
    "scrolled": false
   },
   "outputs": [],
   "source": [
    "# grid_param = {\"learning_rate\"    : [0.05, 0.10, 0.15, 0.20, 0.25, 0.30 ] ,\n",
    "#  \"max_depth\"        : [ 3, 4, 5, 6, 8, 10, 12, 15],\n",
    "#  \"min_child_weight\" : [ 1, 3, 5, 7 ],\n",
    "#  \"gamma\"            : [ 0.0, 0.1, 0.2 , 0.3, 0.4 ],\n",
    "#  \"colsample_bytree\" : [ 0.3, 0.4, 0.5 , 0.7 ] }\n",
    "\n",
    "# classifier = xgb.XGBClassifier()\n",
    "# gd_sr = RandomizedSearchCV(estimator=classifier,\n",
    "#                            param_distributions=grid_param,\n",
    "#                            scoring=\"f1\",\n",
    "#                            n_iter = 10, \n",
    "#                            cv=5,\n",
    "#                            n_jobs=-1)\n",
    "\n",
    "# gd_sr.fit(af_datasplit.train_X, af_datasplit.train_y)"
   ]
  },
  {
   "cell_type": "code",
   "execution_count": 9,
   "metadata": {},
   "outputs": [],
   "source": [
    "# best_parameters = gd_sr.best_params_\n",
    "# print(best_parameters)"
   ]
  },
  {
   "cell_type": "code",
   "execution_count": 10,
   "metadata": {},
   "outputs": [],
   "source": [
    "# best_model = gd_sr.best_estimator_\n",
    "# print(best_model.get_params())"
   ]
  },
  {
   "cell_type": "code",
   "execution_count": 11,
   "metadata": {},
   "outputs": [],
   "source": [
    "# y_pred = best_model.predict(af_datasplit.test_X)"
   ]
  },
  {
   "cell_type": "code",
   "execution_count": 12,
   "metadata": {},
   "outputs": [],
   "source": [
    "# from sklearn.metrics import f1_score\n",
    "# print(f1_score(af_datasplit.test_y, y_pred, average=\"binary\"))"
   ]
  },
  {
   "cell_type": "code",
   "execution_count": 13,
   "metadata": {},
   "outputs": [],
   "source": [
    "# from sklearn.metrics import f1_score\n",
    "# classifier_2 = RandomForestClassifier(n_estimators=50, max_features=50)\n",
    "# classifier_2.fit(af_datasplit.train_X, af_datasplit.train_y)\n",
    "# y_pred_2 = classifier_2.predict(af_datasplit.test_X)\n",
    "# print(f1_score(af_datasplit.test_y, y_pred_2, average=\"binary\"))"
   ]
  },
  {
   "cell_type": "code",
   "execution_count": null,
   "metadata": {},
   "outputs": [],
   "source": []
  }
 ],
 "metadata": {
  "kernelspec": {
   "display_name": "Python [conda env:btc-classifier] *",
   "language": "python",
   "name": "conda-env-btc-classifier-py"
  },
  "language_info": {
   "codemirror_mode": {
    "name": "ipython",
    "version": 3
   },
   "file_extension": ".py",
   "mimetype": "text/x-python",
   "name": "python",
   "nbconvert_exporter": "python",
   "pygments_lexer": "ipython3",
   "version": "3.7.6"
  }
 },
 "nbformat": 4,
 "nbformat_minor": 2
}

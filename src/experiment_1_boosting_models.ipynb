{
 "cells": [
  {
   "cell_type": "code",
   "execution_count": 14,
   "metadata": {},
   "outputs": [],
   "source": [
    "##########################################################################\n",
    "# Experiment 1 \n",
    "##########################################################################\n",
    "#\n",
    "# Hypothesis: 'Wheter boosting algorithms can improve on \n",
    "#              the results obtained by the benchmark model'\n",
    "#\n",
    "# Dataset: Elliptic dataset (BTC Transaction Graph) [Classification]\n",
    "#\n",
    "# Benchmark model: RandomForest '(Anti-Money Laundering in Bitcoin: Experimenting \n",
    "#                                with Graph Convolutional Networks for Financial Forensics)'\n",
    "#\n",
    "# Models: AdaBoost, LogitBoost, GradientBoosting, XGBoost, LightGBM, CatBoost\n",
    "#\n",
    "# Author: Dylan Vassallo <dylan.vassallo.18@um.edu.mt>\n",
    "\n",
    "# Importing dependencies\n",
    "import cryptoaml.datareader as cdr\n",
    "from collections import OrderedDict\n",
    "from cryptoaml.models import (AdaBoostAlgo, \n",
    "                              LogitBoostAlgo,\n",
    "                              GradientBoostAlgo, \n",
    "                              XgbBoostAlgo, \n",
    "                              LightGbmAlgo, \n",
    "                              CatBoostAlgo)\n",
    "\n",
    "# # Suppress deprecation warning due to numpy\n",
    "# import warnings\n",
    "# warnings.filterwarnings(\"ignore\", category=DeprecationWarning) "
   ]
  },
  {
   "cell_type": "code",
   "execution_count": 11,
   "metadata": {},
   "outputs": [],
   "source": [
    "# TODO -> Add verbose to datareader\n",
    "# TODO -> Create function which gets the ordered since I will be using this \n",
    "\n",
    "# Create an ordered dictionary to hold the dataset with different sets of features \n",
    "data_dict = OrderedDict()\n",
    "\n",
    "# Create a new instance of the Elliptic Dataset\n",
    "ell = cdr.get_data(\"elliptic\", encode_classes=True)\n",
    "\n",
    "# Data with local features only \n",
    "lf_data = ell.get_data_split(train_perc=0.7, \n",
    "                             input_feats=\"LF\", \n",
    "                             inc_unknown=False)\n",
    "data_dict[\"LF\"] = lf_data\n",
    "\n",
    "# Data with all features (local features + aggregated features) \n",
    "af_data = ell.get_data_split(train_perc=0.7, \n",
    "                             input_feats=\"AF\", \n",
    "                             inc_unknown=False)\n",
    "data_dict[\"AF\"] = af_data"
   ]
  },
  {
   "cell_type": "code",
   "execution_count": 16,
   "metadata": {},
   "outputs": [],
   "source": [
    "# Create an ordered dictionary to hold the dataset with different sets of features \n",
    "models = OrderedDict()\n",
    "\n",
    "# Create instances for the tested boosting algorithms \n",
    "adaBoost = AdaBoostAlgo()\n",
    "models[\"AdaBoost\"] = adaBoost \n",
    "\n",
    "logitBoost = LogitBoostAlgo()\n",
    "models[\"LogitBoost\"] = logitBoost "
   ]
  },
  {
   "cell_type": "code",
   "execution_count": 3,
   "metadata": {
    "scrolled": false
   },
   "outputs": [],
   "source": [
    "# # random_grid_tune = {\n",
    "# #     \"name\": \"random_grid\",\n",
    "# #     \"cv\": 5,\n",
    "# #     \"n_iter\": 2,\n",
    "# #     \"param_grid\" :{\"learning_rate\": [0.1, 0.01, 0.001],\n",
    "# #                    \"gamma\" : [0.01, 0.1, 0.3, 0.5, 1, 1.5, 2],\n",
    "# #                    \"max_depth\": [2, 4, 7, 10],\n",
    "# #                    \"colsample_bytree\": [0.3, 0.6, 0.8, 1.0],\n",
    "# #                    \"subsample\": [0.2, 0.4, 0.5, 0.6, 0.7],\n",
    "# #                    \"reg_alpha\": [0, 0.5, 1],\n",
    "# #                    \"reg_lambda\": [1, 1.5, 2, 3, 4.5],\n",
    "# #                    \"min_child_weight\": [1, 3, 5, 7],\n",
    "# #                    \"n_estimators\": [100, 250, 500, 1000]}\n",
    "# # }\n",
    "\n",
    "# xgboost = XgbBoostAlgo()\n",
    "# # xgboost.fit(af_datasplit.train_X, af_datasplit.train_y, tune=random_grid_tune)\n",
    "\n",
    "# xgboost.fit(af_datasplit.train_X, af_datasplit.train_y)\n",
    "# print(xgboost.params)\n",
    "# metrics = xgboost.evaluate(metrics=[\"precision\", \"recall\", \"f1\", \"f1_micro\"], \n",
    "#                            X_test=af_datasplit.test_X, \n",
    "#                            y_test=af_datasplit.test_y)\n",
    "# print(metrics)\n",
    "\n",
    "# import pandas as pd\n",
    "# pd.set_option('display.max_rows', 500)\n",
    "# display(xgboost.feature_importance.head())"
   ]
  },
  {
   "cell_type": "code",
   "execution_count": 4,
   "metadata": {},
   "outputs": [],
   "source": [
    "# lightGBM = LightGbmAlgo()\n",
    "\n",
    "# lightGBM.fit(af_datasplit.train_X, af_datasplit.train_y)\n",
    "# print(lightGBM.params)\n",
    "# metrics = lightGBM.evaluate(metrics=[\"precision\", \"recall\", \"f1\", \"f1_micro\"], \n",
    "#                            X_test=af_datasplit.test_X, \n",
    "#                            y_test=af_datasplit.test_y)\n",
    "# print(metrics)\n",
    "\n",
    "# import pandas as pd\n",
    "# pd.set_option('display.max_rows', 500)\n",
    "# display(lightGBM.feature_importance.head())"
   ]
  },
  {
   "cell_type": "code",
   "execution_count": 5,
   "metadata": {},
   "outputs": [],
   "source": [
    "# adaBoost = AdaBoostAlgo()\n",
    "\n",
    "# adaBoost.fit(af_datasplit.train_X, af_datasplit.train_y)\n",
    "# print(adaBoost.params)\n",
    "# metrics = adaBoost.evaluate(metrics=[\"precision\", \"recall\", \"f1\", \"f1_micro\"], \n",
    "#                            X_test=af_datasplit.test_X, \n",
    "#                            y_test=af_datasplit.test_y)\n",
    "# print(metrics)\n",
    "\n",
    "# import pandas as pd\n",
    "# pd.set_option('display.max_rows', 500)\n",
    "# display(adaBoost.feature_importance.head())"
   ]
  },
  {
   "cell_type": "code",
   "execution_count": 6,
   "metadata": {
    "scrolled": false
   },
   "outputs": [],
   "source": [
    "# catBoost = CatBoostAlgo(verbose=0)\n",
    "\n",
    "# catBoost.fit(af_datasplit.train_X, af_datasplit.train_y)\n",
    "# print(catBoost.params)\n",
    "# metrics = catBoost.evaluate(metrics=[\"precision\", \"recall\", \"f1\", \"f1_micro\"], \n",
    "#                            X_test=af_datasplit.test_X, \n",
    "#                            y_test=af_datasplit.test_y)\n",
    "# print(metrics)\n",
    "\n",
    "# import pandas as pd\n",
    "# pd.set_option('display.max_rows', 500)\n",
    "# display(catBoost.feature_importance.tail())"
   ]
  },
  {
   "cell_type": "code",
   "execution_count": 7,
   "metadata": {},
   "outputs": [],
   "source": [
    "# gboost = GradientBoostAlgo()\n",
    "\n",
    "# gboost.fit(af_datasplit.train_X, af_datasplit.train_y)\n",
    "# print(gboost.params)\n",
    "# metrics = gboost.evaluate(metrics=[\"precision\", \"recall\", \"f1\", \"f1_micro\"], \n",
    "#                            X_test=af_datasplit.test_X, \n",
    "#                            y_test=af_datasplit.test_y)\n",
    "# print(metrics)\n",
    "\n",
    "# import pandas as pd\n",
    "# pd.set_option('display.max_rows', 500)\n",
    "# display(gboost.feature_importance.head())"
   ]
  },
  {
   "cell_type": "code",
   "execution_count": 8,
   "metadata": {},
   "outputs": [],
   "source": [
    "# logitBoost = LogitBoostAlgo()\n",
    "\n",
    "# logitBoost.fit(af_datasplit.train_X, af_datasplit.train_y)\n",
    "# print(logitBoost.params)\n",
    "# metrics = logitBoost.evaluate(metrics=[\"precision\", \"recall\", \"f1\", \"f1_micro\"], \n",
    "#                            X_test=af_datasplit.test_X, \n",
    "#                            y_test=af_datasplit.test_y)\n",
    "# print(metrics)\n",
    "\n",
    "# import pandas as pd\n",
    "# pd.set_option('display.max_rows', 500)\n",
    "# display(logitBoost.feature_importance.head())"
   ]
  },
  {
   "cell_type": "code",
   "execution_count": 9,
   "metadata": {
    "scrolled": false
   },
   "outputs": [],
   "source": [
    "# xgboost.save(\"saved_models/experiment_1/xgboost_elliptic_af\")\n",
    "\n",
    "\n",
    "# xgboost_load = XgbBoostAlgo()\n",
    "# xgboost_load.load(\"saved_models/experiment_1/xgboost_elliptic_af\")\n",
    "# print(xgboost_load.params)\n",
    "# metrics = xgboost_load.evaluate(metrics=[\"precision\", \"recall\", \"f1\", \"f1_micro\"], \n",
    "#                            X_test=af_datasplit.test_X, \n",
    "#                            y_test=af_datasplit.test_y)    \n",
    "# print(metrics)\n",
    "# display(xgboost_load.feature_importance.head())\n",
    "\n",
    "# y_pred = xgboost.predict(af_datasplit.test_X)\n",
    "# print(f1_score(af_datasplit.test_y, y_pred, average=\"binary\"))\n",
    "\n",
    "\n",
    "# # ###############################"
   ]
  },
  {
   "cell_type": "code",
   "execution_count": 10,
   "metadata": {},
   "outputs": [],
   "source": [
    "# # importing dependencies\n",
    "# import cryptoaml.datareader as cdr\n",
    "# from collections import OrderedDict\n",
    "# from cryptoaml.models import XgbBoostAlgo, LightGbmAlgo\n",
    "\n",
    "# import xgboost as xgb\n",
    "# from sklearn.ensemble import RandomForestClassifier\n",
    "# from sklearn.model_selection import RandomizedSearchCV"
   ]
  },
  {
   "cell_type": "code",
   "execution_count": 11,
   "metadata": {},
   "outputs": [],
   "source": [
    "# # create a new instance of Elliptic Dataset\n",
    "# ell = cdr.get_data(\"elliptic\", \n",
    "#                    encode_classes=True)"
   ]
  },
  {
   "cell_type": "code",
   "execution_count": 12,
   "metadata": {},
   "outputs": [],
   "source": [
    "# # xgbAlgo = XgbBoostAlgo() \n",
    "# # print(xgbAlgo.params)\n",
    "\n",
    "# # lgb = LightGbmAlgo() \n",
    "# # print(lgb.params)\n",
    "# af_datasplit = ell.get_data_split(train_perc=0.7, input_feats=\"AF\", inc_unknown=False)"
   ]
  },
  {
   "cell_type": "code",
   "execution_count": 13,
   "metadata": {
    "scrolled": false
   },
   "outputs": [],
   "source": [
    "# grid_param = {\"learning_rate\"    : [0.05, 0.10, 0.15, 0.20, 0.25, 0.30 ] ,\n",
    "#  \"max_depth\"        : [ 3, 4, 5, 6, 8, 10, 12, 15],\n",
    "#  \"min_child_weight\" : [ 1, 3, 5, 7 ],\n",
    "#  \"gamma\"            : [ 0.0, 0.1, 0.2 , 0.3, 0.4 ],\n",
    "#  \"colsample_bytree\" : [ 0.3, 0.4, 0.5 , 0.7 ] }\n",
    "\n",
    "# classifier = xgb.XGBClassifier()\n",
    "# gd_sr = RandomizedSearchCV(estimator=classifier,\n",
    "#                            param_distributions=grid_param,\n",
    "#                            scoring=\"f1\",\n",
    "#                            n_iter = 10, \n",
    "#                            cv=5,\n",
    "#                            n_jobs=-1)\n",
    "\n",
    "# gd_sr.fit(af_datasplit.train_X, af_datasplit.train_y)"
   ]
  },
  {
   "cell_type": "code",
   "execution_count": 14,
   "metadata": {},
   "outputs": [],
   "source": [
    "# best_parameters = gd_sr.best_params_\n",
    "# print(best_parameters)"
   ]
  },
  {
   "cell_type": "code",
   "execution_count": 15,
   "metadata": {},
   "outputs": [],
   "source": [
    "# best_model = gd_sr.best_estimator_\n",
    "# print(best_model.get_params())"
   ]
  },
  {
   "cell_type": "code",
   "execution_count": 16,
   "metadata": {},
   "outputs": [],
   "source": [
    "# y_pred = best_model.predict(af_datasplit.test_X)"
   ]
  },
  {
   "cell_type": "code",
   "execution_count": 17,
   "metadata": {},
   "outputs": [],
   "source": [
    "# from sklearn.metrics import f1_score\n",
    "# print(f1_score(af_datasplit.test_y, y_pred, average=\"binary\"))"
   ]
  },
  {
   "cell_type": "code",
   "execution_count": 18,
   "metadata": {},
   "outputs": [],
   "source": [
    "# from sklearn.metrics import f1_score\n",
    "# classifier_2 = RandomForestClassifier(n_estimators=50, max_features=50)\n",
    "# classifier_2.fit(af_datasplit.train_X, af_datasplit.train_y)\n",
    "# y_pred_2 = classifier_2.predict(af_datasplit.test_X)\n",
    "# print(f1_score(af_datasplit.test_y, y_pred_2, average=\"binary\"))"
   ]
  }
 ],
 "metadata": {
  "kernelspec": {
   "display_name": "Python [conda env:btc-classifier] *",
   "language": "python",
   "name": "conda-env-btc-classifier-py"
  },
  "language_info": {
   "codemirror_mode": {
    "name": "ipython",
    "version": 3
   },
   "file_extension": ".py",
   "mimetype": "text/x-python",
   "name": "python",
   "nbconvert_exporter": "python",
   "pygments_lexer": "ipython3",
   "version": "3.7.6"
  }
 },
 "nbformat": 4,
 "nbformat_minor": 2
}

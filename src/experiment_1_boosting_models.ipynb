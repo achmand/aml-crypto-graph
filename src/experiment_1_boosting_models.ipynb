{
 "cells": [
  {
   "cell_type": "code",
   "execution_count": 1,
   "metadata": {},
   "outputs": [
    {
     "name": "stderr",
     "output_type": "stream",
     "text": [
      "/home/delinvas/anaconda3/envs/btc-classifier/lib/python3.7/site-packages/sklearn/utils/deprecation.py:144: FutureWarning: The sklearn.metrics.scorer module is  deprecated in version 0.22 and will be removed in version 0.24. The corresponding classes / functions should instead be imported from sklearn.metrics. Anything that cannot be imported from sklearn.metrics is now part of the private API.\n",
      "  warnings.warn(message, FutureWarning)\n"
     ]
    }
   ],
   "source": [
    "# Importing dependencies\n",
    "import time\n",
    "import numpy as np\n",
    "import cryptoaml.datareader as cdr\n",
    "from collections import OrderedDict\n",
    "# from cryptoaml.models import get_models \n",
    "\n",
    "from cryptoaml.models import XgboostAlgo \n",
    "\n",
    "# from sklearn.ensemble import RandomForestClassifier\n",
    "# from sklearn.metrics import f1_score\n",
    "# from sklearn.model_selection import StratifiedKFold\n",
    "# from evolutionary_search import EvolutionaryAlgorithmSearchCV"
   ]
  },
  {
   "cell_type": "code",
   "execution_count": 2,
   "metadata": {},
   "outputs": [
    {
     "name": "stdout",
     "output_type": "stream",
     "text": [
      "xg_boost\n",
      "{'objective': 'binary:logistic', 'base_score': None, 'booster': None, 'colsample_bylevel': None, 'colsample_bynode': None, 'colsample_bytree': None, 'gamma': None, 'gpu_id': None, 'importance_type': 'gain', 'interaction_constraints': None, 'learning_rate': None, 'max_delta_step': None, 'max_depth': None, 'min_child_weight': None, 'missing': nan, 'monotone_constraints': None, 'n_estimators': 100, 'n_jobs': 2, 'num_parallel_tree': None, 'random_state': None, 'reg_alpha': None, 'reg_lambda': None, 'scale_pos_weight': None, 'subsample': None, 'tree_method': None, 'validate_parameters': False, 'verbosity': None}\n",
      "Types [2, 2, 1, 1, 2, 2, 1, 2] and maxint [3, 2, 2, 2, 2, 2, 2, 3] detected\n",
      "--- Evolve in 11664 possible combinations ---\n",
      "gen\tnevals\tavg     \tmin     \tmax     \tstd      \n",
      "0  \t5     \t0.759872\t0.745214\t0.774006\t0.0111676\n",
      "1  \t3     \t0.756366\t0.744674\t0.774006\t0.00990209\n",
      "2  \t4     \t0.759696\t0.745195\t0.774273\t0.0125228 \n",
      "3  \t4     \t0.768889\t0.747353\t0.774273\t0.0107684 \n",
      "Best individual is: {'learning_rate': 0.2, 'gamma': 0.4, 'max_depth': 3, 'min_child_weight': 12, 'subsample': 0.6, 'colsample_bytree': 0.9, 'reg_alpha': 0, 'reg_lambda': 0.001}\n",
      "with fitness: 0.774273471130643\n"
     ]
    },
    {
     "ename": "ValueError",
     "evalue": "unexpected '{' in field name",
     "output_type": "error",
     "traceback": [
      "\u001b[0;31m---------------------------------------------------------------------------\u001b[0m",
      "\u001b[0;31mValueError\u001b[0m                                Traceback (most recent call last)",
      "\u001b[0;32m<ipython-input-2-b950fb8699b0>\u001b[0m in \u001b[0;36m<module>\u001b[0;34m\u001b[0m\n\u001b[1;32m     30\u001b[0m \u001b[0mxgb\u001b[0m\u001b[0;34m.\u001b[0m\u001b[0mfit\u001b[0m\u001b[0;34m(\u001b[0m\u001b[0mdata_sets\u001b[0m\u001b[0;34m[\u001b[0m\u001b[0;34m\"AF\"\u001b[0m\u001b[0;34m]\u001b[0m\u001b[0;34m.\u001b[0m\u001b[0mtrain_X\u001b[0m\u001b[0;34m,\u001b[0m \u001b[0mdata_sets\u001b[0m\u001b[0;34m[\u001b[0m\u001b[0;34m\"AF\"\u001b[0m\u001b[0;34m]\u001b[0m\u001b[0;34m.\u001b[0m\u001b[0mtrain_y\u001b[0m\u001b[0;34m)\u001b[0m\u001b[0;34m\u001b[0m\u001b[0;34m\u001b[0m\u001b[0m\n\u001b[1;32m     31\u001b[0m \u001b[0mtime2\u001b[0m \u001b[0;34m=\u001b[0m \u001b[0mtime\u001b[0m\u001b[0;34m.\u001b[0m\u001b[0mtime\u001b[0m\u001b[0;34m(\u001b[0m\u001b[0;34m)\u001b[0m\u001b[0;34m\u001b[0m\u001b[0;34m\u001b[0m\u001b[0m\n\u001b[0;32m---> 32\u001b[0;31m \u001b[0mprint\u001b[0m\u001b[0;34m(\u001b[0m\u001b[0;34m'{function took {:.3f} ms'\u001b[0m\u001b[0;34m.\u001b[0m\u001b[0mformat\u001b[0m\u001b[0;34m(\u001b[0m\u001b[0;34m(\u001b[0m\u001b[0mtime2\u001b[0m\u001b[0;34m-\u001b[0m\u001b[0mtime1\u001b[0m\u001b[0;34m)\u001b[0m\u001b[0;34m*\u001b[0m\u001b[0;36m1000.0\u001b[0m\u001b[0;34m)\u001b[0m\u001b[0;34m)\u001b[0m\u001b[0;34m\u001b[0m\u001b[0;34m\u001b[0m\u001b[0m\n\u001b[0m\u001b[1;32m     33\u001b[0m \u001b[0;34m\u001b[0m\u001b[0m\n\u001b[1;32m     34\u001b[0m test_results = xgb.evaluate(metrics=[\"precision\", \"recall\", \"f1\", \"f1_micro\", \"confusion\"],\n",
      "\u001b[0;31mValueError\u001b[0m: unexpected '{' in field name"
     ]
    }
   ],
   "source": [
    "data = cdr.get_data(\"elliptic\")\n",
    "data_sets = data.train_test_split(train_size=0.7, \n",
    "                                  feat_set=[\"AF\"], \n",
    "                                  inc_meta=False)\n",
    "\n",
    "xgb_tune_props = {\n",
    "    \"method\": \"evolutionary_search\",\n",
    "    \"population_size\": 5,\n",
    "    \"generations_number\": 3,\n",
    "    \"n_jobs\": 2,\n",
    "    \"verbose\": 0, \n",
    "    \"param_grid\": {\n",
    "        \"learning_rate\": [0.05, 0.1, 0.2, 0.3], \n",
    "        \"gamma\": [0.0, 0.2, 0.4],\n",
    "        \"max_depth\": [3, 6, 9],\n",
    "        \"min_child_weight\": [1, 6, 12],\n",
    "        \"subsample\": [0.6, 0.7, 0.8],\n",
    "        \"colsample_bytree\": [0.5, 0.7, 0.9],\n",
    "        \"reg_alpha\": [0, 0.5, 1],\n",
    "        \"reg_lambda\": [0.001, 0.05, 0.1, 1]\n",
    "    }\n",
    "}\n",
    "\n",
    "\n",
    "xgb = XgboostAlgo(tune_props=xgb_tune_props, n_jobs=2)\n",
    "print(xgb.model_name_)\n",
    "print(xgb.get_params())\n",
    "\n",
    "time1 = time.time()\n",
    "xgb.fit(data_sets[\"AF\"].train_X, data_sets[\"AF\"].train_y)\n",
    "time2 = time.time()\n",
    "print('{function took {:.3f} ms'.format((time2-time1)*1000.0))\n",
    "\n",
    "test_results = xgb.evaluate(metrics=[\"precision\", \"recall\", \"f1\", \"f1_micro\", \"confusion\"],\n",
    "             X=data_sets[\"LF\"].test_X, \n",
    "             y=data_sets[\"LF\"].test_y)\n",
    "\n",
    "print(test_results)\n",
    "meta, results = xgb.tune_results_\n",
    "\n",
    "print(meta)\n",
    "display(results)"
   ]
  },
  {
   "cell_type": "code",
   "execution_count": 7,
   "metadata": {},
   "outputs": [
    {
     "name": "stdout",
     "output_type": "stream",
     "text": [
      "function took 523134.929 ms\n"
     ]
    }
   ],
   "source": [
    "print('function took {:.3f} ms'.format((time2-time1)*1000.0))\n",
    "# # Create a new instance of the Elliptic Dataset\n",
    "# # and get different feature sets collection\n",
    "# data = cdr.get_data(\"elliptic\")\n",
    "# data_sets = data.train_test_split(train_size=0.7, \n",
    "#                                   feat_set=[\"LF\"], \n",
    "#                                   inc_meta=False)"
   ]
  },
  {
   "cell_type": "code",
   "execution_count": null,
   "metadata": {},
   "outputs": [],
   "source": []
  },
  {
   "cell_type": "code",
   "execution_count": null,
   "metadata": {},
   "outputs": [],
   "source": [
    "# # Models to be tested in experiment \n",
    "# models = get_models([\"xg_boost\"])\n",
    "# models[\"xg_boost\"].model_name"
   ]
  },
  {
   "cell_type": "code",
   "execution_count": null,
   "metadata": {},
   "outputs": [],
   "source": [
    "# ##########################################################################\n",
    "# # Experiment 1 - Hyperparameter tuning  - TODO: Ask about param grid \n",
    "# ##########################################################################\n",
    "\n",
    "# # Hyperparam grids for each model evaluated \n",
    "# param_grids = OrderedDict()\n",
    "\n",
    "# # Hyperparam constants \n",
    "# TUNE_METHOD = \"grid_search\"\n",
    "# TUNE_FOLDS  = 5\n",
    "\n",
    "# # XGBoost param grid\n",
    "# # https://xgboost.readthedocs.io/en/latest/parameter.html\n",
    "# # https://xgboost.readthedocs.io/en/latest/python/python_api.html\n",
    "# # https://www.analyticsvidhya.com/blog/2016/03/complete-guide-parameter-tuning-xgboost-with-codes-python/\n",
    "# scale_pos_weight = (data.label_count[0]/data.label_count[1])\n",
    "# xgboost_tune = {\n",
    "#     \"name\":   TUNE_METHOD,\n",
    "#     \"cv\":     TUNE_FOLDS,\n",
    "#     \"param_grid\": {\n",
    "#         \"learning_rate\": [0.05, 0.1, 0.2, 0.3], \n",
    "#         \"gamma\": [0.0, 0.2, 0.4],\n",
    "#         \"max_depth\": [3, 6, 9],\n",
    "#         \"min_child_weight\": [1, 6, 12],\n",
    "#         \"subsample\": [0.6, 0.7, 0.8],\n",
    "#         \"colsample_bytree\": [0.5, 0.7, 0.9],\n",
    "#         \"reg_alpha\": [0, 0.5, 1],\n",
    "#         \"reg_lambda\": [0.001, 0.05, 0.1, 1],\n",
    "#         \"n_estimators\": [100, 300, 400, 1000],\n",
    "#         \"scale_pos_weight\": [1, scale_pos_weight]\n",
    "#     }\n",
    "# }\n",
    "\n",
    "# param_grids[\"xg_boost\"] = xgboost_tune"
   ]
  },
  {
   "cell_type": "code",
   "execution_count": null,
   "metadata": {},
   "outputs": [],
   "source": [
    "# cv = EvolutionaryAlgorithmSearchCV(estimator=models[\"xg_boost\"],\n",
    "#                                    params=xgboost_tune[\"param_grid\"],\n",
    "#                                    scoring=\"f1\",\n",
    "#                                    cv=StratifiedKFold(n_splits=3),\n",
    "#                                    verbose=1,\n",
    "#                                    population_size=2,\n",
    "#                                    gene_mutation_prob=0.10,\n",
    "#                                    gene_crossover_prob=0.5,\n",
    "#                                    tournament_size=3,\n",
    "#                                    generations_number=5,\n",
    "#                                    n_jobs=4)\n",
    "\n",
    "# cv.fit(data_sets[\"LF\"].train_X, data_sets[\"LF\"].train_y)"
   ]
  },
  {
   "cell_type": "code",
   "execution_count": null,
   "metadata": {},
   "outputs": [],
   "source": [
    "# test = cv.best_estimator_\n",
    "# test.predict(data_sets[\"LF\"].test_X)\n"
   ]
  },
  {
   "cell_type": "code",
   "execution_count": null,
   "metadata": {},
   "outputs": [],
   "source": [
    "# ##########################################################################\n",
    "# # Experiment 1 - Hyperparameter tuning  - TODO: Ask about param grid \n",
    "# ##########################################################################\n",
    "\n",
    "# # Hyperparam grids for each model evaluated \n",
    "# param_grids = OrderedDict()\n",
    "\n",
    "# # Hyperparam constants \n",
    "# TUNE_METHOD = \"grid_search\"\n",
    "# TUNE_FOLDS  = 5\n",
    "\n",
    "# # XGBoost param grid\n",
    "# # https://xgboost.readthedocs.io/en/latest/parameter.html\n",
    "# # https://xgboost.readthedocs.io/en/latest/python/python_api.html\n",
    "# # https://www.analyticsvidhya.com/blog/2016/03/complete-guide-parameter-tuning-xgboost-with-codes-python/\n",
    "# scale_pos_weight = (data.label_count[0]/data.label_count[1])\n",
    "# xgboost_tune = {\n",
    "#     \"name\":   TUNE_METHOD,\n",
    "#     \"cv\":     TUNE_FOLDS,\n",
    "#     \"param_grid\": {\n",
    "#         \"learning_rate\": [0.05, 0.1, 0.2, 0.3], \n",
    "#         \"gamma\": [0.0, 0.2, 0.4],\n",
    "#         \"max_depth\": [3, 6, 9],\n",
    "#         \"min_child_weight\": [1, 6, 12],\n",
    "#         \"subsample\": [0.6, 0.7, 0.8],\n",
    "#         \"colsample_bytree\": [0.5, 0.7, 0.9],\n",
    "#         \"reg_alpha\": [0, 0.5, 1],\n",
    "#         \"reg_lambda\": [0.001, 0.05, 0.1, 1],\n",
    "#         \"n_estimators\": [100, 300, 400, 1000],\n",
    "#         \"scale_pos_weight\": [scale_pos_weight]\n",
    "#     }\n",
    "# }\n",
    "\n",
    "# param_grids[\"xg_boost\"] = xgboost_tune"
   ]
  },
  {
   "cell_type": "code",
   "execution_count": null,
   "metadata": {},
   "outputs": [],
   "source": [
    "# from sklearn.model_selection import StratifiedKFold\n",
    "# from evolutionary_search import EvolutionaryAlgorithmSearchCV\n",
    "\n",
    "# cv = EvolutionaryAlgorithmSearchCV(estimator=models[\"xg_boost\"],\n",
    "#                                    params=xgboost_tune[\"param_grid\"],\n",
    "#                                    scoring=\"accuracy\",\n",
    "#                                    cv=StratifiedKFold(n_splits=5),\n",
    "#                                    verbose=1,\n",
    "#                                    population_size=2,\n",
    "#                                    gene_mutation_prob=0.10,\n",
    "#                                    gene_crossover_prob=0.5,\n",
    "#                                    tournament_size=3,\n",
    "#                                    generations_number=5,\n",
    "#                                    n_jobs=2)\n",
    "\n",
    "# cv.fit(data_sets[\"LF\"].train_X, data_sets[\"LF\"].train_y)"
   ]
  },
  {
   "cell_type": "code",
   "execution_count": null,
   "metadata": {
    "scrolled": false
   },
   "outputs": [],
   "source": [
    "# ##########################################################################\n",
    "# # Experiment 1 - Train/Tune/Evaluate/Save models \n",
    "# ##########################################################################\n",
    "# for data_key, data_value in data_sets.items():\n",
    "#     print(\"\\nTrain/Tune/Evaluate on feature set: {}\".format(data_key))\n",
    "\n",
    "#     # Training set \n",
    "#     tmp_dataset_train_X = data_value.train_X\n",
    "#     tmp_dataset_train_y = data_value.train_y\n",
    "    \n",
    "#     # Test set \n",
    "#     tmp_dataset_test_X = data_value.test_X\n",
    "#     tmp_dataset_test_y = data_value.test_y\n",
    "\n",
    "#     for model_key, model_value in models.items():\n",
    "#         print(\"\\nTrain/Tune: {}\".format(model_key))\n",
    "        \n",
    "#         tmp_grid_tune = param_grids[model_key]\n",
    "#         print(\"\\nParameter Grid: {}\".format(tmp_grid_tune))\n",
    "#         model_value.fit(tmp_dataset_train_X, tmp_dataset_train_y, tune_props=tmp_grid_tune)\n",
    "#         model_value.save(\"saved_models/experiment_1/{}_{}\".format(model_value.model_name, data_key))\n",
    "#         tmp_metrics = model_value.evaluate(metrics=[\"precision\", \"recall\", \"f1\", \"f1_micro\", \"confusion\"], \n",
    "#                                            X_test=tmp_dataset_test_X, \n",
    "#                                            y_test=tmp_dataset_test_y)\n",
    "        \n",
    "#         print(\"\\n Best Params: \" + str(model_value.params))\n",
    "#         print(\"\\n\" + str(tmp_metrics))\n",
    "        \n",
    "#         display(model_value.feature_importance.head())\n",
    "#         display(model_value.feature_importance.tail())\n",
    "#         print(\"----------------------------------------------------\")\n",
    "    \n",
    "#     print(\"*********************************************************\")"
   ]
  }
 ],
 "metadata": {
  "kernelspec": {
   "display_name": "Python [conda env:btc-classifier] *",
   "language": "python",
   "name": "conda-env-btc-classifier-py"
  },
  "language_info": {
   "codemirror_mode": {
    "name": "ipython",
    "version": 3
   },
   "file_extension": ".py",
   "mimetype": "text/x-python",
   "name": "python",
   "nbconvert_exporter": "python",
   "pygments_lexer": "ipython3",
   "version": "3.7.6"
  }
 },
 "nbformat": 4,
 "nbformat_minor": 2
}

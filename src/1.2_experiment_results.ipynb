{
 "cells": [
  {
   "cell_type": "markdown",
   "metadata": {},
   "source": [
    "# NOAA Weather - Results\n",
    "### <i>Experiment 1.2 - Boosting Algorithms vs Random Forest</i> \n",
    "<hr>"
   ]
  },
  {
   "cell_type": "code",
   "execution_count": 1,
   "metadata": {},
   "outputs": [],
   "source": [
    "###### importing dependencies #############################################\n",
    "import matplotlib.pyplot as plt\n",
    "from cryptoaml.utils import read_pickle\n",
    "from IPython.core.display import display, HTML\n",
    "from cryptoaml.metrics import (\n",
    "    results_table, \n",
    "    plot_metric_dist,\n",
    "    plot_feature_imp,\n",
    "    print_model_params, \n",
    "    plot_result_matrices,\n",
    "    display_metrics_stats,\n",
    "    elliptic_time_indexed_results\n",
    ")\n",
    "\n",
    "###### constants ##########################################################\n",
    "EXP_RESULT_PATH     = \"persistence/experiment_1.2/results\"\n",
    "BENCHMARK_RESULTS   = \"{}/{}\".format(EXP_RESULT_PATH, \"benchmark_model_results.pkl\")\n",
    "# BENCHMARK_TUNED_RESULTS = \"{}/{}\".format(EXP_RESULT_PATH, \"tuned_benchmark_results.pkl\")\n",
    "\n",
    "DEFAULT_RESULTS     = \"{}/{}\".format(EXP_RESULT_PATH, \"defaults_models_results.pkl\")\n",
    "TUNED_RESULTS       = \"{}/{}\".format(EXP_RESULT_PATH, \"tuned_models_results.pkl\")"
   ]
  },
  {
   "cell_type": "markdown",
   "metadata": {},
   "source": [
    "<a id='benchmark'></a>\n",
    "## Benchmark Models "
   ]
  },
  {
   "cell_type": "markdown",
   "metadata": {},
   "source": [
    "<a id='benchmark_rf_default'></a>\n",
    "### Random Forest - Default Hyperparameters "
   ]
  },
  {
   "cell_type": "code",
   "execution_count": 2,
   "metadata": {},
   "outputs": [],
   "source": [
    "benchmark_model = \"random_forest\"\n",
    "benchmark_results = read_pickle(BENCHMARK_RESULTS)"
   ]
  },
  {
   "cell_type": "markdown",
   "metadata": {},
   "source": [
    "<a id='benchmark_rf_default_eval'></a>\n",
    "####  RF Default Hyperparameters - Evaluation Metrics\n",
    "- Precision \n",
    "- Recall \n",
    "- <i>F1</i>\n",
    "- <i>F1 Micro Avg/Accuracy<i/>\n",
    "- <i>AUC</i>\n",
    "    \n",
    "<small>\n",
    "    <i>\n",
    "    Italics text refers to metrics which were used in the benchmark paper.\n",
    "    </i>\n",
    "</small>"
   ]
  },
  {
   "cell_type": "code",
   "execution_count": 3,
   "metadata": {},
   "outputs": [
    {
     "name": "stdout",
     "output_type": "stream",
     "text": [
      "Performance metrics for RF benchmark model with default hyperparameters\n"
     ]
    },
    {
     "data": {
      "text/html": [
       "<div>\n",
       "<style scoped>\n",
       "    .dataframe tbody tr th:only-of-type {\n",
       "        vertical-align: middle;\n",
       "    }\n",
       "\n",
       "    .dataframe tbody tr th {\n",
       "        vertical-align: top;\n",
       "    }\n",
       "\n",
       "    .dataframe thead th {\n",
       "        text-align: right;\n",
       "    }\n",
       "</style>\n",
       "<table border=\"1\" class=\"dataframe\">\n",
       "  <thead>\n",
       "    <tr style=\"text-align: right;\">\n",
       "      <th></th>\n",
       "      <th>model</th>\n",
       "      <th>precision</th>\n",
       "      <th>recall</th>\n",
       "      <th>f1_micro</th>\n",
       "      <th>accuracy</th>\n",
       "      <th>auc</th>\n",
       "      <th>f1</th>\n",
       "    </tr>\n",
       "  </thead>\n",
       "  <tbody>\n",
       "    <tr>\n",
       "      <th>0</th>\n",
       "      <td>random_forest_ALL</td>\n",
       "      <td>0.742</td>\n",
       "      <td>0.589</td>\n",
       "      <td>0.78</td>\n",
       "      <td>0.78</td>\n",
       "      <td>0.738</td>\n",
       "      <td>0.657</td>\n",
       "    </tr>\n",
       "  </tbody>\n",
       "</table>\n",
       "</div>"
      ],
      "text/plain": [
       "               model  precision  recall  f1_micro  accuracy    auc     f1\n",
       "0  random_forest_ALL      0.742   0.589      0.78      0.78  0.738  0.657"
      ]
     },
     "metadata": {},
     "output_type": "display_data"
    }
   ],
   "source": [
    "print(\"Performance metrics for RF benchmark model with default hyperparameters\")\n",
    "benchmark_metrics_df = results_table(benchmark_results)\n",
    "display(benchmark_metrics_df)"
   ]
  },
  {
   "cell_type": "markdown",
   "metadata": {},
   "source": [
    "<a id='benchmark_rf_default_stats'></a>\n",
    "#### RF Default Hyperparameters - Evaluation Statistics\n",
    "\n",
    "<i>Note: Since random forest is non-deterministic in nature, we ran the model for 100 iterations and averaged the results. This was done to insure robustness and was also recommended in previous studies.<i/>\n",
    "    \n",
    "Below we show statistics for the evaluation metrics."
   ]
  },
  {
   "cell_type": "code",
   "execution_count": 4,
   "metadata": {},
   "outputs": [
    {
     "name": "stdout",
     "output_type": "stream",
     "text": [
      "'random_forest' on 'ALL' feature set - performance metrics stats\n"
     ]
    },
    {
     "data": {
      "text/html": [
       "<div>\n",
       "<style scoped>\n",
       "    .dataframe tbody tr th:only-of-type {\n",
       "        vertical-align: middle;\n",
       "    }\n",
       "\n",
       "    .dataframe tbody tr th {\n",
       "        vertical-align: top;\n",
       "    }\n",
       "\n",
       "    .dataframe thead th {\n",
       "        text-align: right;\n",
       "    }\n",
       "</style>\n",
       "<table border=\"1\" class=\"dataframe\">\n",
       "  <thead>\n",
       "    <tr style=\"text-align: right;\">\n",
       "      <th></th>\n",
       "      <th>iteration</th>\n",
       "      <th>precision</th>\n",
       "      <th>recall</th>\n",
       "      <th>f1_micro</th>\n",
       "      <th>accuracy</th>\n",
       "      <th>auc</th>\n",
       "      <th>f1</th>\n",
       "    </tr>\n",
       "  </thead>\n",
       "  <tbody>\n",
       "    <tr>\n",
       "      <th>count</th>\n",
       "      <td>100.000000</td>\n",
       "      <td>100.000000</td>\n",
       "      <td>100.000000</td>\n",
       "      <td>100.000000</td>\n",
       "      <td>100.000000</td>\n",
       "      <td>100.000000</td>\n",
       "      <td>100.000000</td>\n",
       "    </tr>\n",
       "    <tr>\n",
       "      <th>mean</th>\n",
       "      <td>49.500000</td>\n",
       "      <td>0.742318</td>\n",
       "      <td>0.588759</td>\n",
       "      <td>0.780177</td>\n",
       "      <td>0.780177</td>\n",
       "      <td>0.737618</td>\n",
       "      <td>0.656654</td>\n",
       "    </tr>\n",
       "    <tr>\n",
       "      <th>std</th>\n",
       "      <td>29.011492</td>\n",
       "      <td>0.005072</td>\n",
       "      <td>0.005696</td>\n",
       "      <td>0.002122</td>\n",
       "      <td>0.002122</td>\n",
       "      <td>0.002490</td>\n",
       "      <td>0.003710</td>\n",
       "    </tr>\n",
       "    <tr>\n",
       "      <th>min</th>\n",
       "      <td>0.000000</td>\n",
       "      <td>0.728814</td>\n",
       "      <td>0.574150</td>\n",
       "      <td>0.775694</td>\n",
       "      <td>0.775694</td>\n",
       "      <td>0.732144</td>\n",
       "      <td>0.648618</td>\n",
       "    </tr>\n",
       "    <tr>\n",
       "      <th>25%</th>\n",
       "      <td>24.750000</td>\n",
       "      <td>0.739403</td>\n",
       "      <td>0.585350</td>\n",
       "      <td>0.778774</td>\n",
       "      <td>0.778774</td>\n",
       "      <td>0.735690</td>\n",
       "      <td>0.653771</td>\n",
       "    </tr>\n",
       "    <tr>\n",
       "      <th>50%</th>\n",
       "      <td>49.500000</td>\n",
       "      <td>0.742419</td>\n",
       "      <td>0.589083</td>\n",
       "      <td>0.780107</td>\n",
       "      <td>0.780107</td>\n",
       "      <td>0.737622</td>\n",
       "      <td>0.656908</td>\n",
       "    </tr>\n",
       "    <tr>\n",
       "      <th>75%</th>\n",
       "      <td>74.250000</td>\n",
       "      <td>0.745346</td>\n",
       "      <td>0.592688</td>\n",
       "      <td>0.781577</td>\n",
       "      <td>0.781577</td>\n",
       "      <td>0.739166</td>\n",
       "      <td>0.659039</td>\n",
       "    </tr>\n",
       "    <tr>\n",
       "      <th>max</th>\n",
       "      <td>99.000000</td>\n",
       "      <td>0.754564</td>\n",
       "      <td>0.604016</td>\n",
       "      <td>0.785255</td>\n",
       "      <td>0.785255</td>\n",
       "      <td>0.744101</td>\n",
       "      <td>0.666477</td>\n",
       "    </tr>\n",
       "  </tbody>\n",
       "</table>\n",
       "</div>"
      ],
      "text/plain": [
       "        iteration   precision      recall    f1_micro    accuracy         auc  \\\n",
       "count  100.000000  100.000000  100.000000  100.000000  100.000000  100.000000   \n",
       "mean    49.500000    0.742318    0.588759    0.780177    0.780177    0.737618   \n",
       "std     29.011492    0.005072    0.005696    0.002122    0.002122    0.002490   \n",
       "min      0.000000    0.728814    0.574150    0.775694    0.775694    0.732144   \n",
       "25%     24.750000    0.739403    0.585350    0.778774    0.778774    0.735690   \n",
       "50%     49.500000    0.742419    0.589083    0.780107    0.780107    0.737622   \n",
       "75%     74.250000    0.745346    0.592688    0.781577    0.781577    0.739166   \n",
       "max     99.000000    0.754564    0.604016    0.785255    0.785255    0.744101   \n",
       "\n",
       "               f1  \n",
       "count  100.000000  \n",
       "mean     0.656654  \n",
       "std      0.003710  \n",
       "min      0.648618  \n",
       "25%      0.653771  \n",
       "50%      0.656908  \n",
       "75%      0.659039  \n",
       "max      0.666477  "
      ]
     },
     "metadata": {},
     "output_type": "display_data"
    },
    {
     "data": {
      "image/png": "[encoded data removed]",
      "text/plain": [
       "<Figure size 1224x576 with 1 Axes>"
      ]
     },
     "metadata": {
      "needs_background": "light"
     },
     "output_type": "display_data"
    }
   ],
   "source": [
    "display_metrics_stats(benchmark_results)\n",
    "plot_metric_dist(benchmark_results, \"f1\", figsize=(17,8))"
   ]
  },
  {
   "cell_type": "markdown",
   "metadata": {},
   "source": [
    "<a id='benchmark_rf_default_matrix'></a>\n",
    "####  RF Default Hyperparameters - Confusion Matrix"
   ]
  },
  {
   "cell_type": "code",
   "execution_count": 5,
   "metadata": {},
   "outputs": [
    {
     "data": {
      "image/png": "[encoded data removed]",
      "text/plain": [
       "<Figure size 432x360 with 2 Axes>"
      ]
     },
     "metadata": {},
     "output_type": "display_data"
    }
   ],
   "source": [
    "plot_result_matrices(benchmark_results, figsize=(6,5))"
   ]
  },
  {
   "cell_type": "markdown",
   "metadata": {},
   "source": [
    "## Boosting Algorithms\n",
    "- [XGBoost: eXtreme Gradient Boosting](https://xgboost.readthedocs.io/en/latest/) \n",
    "- [LightGBM: Light Gradient Boosting Machine](https://lightgbm.readthedocs.io/en/latest/) \n",
    "- [CatBoost](https://catboost.ai/)"
   ]
  },
  {
   "cell_type": "markdown",
   "metadata": {},
   "source": [
    "### Boosting Algorithms - Default Hyperparameters"
   ]
  },
  {
   "cell_type": "code",
   "execution_count": 6,
   "metadata": {},
   "outputs": [],
   "source": [
    "default_results = read_pickle(DEFAULT_RESULTS)"
   ]
  },
  {
   "cell_type": "markdown",
   "metadata": {},
   "source": [
    "#### Boosting Default Hyperparameters - Evaluation Metrics\n",
    "- <i>Precision</i> \n",
    "- <i>Recall</i> \n",
    "- <i>F1</i>\n",
    "- <i>F1 Micro Avg/Accuracy<i/>\n",
    "- AUC\n",
    "    \n",
    "<small>\n",
    "    <i>\n",
    "    Italics text refers to metrics which were used in the benchmark paper.\n",
    "    </i>\n",
    "</small>`"
   ]
  },
  {
   "cell_type": "code",
   "execution_count": 7,
   "metadata": {},
   "outputs": [
    {
     "name": "stdout",
     "output_type": "stream",
     "text": [
      "Performance metrics for defaults boosting models\n"
     ]
    },
    {
     "data": {
      "text/html": [
       "<div>\n",
       "<style scoped>\n",
       "    .dataframe tbody tr th:only-of-type {\n",
       "        vertical-align: middle;\n",
       "    }\n",
       "\n",
       "    .dataframe tbody tr th {\n",
       "        vertical-align: top;\n",
       "    }\n",
       "\n",
       "    .dataframe thead th {\n",
       "        text-align: right;\n",
       "    }\n",
       "</style>\n",
       "<table border=\"1\" class=\"dataframe\">\n",
       "  <thead>\n",
       "    <tr style=\"text-align: right;\">\n",
       "      <th></th>\n",
       "      <th>model</th>\n",
       "      <th>precision</th>\n",
       "      <th>recall</th>\n",
       "      <th>f1_micro</th>\n",
       "      <th>accuracy</th>\n",
       "      <th>auc</th>\n",
       "      <th>f1</th>\n",
       "    </tr>\n",
       "  </thead>\n",
       "  <tbody>\n",
       "    <tr>\n",
       "      <th>0</th>\n",
       "      <td>xg_boost_ALL</td>\n",
       "      <td>0.729</td>\n",
       "      <td>0.594</td>\n",
       "      <td>0.776</td>\n",
       "      <td>0.776</td>\n",
       "      <td>0.736</td>\n",
       "      <td>0.655</td>\n",
       "    </tr>\n",
       "    <tr>\n",
       "      <th>1</th>\n",
       "      <td>light_boost_ALL</td>\n",
       "      <td>0.735</td>\n",
       "      <td>0.617</td>\n",
       "      <td>0.784</td>\n",
       "      <td>0.784</td>\n",
       "      <td>0.747</td>\n",
       "      <td>0.671</td>\n",
       "    </tr>\n",
       "    <tr>\n",
       "      <th>2</th>\n",
       "      <td>cat_boost_ALL</td>\n",
       "      <td>0.748</td>\n",
       "      <td>0.630</td>\n",
       "      <td>0.792</td>\n",
       "      <td>0.792</td>\n",
       "      <td>0.756</td>\n",
       "      <td>0.684</td>\n",
       "    </tr>\n",
       "  </tbody>\n",
       "</table>\n",
       "</div>"
      ],
      "text/plain": [
       "             model  precision  recall  f1_micro  accuracy    auc     f1\n",
       "0     xg_boost_ALL      0.729   0.594     0.776     0.776  0.736  0.655\n",
       "1  light_boost_ALL      0.735   0.617     0.784     0.784  0.747  0.671\n",
       "2    cat_boost_ALL      0.748   0.630     0.792     0.792  0.756  0.684"
      ]
     },
     "metadata": {},
     "output_type": "display_data"
    },
    {
     "name": "stdout",
     "output_type": "stream",
     "text": [
      "Performance metrics for defaults boosting models sorted by f1-score\n"
     ]
    },
    {
     "data": {
      "text/html": [
       "<div>\n",
       "<style scoped>\n",
       "    .dataframe tbody tr th:only-of-type {\n",
       "        vertical-align: middle;\n",
       "    }\n",
       "\n",
       "    .dataframe tbody tr th {\n",
       "        vertical-align: top;\n",
       "    }\n",
       "\n",
       "    .dataframe thead th {\n",
       "        text-align: right;\n",
       "    }\n",
       "</style>\n",
       "<table border=\"1\" class=\"dataframe\">\n",
       "  <thead>\n",
       "    <tr style=\"text-align: right;\">\n",
       "      <th></th>\n",
       "      <th>model</th>\n",
       "      <th>precision</th>\n",
       "      <th>recall</th>\n",
       "      <th>f1_micro</th>\n",
       "      <th>accuracy</th>\n",
       "      <th>auc</th>\n",
       "      <th>f1</th>\n",
       "    </tr>\n",
       "  </thead>\n",
       "  <tbody>\n",
       "    <tr>\n",
       "      <th>2</th>\n",
       "      <td>cat_boost_ALL</td>\n",
       "      <td>0.748</td>\n",
       "      <td>0.630</td>\n",
       "      <td>0.792</td>\n",
       "      <td>0.792</td>\n",
       "      <td>0.756</td>\n",
       "      <td>0.684</td>\n",
       "    </tr>\n",
       "    <tr>\n",
       "      <th>1</th>\n",
       "      <td>light_boost_ALL</td>\n",
       "      <td>0.735</td>\n",
       "      <td>0.617</td>\n",
       "      <td>0.784</td>\n",
       "      <td>0.784</td>\n",
       "      <td>0.747</td>\n",
       "      <td>0.671</td>\n",
       "    </tr>\n",
       "    <tr>\n",
       "      <th>0</th>\n",
       "      <td>xg_boost_ALL</td>\n",
       "      <td>0.729</td>\n",
       "      <td>0.594</td>\n",
       "      <td>0.776</td>\n",
       "      <td>0.776</td>\n",
       "      <td>0.736</td>\n",
       "      <td>0.655</td>\n",
       "    </tr>\n",
       "  </tbody>\n",
       "</table>\n",
       "</div>"
      ],
      "text/plain": [
       "             model  precision  recall  f1_micro  accuracy    auc     f1\n",
       "2    cat_boost_ALL      0.748   0.630     0.792     0.792  0.756  0.684\n",
       "1  light_boost_ALL      0.735   0.617     0.784     0.784  0.747  0.671\n",
       "0     xg_boost_ALL      0.729   0.594     0.776     0.776  0.736  0.655"
      ]
     },
     "metadata": {},
     "output_type": "display_data"
    }
   ],
   "source": [
    "print(\"Performance metrics for defaults boosting models\")\n",
    "defaults_metrics_df = results_table(default_results)\n",
    "display(defaults_metrics_df)\n",
    "\n",
    "print(\"Performance metrics for defaults boosting models sorted by f1-score\")\n",
    "display(defaults_metrics_df.sort_values(\"f1\", ascending=False))"
   ]
  },
  {
   "cell_type": "markdown",
   "metadata": {},
   "source": [
    "#### Boosting Default Hyperparameters - Confusion Matrices"
   ]
  },
  {
   "cell_type": "code",
   "execution_count": 8,
   "metadata": {
    "scrolled": false
   },
   "outputs": [
    {
     "data": {
      "image/png": "[encoded data removed]",
      "text/plain": [
       "<Figure size 1224x288 with 6 Axes>"
      ]
     },
     "metadata": {},
     "output_type": "display_data"
    }
   ],
   "source": [
    "plot_result_matrices(default_results, figsize=(17,4), columns=3)"
   ]
  },
  {
   "cell_type": "markdown",
   "metadata": {},
   "source": [
    "#### Boosting Default Hyperparameters - F1 Results over Test Span"
   ]
  },
  {
   "cell_type": "code",
   "execution_count": 9,
   "metadata": {},
   "outputs": [],
   "source": [
    "# in this plot we also display benchmark model\n",
    "# tmp_results = {**benchmark_results, **default_results}\n",
    "# elliptic_time_indexed_results(default_results)"
   ]
  },
  {
   "cell_type": "markdown",
   "metadata": {},
   "source": [
    "### Boosting Algorithms - Tuned Hyperparameters "
   ]
  },
  {
   "cell_type": "code",
   "execution_count": 10,
   "metadata": {},
   "outputs": [],
   "source": [
    "tuned_results = read_pickle(TUNED_RESULTS)"
   ]
  },
  {
   "cell_type": "markdown",
   "metadata": {},
   "source": [
    "#### Boosting Tuned Hyperparameters - Evaluation Metrics\n",
    "- <i>Precision</i> \n",
    "- <i>Recall</i> \n",
    "- <i>F1</i>\n",
    "- <i>F1 Micro Avg/Accuracy<i/>\n",
    "- AUC\n",
    "    \n",
    "<small>\n",
    "    <i>\n",
    "    Italics text refers to metrics which were used in the benchmark paper.\n",
    "    </i>\n",
    "</small>"
   ]
  },
  {
   "cell_type": "code",
   "execution_count": 11,
   "metadata": {},
   "outputs": [
    {
     "name": "stdout",
     "output_type": "stream",
     "text": [
      "Performance metrics for tuned boosting models\n"
     ]
    },
    {
     "data": {
      "text/html": [
       "<div>\n",
       "<style scoped>\n",
       "    .dataframe tbody tr th:only-of-type {\n",
       "        vertical-align: middle;\n",
       "    }\n",
       "\n",
       "    .dataframe tbody tr th {\n",
       "        vertical-align: top;\n",
       "    }\n",
       "\n",
       "    .dataframe thead th {\n",
       "        text-align: right;\n",
       "    }\n",
       "</style>\n",
       "<table border=\"1\" class=\"dataframe\">\n",
       "  <thead>\n",
       "    <tr style=\"text-align: right;\">\n",
       "      <th></th>\n",
       "      <th>model</th>\n",
       "      <th>precision</th>\n",
       "      <th>recall</th>\n",
       "      <th>f1_micro</th>\n",
       "      <th>accuracy</th>\n",
       "      <th>auc</th>\n",
       "      <th>f1</th>\n",
       "    </tr>\n",
       "  </thead>\n",
       "  <tbody>\n",
       "    <tr>\n",
       "      <th>0</th>\n",
       "      <td>xg_boost_ALL</td>\n",
       "      <td>0.748</td>\n",
       "      <td>0.615</td>\n",
       "      <td>0.789</td>\n",
       "      <td>0.789</td>\n",
       "      <td>0.750</td>\n",
       "      <td>0.675</td>\n",
       "    </tr>\n",
       "    <tr>\n",
       "      <th>1</th>\n",
       "      <td>light_boost_ALL</td>\n",
       "      <td>0.747</td>\n",
       "      <td>0.643</td>\n",
       "      <td>0.795</td>\n",
       "      <td>0.795</td>\n",
       "      <td>0.761</td>\n",
       "      <td>0.691</td>\n",
       "    </tr>\n",
       "    <tr>\n",
       "      <th>2</th>\n",
       "      <td>cat_boost_ALL</td>\n",
       "      <td>0.752</td>\n",
       "      <td>0.623</td>\n",
       "      <td>0.792</td>\n",
       "      <td>0.792</td>\n",
       "      <td>0.754</td>\n",
       "      <td>0.681</td>\n",
       "    </tr>\n",
       "  </tbody>\n",
       "</table>\n",
       "</div>"
      ],
      "text/plain": [
       "             model  precision  recall  f1_micro  accuracy    auc     f1\n",
       "0     xg_boost_ALL      0.748   0.615     0.789     0.789  0.750  0.675\n",
       "1  light_boost_ALL      0.747   0.643     0.795     0.795  0.761  0.691\n",
       "2    cat_boost_ALL      0.752   0.623     0.792     0.792  0.754  0.681"
      ]
     },
     "metadata": {},
     "output_type": "display_data"
    },
    {
     "name": "stdout",
     "output_type": "stream",
     "text": [
      "Performance metrics for tuned boosting models sorted by f1-score\n"
     ]
    },
    {
     "data": {
      "text/html": [
       "<div>\n",
       "<style scoped>\n",
       "    .dataframe tbody tr th:only-of-type {\n",
       "        vertical-align: middle;\n",
       "    }\n",
       "\n",
       "    .dataframe tbody tr th {\n",
       "        vertical-align: top;\n",
       "    }\n",
       "\n",
       "    .dataframe thead th {\n",
       "        text-align: right;\n",
       "    }\n",
       "</style>\n",
       "<table border=\"1\" class=\"dataframe\">\n",
       "  <thead>\n",
       "    <tr style=\"text-align: right;\">\n",
       "      <th></th>\n",
       "      <th>model</th>\n",
       "      <th>precision</th>\n",
       "      <th>recall</th>\n",
       "      <th>f1_micro</th>\n",
       "      <th>accuracy</th>\n",
       "      <th>auc</th>\n",
       "      <th>f1</th>\n",
       "    </tr>\n",
       "  </thead>\n",
       "  <tbody>\n",
       "    <tr>\n",
       "      <th>1</th>\n",
       "      <td>light_boost_ALL</td>\n",
       "      <td>0.747</td>\n",
       "      <td>0.643</td>\n",
       "      <td>0.795</td>\n",
       "      <td>0.795</td>\n",
       "      <td>0.761</td>\n",
       "      <td>0.691</td>\n",
       "    </tr>\n",
       "    <tr>\n",
       "      <th>2</th>\n",
       "      <td>cat_boost_ALL</td>\n",
       "      <td>0.752</td>\n",
       "      <td>0.623</td>\n",
       "      <td>0.792</td>\n",
       "      <td>0.792</td>\n",
       "      <td>0.754</td>\n",
       "      <td>0.681</td>\n",
       "    </tr>\n",
       "    <tr>\n",
       "      <th>0</th>\n",
       "      <td>xg_boost_ALL</td>\n",
       "      <td>0.748</td>\n",
       "      <td>0.615</td>\n",
       "      <td>0.789</td>\n",
       "      <td>0.789</td>\n",
       "      <td>0.750</td>\n",
       "      <td>0.675</td>\n",
       "    </tr>\n",
       "  </tbody>\n",
       "</table>\n",
       "</div>"
      ],
      "text/plain": [
       "             model  precision  recall  f1_micro  accuracy    auc     f1\n",
       "1  light_boost_ALL      0.747   0.643     0.795     0.795  0.761  0.691\n",
       "2    cat_boost_ALL      0.752   0.623     0.792     0.792  0.754  0.681\n",
       "0     xg_boost_ALL      0.748   0.615     0.789     0.789  0.750  0.675"
      ]
     },
     "metadata": {},
     "output_type": "display_data"
    }
   ],
   "source": [
    "# dataframe with all the perfomance metrics\n",
    "print(\"Performance metrics for tuned boosting models\")\n",
    "tuned_metrics_df = results_table(tuned_results)\n",
    "display(tuned_metrics_df)\n",
    "\n",
    "# sorted by f1 score/home/delinvas/repos/aml-crypto-graph/src/cryptoaml/datareader/_elliptic_dr.py\n",
    "print(\"Performance metrics for tuned boosting models sorted by f1-score\")\n",
    "display(tuned_metrics_df.sort_values(\"f1\", ascending=False))"
   ]
  }
 ],
 "metadata": {
  "kernelspec": {
   "display_name": "Python [conda env:btc-classifier] *",
   "language": "python",
   "name": "conda-env-btc-classifier-py"
  },
  "language_info": {
   "codemirror_mode": {
    "name": "ipython",
    "version": 3
   },
   "file_extension": ".py",
   "mimetype": "text/x-python",
   "name": "python",
   "nbconvert_exporter": "python",
   "pygments_lexer": "ipython3",
   "version": "3.7.6"
  }
 },
 "nbformat": 4,
 "nbformat_minor": 4
}

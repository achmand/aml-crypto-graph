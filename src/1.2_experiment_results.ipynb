{
 "cells": [
  {
   "cell_type": "markdown",
   "metadata": {},
   "source": [
    "# NOAA Weather - Results\n",
    "### <i>Experiment 1.2 - Boosting Algorithms vs Random Forest</i> \n",
    "<hr>"
   ]
  },
  {
   "cell_type": "code",
   "execution_count": 1,
   "metadata": {},
   "outputs": [],
   "source": [
    "###### importing dependencies #############################################\n",
    "import matplotlib.pyplot as plt\n",
    "from cryptoaml.utils import read_pickle\n",
    "from IPython.core.display import display, HTML\n",
    "from cryptoaml.metrics import (\n",
    "    results_table, \n",
    "    plot_metric_dist,\n",
    "    plot_feature_imp,\n",
    "    print_model_params, \n",
    "    plot_result_matrices,\n",
    "    display_metrics_stats,\n",
    "    elliptic_time_indexed_results\n",
    ")\n",
    "\n",
    "###### constants ##########################################################\n",
    "EXP_RESULT_PATH     = \"persistence/experiment_1.2/results\"\n",
    "BENCHMARK_RESULTS   = \"{}/{}\".format(EXP_RESULT_PATH, \"benchmark_model_results.pkl\")\n",
    "BENCHMARK_TUNED_RESULTS = \"{}/{}\".format(EXP_RESULT_PATH, \"tuned_benchmark_results.pkl\")\n",
    "\n",
    "DEFAULT_RESULTS     = \"{}/{}\".format(EXP_RESULT_PATH, \"defaults_models_results.pkl\")\n",
    "TUNED_RESULTS       = \"{}/{}\".format(EXP_RESULT_PATH, \"tuned_models_results.pkl\")"
   ]
  },
  {
   "cell_type": "markdown",
   "metadata": {},
   "source": [
    "<a id='benchmark'></a>\n",
    "## Benchmark Models "
   ]
  },
  {
   "cell_type": "markdown",
   "metadata": {},
   "source": [
    "<a id='benchmark_rf_default'></a>\n",
    "### Random Forest - Default Hyperparameters "
   ]
  },
  {
   "cell_type": "code",
   "execution_count": 2,
   "metadata": {},
   "outputs": [],
   "source": [
    "benchmark_model = \"random_forest\"\n",
    "benchmark_results = read_pickle(BENCHMARK_RESULTS)"
   ]
  },
  {
   "cell_type": "markdown",
   "metadata": {},
   "source": [
    "<a id='benchmark_rf_default_eval'></a>\n",
    "####  RF Default Hyperparameters - Evaluation Metrics\n",
    "- Precision \n",
    "- Recall \n",
    "- <i>F1</i>\n",
    "- <i>F1 Micro Avg/Accuracy<i/>\n",
    "- <i>AUC</i>\n",
    "    \n",
    "<small>\n",
    "    <i>\n",
    "    Italics text refers to metrics which were used in the benchmark paper.\n",
    "    </i>\n",
    "</small>"
   ]
  },
  {
   "cell_type": "code",
   "execution_count": 3,
   "metadata": {},
   "outputs": [
    {
     "name": "stdout",
     "output_type": "stream",
     "text": [
      "Performance metrics for RF benchmark model with default hyperparameters\n"
     ]
    },
    {
     "data": {
      "text/html": [
       "<div>\n",
       "<style scoped>\n",
       "    .dataframe tbody tr th:only-of-type {\n",
       "        vertical-align: middle;\n",
       "    }\n",
       "\n",
       "    .dataframe tbody tr th {\n",
       "        vertical-align: top;\n",
       "    }\n",
       "\n",
       "    .dataframe thead th {\n",
       "        text-align: right;\n",
       "    }\n",
       "</style>\n",
       "<table border=\"1\" class=\"dataframe\">\n",
       "  <thead>\n",
       "    <tr style=\"text-align: right;\">\n",
       "      <th></th>\n",
       "      <th>model</th>\n",
       "      <th>precision</th>\n",
       "      <th>recall</th>\n",
       "      <th>f1_micro</th>\n",
       "      <th>accuracy</th>\n",
       "      <th>auc</th>\n",
       "      <th>f1</th>\n",
       "    </tr>\n",
       "  </thead>\n",
       "  <tbody>\n",
       "    <tr>\n",
       "      <th>0</th>\n",
       "      <td>random_forest_ALL</td>\n",
       "      <td>0.742</td>\n",
       "      <td>0.589</td>\n",
       "      <td>0.78</td>\n",
       "      <td>0.78</td>\n",
       "      <td>0.738</td>\n",
       "      <td>0.657</td>\n",
       "    </tr>\n",
       "  </tbody>\n",
       "</table>\n",
       "</div>"
      ],
      "text/plain": [
       "               model  precision  recall  f1_micro  accuracy    auc     f1\n",
       "0  random_forest_ALL      0.742   0.589      0.78      0.78  0.738  0.657"
      ]
     },
     "metadata": {},
     "output_type": "display_data"
    }
   ],
   "source": [
    "print(\"Performance metrics for RF benchmark model with default hyperparameters\")\n",
    "benchmark_metrics_df = results_table(benchmark_results)\n",
    "display(benchmark_metrics_df)"
   ]
  },
  {
   "cell_type": "markdown",
   "metadata": {},
   "source": [
    "<a id='benchmark_rf_default_stats'></a>\n",
    "#### RF Default Hyperparameters - Evaluation Statistics\n",
    "\n",
    "<i>Note: Since random forest is non-deterministic in nature, we ran the model for 100 iterations and averaged the results. This was done to insure robustness and was also recommended in previous studies.<i/>\n",
    "    \n",
    "Below we show statistics for the evaluation metrics."
   ]
  },
  {
   "cell_type": "code",
   "execution_count": 4,
   "metadata": {},
   "outputs": [
    {
     "name": "stdout",
     "output_type": "stream",
     "text": [
      "'random_forest' on 'ALL' feature set - performance metrics stats\n"
     ]
    },
    {
     "data": {
      "text/html": [
       "<div>\n",
       "<style scoped>\n",
       "    .dataframe tbody tr th:only-of-type {\n",
       "        vertical-align: middle;\n",
       "    }\n",
       "\n",
       "    .dataframe tbody tr th {\n",
       "        vertical-align: top;\n",
       "    }\n",
       "\n",
       "    .dataframe thead th {\n",
       "        text-align: right;\n",
       "    }\n",
       "</style>\n",
       "<table border=\"1\" class=\"dataframe\">\n",
       "  <thead>\n",
       "    <tr style=\"text-align: right;\">\n",
       "      <th></th>\n",
       "      <th>iteration</th>\n",
       "      <th>precision</th>\n",
       "      <th>recall</th>\n",
       "      <th>f1_micro</th>\n",
       "      <th>accuracy</th>\n",
       "      <th>auc</th>\n",
       "      <th>f1</th>\n",
       "    </tr>\n",
       "  </thead>\n",
       "  <tbody>\n",
       "    <tr>\n",
       "      <th>count</th>\n",
       "      <td>100.000000</td>\n",
       "      <td>100.000000</td>\n",
       "      <td>100.000000</td>\n",
       "      <td>100.000000</td>\n",
       "      <td>100.000000</td>\n",
       "      <td>100.000000</td>\n",
       "      <td>100.000000</td>\n",
       "    </tr>\n",
       "    <tr>\n",
       "      <th>mean</th>\n",
       "      <td>49.500000</td>\n",
       "      <td>0.742318</td>\n",
       "      <td>0.588759</td>\n",
       "      <td>0.780177</td>\n",
       "      <td>0.780177</td>\n",
       "      <td>0.737618</td>\n",
       "      <td>0.656654</td>\n",
       "    </tr>\n",
       "    <tr>\n",
       "      <th>std</th>\n",
       "      <td>29.011492</td>\n",
       "      <td>0.005072</td>\n",
       "      <td>0.005696</td>\n",
       "      <td>0.002122</td>\n",
       "      <td>0.002122</td>\n",
       "      <td>0.002490</td>\n",
       "      <td>0.003710</td>\n",
       "    </tr>\n",
       "    <tr>\n",
       "      <th>min</th>\n",
       "      <td>0.000000</td>\n",
       "      <td>0.728814</td>\n",
       "      <td>0.574150</td>\n",
       "      <td>0.775694</td>\n",
       "      <td>0.775694</td>\n",
       "      <td>0.732144</td>\n",
       "      <td>0.648618</td>\n",
       "    </tr>\n",
       "    <tr>\n",
       "      <th>25%</th>\n",
       "      <td>24.750000</td>\n",
       "      <td>0.739403</td>\n",
       "      <td>0.585350</td>\n",
       "      <td>0.778774</td>\n",
       "      <td>0.778774</td>\n",
       "      <td>0.735690</td>\n",
       "      <td>0.653771</td>\n",
       "    </tr>\n",
       "    <tr>\n",
       "      <th>50%</th>\n",
       "      <td>49.500000</td>\n",
       "      <td>0.742419</td>\n",
       "      <td>0.589083</td>\n",
       "      <td>0.780107</td>\n",
       "      <td>0.780107</td>\n",
       "      <td>0.737622</td>\n",
       "      <td>0.656908</td>\n",
       "    </tr>\n",
       "    <tr>\n",
       "      <th>75%</th>\n",
       "      <td>74.250000</td>\n",
       "      <td>0.745346</td>\n",
       "      <td>0.592688</td>\n",
       "      <td>0.781577</td>\n",
       "      <td>0.781577</td>\n",
       "      <td>0.739166</td>\n",
       "      <td>0.659039</td>\n",
       "    </tr>\n",
       "    <tr>\n",
       "      <th>max</th>\n",
       "      <td>99.000000</td>\n",
       "      <td>0.754564</td>\n",
       "      <td>0.604016</td>\n",
       "      <td>0.785255</td>\n",
       "      <td>0.785255</td>\n",
       "      <td>0.744101</td>\n",
       "      <td>0.666477</td>\n",
       "    </tr>\n",
       "  </tbody>\n",
       "</table>\n",
       "</div>"
      ],
      "text/plain": [
       "        iteration   precision      recall    f1_micro    accuracy         auc  \\\n",
       "count  100.000000  100.000000  100.000000  100.000000  100.000000  100.000000   \n",
       "mean    49.500000    0.742318    0.588759    0.780177    0.780177    0.737618   \n",
       "std     29.011492    0.005072    0.005696    0.002122    0.002122    0.002490   \n",
       "min      0.000000    0.728814    0.574150    0.775694    0.775694    0.732144   \n",
       "25%     24.750000    0.739403    0.585350    0.778774    0.778774    0.735690   \n",
       "50%     49.500000    0.742419    0.589083    0.780107    0.780107    0.737622   \n",
       "75%     74.250000    0.745346    0.592688    0.781577    0.781577    0.739166   \n",
       "max     99.000000    0.754564    0.604016    0.785255    0.785255    0.744101   \n",
       "\n",
       "               f1  \n",
       "count  100.000000  \n",
       "mean     0.656654  \n",
       "std      0.003710  \n",
       "min      0.648618  \n",
       "25%      0.653771  \n",
       "50%      0.656908  \n",
       "75%      0.659039  \n",
       "max      0.666477  "
      ]
     },
     "metadata": {},
     "output_type": "display_data"
    },
    {
     "data": {
      "image/png": "[encoded data removed]",
      "text/plain": [
       "<Figure size 1224x576 with 1 Axes>"
      ]
     },
     "metadata": {
      "needs_background": "light"
     },
     "output_type": "display_data"
    }
   ],
   "source": [
    "display_metrics_stats(benchmark_results)\n",
    "plot_metric_dist(benchmark_results, \"f1\", figsize=(17,8))"
   ]
  },
  {
   "cell_type": "markdown",
   "metadata": {},
   "source": [
    "<a id='benchmark_rf_default_matrix'></a>\n",
    "####  RF Default Hyperparameters - Confusion Matrix"
   ]
  },
  {
   "cell_type": "code",
   "execution_count": 5,
   "metadata": {},
   "outputs": [
    {
     "data": {
      "image/png": "[encoded data removed]",
      "text/plain": [
       "<Figure size 432x360 with 2 Axes>"
      ]
     },
     "metadata": {},
     "output_type": "display_data"
    }
   ],
   "source": [
    "plot_result_matrices(benchmark_results, figsize=(6,5))"
   ]
  },
  {
   "cell_type": "markdown",
   "metadata": {},
   "source": [
    "### RF - Tuned Hyperparameters "
   ]
  },
  {
   "cell_type": "code",
   "execution_count": 6,
   "metadata": {},
   "outputs": [],
   "source": [
    "benchmark_tuned_results = read_pickle(BENCHMARK_TUNED_RESULTS)"
   ]
  },
  {
   "cell_type": "markdown",
   "metadata": {},
   "source": [
    "####  RF Tuned Hyperparameters - Evaluation Metrics\n",
    "- Precision \n",
    "- Recall \n",
    "- <i>F1</i>\n",
    "- <i>F1 Micro Avg/Accuracy<i/>\n",
    "- <i>AUC</i>\n",
    "    \n",
    "<small>\n",
    "    <i>\n",
    "    Italics text refers to metrics which were used in the benchmark paper.\n",
    "    </i>\n",
    "</small>"
   ]
  },
  {
   "cell_type": "code",
   "execution_count": 7,
   "metadata": {},
   "outputs": [
    {
     "name": "stdout",
     "output_type": "stream",
     "text": [
      "Performance metrics for RF benchmark model with tuned hyperparameters\n"
     ]
    },
    {
     "data": {
      "text/html": [
       "<div>\n",
       "<style scoped>\n",
       "    .dataframe tbody tr th:only-of-type {\n",
       "        vertical-align: middle;\n",
       "    }\n",
       "\n",
       "    .dataframe tbody tr th {\n",
       "        vertical-align: top;\n",
       "    }\n",
       "\n",
       "    .dataframe thead th {\n",
       "        text-align: right;\n",
       "    }\n",
       "</style>\n",
       "<table border=\"1\" class=\"dataframe\">\n",
       "  <thead>\n",
       "    <tr style=\"text-align: right;\">\n",
       "      <th></th>\n",
       "      <th>model</th>\n",
       "      <th>precision</th>\n",
       "      <th>recall</th>\n",
       "      <th>f1_micro</th>\n",
       "      <th>accuracy</th>\n",
       "      <th>auc</th>\n",
       "      <th>f1</th>\n",
       "    </tr>\n",
       "  </thead>\n",
       "  <tbody>\n",
       "    <tr>\n",
       "      <th>0</th>\n",
       "      <td>random_forest_ALL</td>\n",
       "      <td>0.748</td>\n",
       "      <td>0.595</td>\n",
       "      <td>0.784</td>\n",
       "      <td>0.784</td>\n",
       "      <td>0.742</td>\n",
       "      <td>0.662</td>\n",
       "    </tr>\n",
       "  </tbody>\n",
       "</table>\n",
       "</div>"
      ],
      "text/plain": [
       "               model  precision  recall  f1_micro  accuracy    auc     f1\n",
       "0  random_forest_ALL      0.748   0.595     0.784     0.784  0.742  0.662"
      ]
     },
     "metadata": {},
     "output_type": "display_data"
    }
   ],
   "source": [
    "print(\"Performance metrics for RF benchmark model with tuned hyperparameters\")\n",
    "benchmark_tuned_metrics_df = results_table(benchmark_tuned_results)\n",
    "display(benchmark_tuned_metrics_df)"
   ]
  },
  {
   "cell_type": "markdown",
   "metadata": {},
   "source": [
    "#### RF Tuned Hyperparameters - Evaluation Statistics\n",
    "\n",
    "<i>Note: Since random forest is non-deterministic in nature, we ran the model for 100 iterations and averaged the results. This was done to insure robustness and was also recommended in previous studies.<i/>\n",
    "    \n",
    "Below we show statistics for the evaluation metrics."
   ]
  },
  {
   "cell_type": "code",
   "execution_count": 8,
   "metadata": {},
   "outputs": [
    {
     "name": "stdout",
     "output_type": "stream",
     "text": [
      "'random_forest' on 'ALL' feature set - performance metrics stats\n"
     ]
    },
    {
     "data": {
      "text/html": [
       "<div>\n",
       "<style scoped>\n",
       "    .dataframe tbody tr th:only-of-type {\n",
       "        vertical-align: middle;\n",
       "    }\n",
       "\n",
       "    .dataframe tbody tr th {\n",
       "        vertical-align: top;\n",
       "    }\n",
       "\n",
       "    .dataframe thead th {\n",
       "        text-align: right;\n",
       "    }\n",
       "</style>\n",
       "<table border=\"1\" class=\"dataframe\">\n",
       "  <thead>\n",
       "    <tr style=\"text-align: right;\">\n",
       "      <th></th>\n",
       "      <th>iteration</th>\n",
       "      <th>precision</th>\n",
       "      <th>recall</th>\n",
       "      <th>f1_micro</th>\n",
       "      <th>accuracy</th>\n",
       "      <th>auc</th>\n",
       "      <th>f1</th>\n",
       "    </tr>\n",
       "  </thead>\n",
       "  <tbody>\n",
       "    <tr>\n",
       "      <th>count</th>\n",
       "      <td>100.000000</td>\n",
       "      <td>100.000000</td>\n",
       "      <td>100.000000</td>\n",
       "      <td>100.000000</td>\n",
       "      <td>100.000000</td>\n",
       "      <td>100.000000</td>\n",
       "      <td>100.000000</td>\n",
       "    </tr>\n",
       "    <tr>\n",
       "      <th>mean</th>\n",
       "      <td>49.500000</td>\n",
       "      <td>0.747707</td>\n",
       "      <td>0.594650</td>\n",
       "      <td>0.783624</td>\n",
       "      <td>0.783624</td>\n",
       "      <td>0.741609</td>\n",
       "      <td>0.662447</td>\n",
       "    </tr>\n",
       "    <tr>\n",
       "      <th>std</th>\n",
       "      <td>29.011492</td>\n",
       "      <td>0.002909</td>\n",
       "      <td>0.002816</td>\n",
       "      <td>0.001313</td>\n",
       "      <td>0.001313</td>\n",
       "      <td>0.001459</td>\n",
       "      <td>0.002127</td>\n",
       "    </tr>\n",
       "    <tr>\n",
       "      <th>min</th>\n",
       "      <td>0.000000</td>\n",
       "      <td>0.741811</td>\n",
       "      <td>0.588054</td>\n",
       "      <td>0.779923</td>\n",
       "      <td>0.779923</td>\n",
       "      <td>0.737264</td>\n",
       "      <td>0.656133</td>\n",
       "    </tr>\n",
       "    <tr>\n",
       "      <th>25%</th>\n",
       "      <td>24.750000</td>\n",
       "      <td>0.745419</td>\n",
       "      <td>0.592688</td>\n",
       "      <td>0.782864</td>\n",
       "      <td>0.782864</td>\n",
       "      <td>0.740782</td>\n",
       "      <td>0.661254</td>\n",
       "    </tr>\n",
       "    <tr>\n",
       "      <th>50%</th>\n",
       "      <td>49.500000</td>\n",
       "      <td>0.747978</td>\n",
       "      <td>0.594748</td>\n",
       "      <td>0.783692</td>\n",
       "      <td>0.783692</td>\n",
       "      <td>0.741741</td>\n",
       "      <td>0.662645</td>\n",
       "    </tr>\n",
       "    <tr>\n",
       "      <th>75%</th>\n",
       "      <td>74.250000</td>\n",
       "      <td>0.749716</td>\n",
       "      <td>0.596421</td>\n",
       "      <td>0.784519</td>\n",
       "      <td>0.784519</td>\n",
       "      <td>0.742470</td>\n",
       "      <td>0.663796</td>\n",
       "    </tr>\n",
       "    <tr>\n",
       "      <th>max</th>\n",
       "      <td>99.000000</td>\n",
       "      <td>0.755715</td>\n",
       "      <td>0.600927</td>\n",
       "      <td>0.786909</td>\n",
       "      <td>0.786909</td>\n",
       "      <td>0.744729</td>\n",
       "      <td>0.666858</td>\n",
       "    </tr>\n",
       "  </tbody>\n",
       "</table>\n",
       "</div>"
      ],
      "text/plain": [
       "        iteration   precision      recall    f1_micro    accuracy         auc  \\\n",
       "count  100.000000  100.000000  100.000000  100.000000  100.000000  100.000000   \n",
       "mean    49.500000    0.747707    0.594650    0.783624    0.783624    0.741609   \n",
       "std     29.011492    0.002909    0.002816    0.001313    0.001313    0.001459   \n",
       "min      0.000000    0.741811    0.588054    0.779923    0.779923    0.737264   \n",
       "25%     24.750000    0.745419    0.592688    0.782864    0.782864    0.740782   \n",
       "50%     49.500000    0.747978    0.594748    0.783692    0.783692    0.741741   \n",
       "75%     74.250000    0.749716    0.596421    0.784519    0.784519    0.742470   \n",
       "max     99.000000    0.755715    0.600927    0.786909    0.786909    0.744729   \n",
       "\n",
       "               f1  \n",
       "count  100.000000  \n",
       "mean     0.662447  \n",
       "std      0.002127  \n",
       "min      0.656133  \n",
       "25%      0.661254  \n",
       "50%      0.662645  \n",
       "75%      0.663796  \n",
       "max      0.666858  "
      ]
     },
     "metadata": {},
     "output_type": "display_data"
    },
    {
     "data": {
      "image/png": "[encoded data removed]",
      "text/plain": [
       "<Figure size 1224x576 with 1 Axes>"
      ]
     },
     "metadata": {},
     "output_type": "display_data"
    }
   ],
   "source": [
    "display_metrics_stats(benchmark_tuned_results)\n",
    "plot_metric_dist(benchmark_tuned_results, \"f1\", figsize=(17,8))"
   ]
  },
  {
   "cell_type": "markdown",
   "metadata": {},
   "source": [
    "####  RF Tuned Hyperparameters - Confusion Matrix"
   ]
  },
  {
   "cell_type": "code",
   "execution_count": 9,
   "metadata": {},
   "outputs": [
    {
     "data": {
      "image/png": "[encoded data removed]",
      "text/plain": [
       "<Figure size 432x360 with 2 Axes>"
      ]
     },
     "metadata": {},
     "output_type": "display_data"
    }
   ],
   "source": [
    "plot_result_matrices(benchmark_tuned_results, figsize=(6,5))"
   ]
  },
  {
   "cell_type": "markdown",
   "metadata": {},
   "source": [
    "#### RF Tuned Hyperparameters - Hyperparameters"
   ]
  },
  {
   "cell_type": "code",
   "execution_count": 18,
   "metadata": {},
   "outputs": [
    {
     "name": "stdout",
     "output_type": "stream",
     "text": [
      "Parameters used for 'random_forest' on 'ALL' feature set\n",
      "{   'bootstrap': True,\n",
      "    'ccp_alpha': 0.0,\n",
      "    'class_weight': None,\n",
      "    'criterion': 'gini',\n",
      "    'max_depth': None,\n",
      "    'max_features': 'sqrt',\n",
      "    'max_leaf_nodes': None,\n",
      "    'max_samples': 0.7803639907513293,\n",
      "    'min_impurity_decrease': 0.0,\n",
      "    'min_impurity_split': None,\n",
      "    'min_samples_leaf': 1,\n",
      "    'min_samples_split': 2,\n",
      "    'min_weight_fraction_leaf': 0.0,\n",
      "    'n_estimators': 950,\n",
      "    'n_jobs': None,\n",
      "    'oob_score': False,\n",
      "    'random_state': None,\n",
      "    'verbose': 0,\n",
      "    'warm_start': False}\n"
     ]
    },
    {
     "data": {
      "text/html": [
       "</hr>"
      ],
      "text/plain": [
       "<IPython.core.display.HTML object>"
      ]
     },
     "metadata": {},
     "output_type": "display_data"
    }
   ],
   "source": [
    "print_model_params(benchmark_tuned_results)"
   ]
  },
  {
   "cell_type": "markdown",
   "metadata": {},
   "source": [
    "## Boosting Algorithms\n",
    "- [XGBoost: eXtreme Gradient Boosting](https://xgboost.readthedocs.io/en/latest/) \n",
    "- [LightGBM: Light Gradient Boosting Machine](https://lightgbm.readthedocs.io/en/latest/) \n",
    "- [CatBoost](https://catboost.ai/)"
   ]
  },
  {
   "cell_type": "markdown",
   "metadata": {},
   "source": [
    "### Boosting Algorithms - Default Hyperparameters"
   ]
  },
  {
   "cell_type": "code",
   "execution_count": 10,
   "metadata": {},
   "outputs": [],
   "source": [
    "default_results = read_pickle(DEFAULT_RESULTS)"
   ]
  },
  {
   "cell_type": "markdown",
   "metadata": {},
   "source": [
    "#### Boosting Default Hyperparameters - Evaluation Metrics\n",
    "- <i>Precision</i> \n",
    "- <i>Recall</i> \n",
    "- <i>F1</i>\n",
    "- <i>F1 Micro Avg/Accuracy<i/>\n",
    "- AUC\n",
    "    \n",
    "<small>\n",
    "    <i>\n",
    "    Italics text refers to metrics which were used in the benchmark paper.\n",
    "    </i>\n",
    "</small>`"
   ]
  },
  {
   "cell_type": "code",
   "execution_count": 11,
   "metadata": {},
   "outputs": [
    {
     "name": "stdout",
     "output_type": "stream",
     "text": [
      "Performance metrics for defaults boosting models\n"
     ]
    },
    {
     "data": {
      "text/html": [
       "<div>\n",
       "<style scoped>\n",
       "    .dataframe tbody tr th:only-of-type {\n",
       "        vertical-align: middle;\n",
       "    }\n",
       "\n",
       "    .dataframe tbody tr th {\n",
       "        vertical-align: top;\n",
       "    }\n",
       "\n",
       "    .dataframe thead th {\n",
       "        text-align: right;\n",
       "    }\n",
       "</style>\n",
       "<table border=\"1\" class=\"dataframe\">\n",
       "  <thead>\n",
       "    <tr style=\"text-align: right;\">\n",
       "      <th></th>\n",
       "      <th>model</th>\n",
       "      <th>precision</th>\n",
       "      <th>recall</th>\n",
       "      <th>f1_micro</th>\n",
       "      <th>accuracy</th>\n",
       "      <th>auc</th>\n",
       "      <th>f1</th>\n",
       "    </tr>\n",
       "  </thead>\n",
       "  <tbody>\n",
       "    <tr>\n",
       "      <th>0</th>\n",
       "      <td>xg_boost_ALL</td>\n",
       "      <td>0.729</td>\n",
       "      <td>0.594</td>\n",
       "      <td>0.776</td>\n",
       "      <td>0.776</td>\n",
       "      <td>0.736</td>\n",
       "      <td>0.655</td>\n",
       "    </tr>\n",
       "    <tr>\n",
       "      <th>1</th>\n",
       "      <td>light_boost_ALL</td>\n",
       "      <td>0.735</td>\n",
       "      <td>0.617</td>\n",
       "      <td>0.784</td>\n",
       "      <td>0.784</td>\n",
       "      <td>0.747</td>\n",
       "      <td>0.671</td>\n",
       "    </tr>\n",
       "    <tr>\n",
       "      <th>2</th>\n",
       "      <td>cat_boost_ALL</td>\n",
       "      <td>0.748</td>\n",
       "      <td>0.630</td>\n",
       "      <td>0.792</td>\n",
       "      <td>0.792</td>\n",
       "      <td>0.756</td>\n",
       "      <td>0.684</td>\n",
       "    </tr>\n",
       "  </tbody>\n",
       "</table>\n",
       "</div>"
      ],
      "text/plain": [
       "             model  precision  recall  f1_micro  accuracy    auc     f1\n",
       "0     xg_boost_ALL      0.729   0.594     0.776     0.776  0.736  0.655\n",
       "1  light_boost_ALL      0.735   0.617     0.784     0.784  0.747  0.671\n",
       "2    cat_boost_ALL      0.748   0.630     0.792     0.792  0.756  0.684"
      ]
     },
     "metadata": {},
     "output_type": "display_data"
    },
    {
     "name": "stdout",
     "output_type": "stream",
     "text": [
      "Performance metrics for defaults boosting models sorted by f1-score\n"
     ]
    },
    {
     "data": {
      "text/html": [
       "<div>\n",
       "<style scoped>\n",
       "    .dataframe tbody tr th:only-of-type {\n",
       "        vertical-align: middle;\n",
       "    }\n",
       "\n",
       "    .dataframe tbody tr th {\n",
       "        vertical-align: top;\n",
       "    }\n",
       "\n",
       "    .dataframe thead th {\n",
       "        text-align: right;\n",
       "    }\n",
       "</style>\n",
       "<table border=\"1\" class=\"dataframe\">\n",
       "  <thead>\n",
       "    <tr style=\"text-align: right;\">\n",
       "      <th></th>\n",
       "      <th>model</th>\n",
       "      <th>precision</th>\n",
       "      <th>recall</th>\n",
       "      <th>f1_micro</th>\n",
       "      <th>accuracy</th>\n",
       "      <th>auc</th>\n",
       "      <th>f1</th>\n",
       "    </tr>\n",
       "  </thead>\n",
       "  <tbody>\n",
       "    <tr>\n",
       "      <th>2</th>\n",
       "      <td>cat_boost_ALL</td>\n",
       "      <td>0.748</td>\n",
       "      <td>0.630</td>\n",
       "      <td>0.792</td>\n",
       "      <td>0.792</td>\n",
       "      <td>0.756</td>\n",
       "      <td>0.684</td>\n",
       "    </tr>\n",
       "    <tr>\n",
       "      <th>1</th>\n",
       "      <td>light_boost_ALL</td>\n",
       "      <td>0.735</td>\n",
       "      <td>0.617</td>\n",
       "      <td>0.784</td>\n",
       "      <td>0.784</td>\n",
       "      <td>0.747</td>\n",
       "      <td>0.671</td>\n",
       "    </tr>\n",
       "    <tr>\n",
       "      <th>0</th>\n",
       "      <td>xg_boost_ALL</td>\n",
       "      <td>0.729</td>\n",
       "      <td>0.594</td>\n",
       "      <td>0.776</td>\n",
       "      <td>0.776</td>\n",
       "      <td>0.736</td>\n",
       "      <td>0.655</td>\n",
       "    </tr>\n",
       "  </tbody>\n",
       "</table>\n",
       "</div>"
      ],
      "text/plain": [
       "             model  precision  recall  f1_micro  accuracy    auc     f1\n",
       "2    cat_boost_ALL      0.748   0.630     0.792     0.792  0.756  0.684\n",
       "1  light_boost_ALL      0.735   0.617     0.784     0.784  0.747  0.671\n",
       "0     xg_boost_ALL      0.729   0.594     0.776     0.776  0.736  0.655"
      ]
     },
     "metadata": {},
     "output_type": "display_data"
    }
   ],
   "source": [
    "print(\"Performance metrics for defaults boosting models\")\n",
    "defaults_metrics_df = results_table(default_results)\n",
    "display(defaults_metrics_df)\n",
    "\n",
    "print(\"Performance metrics for defaults boosting models sorted by f1-score\")\n",
    "display(defaults_metrics_df.sort_values(\"f1\", ascending=False))"
   ]
  },
  {
   "cell_type": "markdown",
   "metadata": {},
   "source": [
    "#### Boosting Default Hyperparameters - Confusion Matrices"
   ]
  },
  {
   "cell_type": "code",
   "execution_count": 12,
   "metadata": {
    "scrolled": false
   },
   "outputs": [
    {
     "data": {
      "image/png": "[encoded data removed]",
      "text/plain": [
       "<Figure size 1224x288 with 6 Axes>"
      ]
     },
     "metadata": {},
     "output_type": "display_data"
    }
   ],
   "source": [
    "plot_result_matrices(default_results, figsize=(17,4), columns=3)"
   ]
  },
  {
   "cell_type": "markdown",
   "metadata": {},
   "source": [
    "#### Boosting Default Hyperparameters - F1 Results over Test Span"
   ]
  },
  {
   "cell_type": "code",
   "execution_count": 13,
   "metadata": {},
   "outputs": [],
   "source": [
    "# in this plot we also display benchmark model\n",
    "# tmp_results = {**benchmark_results, **default_results}\n",
    "# elliptic_time_indexed_results(default_results)"
   ]
  },
  {
   "cell_type": "markdown",
   "metadata": {},
   "source": [
    "### Boosting Algorithms - Tuned Hyperparameters "
   ]
  },
  {
   "cell_type": "code",
   "execution_count": 14,
   "metadata": {},
   "outputs": [],
   "source": [
    "tuned_results = read_pickle(TUNED_RESULTS)"
   ]
  },
  {
   "cell_type": "markdown",
   "metadata": {},
   "source": [
    "#### Boosting Tuned Hyperparameters - Evaluation Metrics\n",
    "- <i>Precision</i> \n",
    "- <i>Recall</i> \n",
    "- <i>F1</i>\n",
    "- <i>F1 Micro Avg/Accuracy<i/>\n",
    "- AUC\n",
    "    \n",
    "<small>\n",
    "    <i>\n",
    "    Italics text refers to metrics which were used in the benchmark paper.\n",
    "    </i>\n",
    "</small>"
   ]
  },
  {
   "cell_type": "code",
   "execution_count": 15,
   "metadata": {},
   "outputs": [
    {
     "name": "stdout",
     "output_type": "stream",
     "text": [
      "Performance metrics for tuned boosting models\n"
     ]
    },
    {
     "data": {
      "text/html": [
       "<div>\n",
       "<style scoped>\n",
       "    .dataframe tbody tr th:only-of-type {\n",
       "        vertical-align: middle;\n",
       "    }\n",
       "\n",
       "    .dataframe tbody tr th {\n",
       "        vertical-align: top;\n",
       "    }\n",
       "\n",
       "    .dataframe thead th {\n",
       "        text-align: right;\n",
       "    }\n",
       "</style>\n",
       "<table border=\"1\" class=\"dataframe\">\n",
       "  <thead>\n",
       "    <tr style=\"text-align: right;\">\n",
       "      <th></th>\n",
       "      <th>model</th>\n",
       "      <th>precision</th>\n",
       "      <th>recall</th>\n",
       "      <th>f1_micro</th>\n",
       "      <th>accuracy</th>\n",
       "      <th>auc</th>\n",
       "      <th>f1</th>\n",
       "    </tr>\n",
       "  </thead>\n",
       "  <tbody>\n",
       "    <tr>\n",
       "      <th>0</th>\n",
       "      <td>xg_boost_ALL</td>\n",
       "      <td>0.748</td>\n",
       "      <td>0.615</td>\n",
       "      <td>0.789</td>\n",
       "      <td>0.789</td>\n",
       "      <td>0.750</td>\n",
       "      <td>0.675</td>\n",
       "    </tr>\n",
       "    <tr>\n",
       "      <th>1</th>\n",
       "      <td>light_boost_ALL</td>\n",
       "      <td>0.747</td>\n",
       "      <td>0.643</td>\n",
       "      <td>0.795</td>\n",
       "      <td>0.795</td>\n",
       "      <td>0.761</td>\n",
       "      <td>0.691</td>\n",
       "    </tr>\n",
       "    <tr>\n",
       "      <th>2</th>\n",
       "      <td>cat_boost_ALL</td>\n",
       "      <td>0.752</td>\n",
       "      <td>0.623</td>\n",
       "      <td>0.792</td>\n",
       "      <td>0.792</td>\n",
       "      <td>0.754</td>\n",
       "      <td>0.681</td>\n",
       "    </tr>\n",
       "  </tbody>\n",
       "</table>\n",
       "</div>"
      ],
      "text/plain": [
       "             model  precision  recall  f1_micro  accuracy    auc     f1\n",
       "0     xg_boost_ALL      0.748   0.615     0.789     0.789  0.750  0.675\n",
       "1  light_boost_ALL      0.747   0.643     0.795     0.795  0.761  0.691\n",
       "2    cat_boost_ALL      0.752   0.623     0.792     0.792  0.754  0.681"
      ]
     },
     "metadata": {},
     "output_type": "display_data"
    },
    {
     "name": "stdout",
     "output_type": "stream",
     "text": [
      "Performance metrics for tuned boosting models sorted by f1-score\n"
     ]
    },
    {
     "data": {
      "text/html": [
       "<div>\n",
       "<style scoped>\n",
       "    .dataframe tbody tr th:only-of-type {\n",
       "        vertical-align: middle;\n",
       "    }\n",
       "\n",
       "    .dataframe tbody tr th {\n",
       "        vertical-align: top;\n",
       "    }\n",
       "\n",
       "    .dataframe thead th {\n",
       "        text-align: right;\n",
       "    }\n",
       "</style>\n",
       "<table border=\"1\" class=\"dataframe\">\n",
       "  <thead>\n",
       "    <tr style=\"text-align: right;\">\n",
       "      <th></th>\n",
       "      <th>model</th>\n",
       "      <th>precision</th>\n",
       "      <th>recall</th>\n",
       "      <th>f1_micro</th>\n",
       "      <th>accuracy</th>\n",
       "      <th>auc</th>\n",
       "      <th>f1</th>\n",
       "    </tr>\n",
       "  </thead>\n",
       "  <tbody>\n",
       "    <tr>\n",
       "      <th>1</th>\n",
       "      <td>light_boost_ALL</td>\n",
       "      <td>0.747</td>\n",
       "      <td>0.643</td>\n",
       "      <td>0.795</td>\n",
       "      <td>0.795</td>\n",
       "      <td>0.761</td>\n",
       "      <td>0.691</td>\n",
       "    </tr>\n",
       "    <tr>\n",
       "      <th>2</th>\n",
       "      <td>cat_boost_ALL</td>\n",
       "      <td>0.752</td>\n",
       "      <td>0.623</td>\n",
       "      <td>0.792</td>\n",
       "      <td>0.792</td>\n",
       "      <td>0.754</td>\n",
       "      <td>0.681</td>\n",
       "    </tr>\n",
       "    <tr>\n",
       "      <th>0</th>\n",
       "      <td>xg_boost_ALL</td>\n",
       "      <td>0.748</td>\n",
       "      <td>0.615</td>\n",
       "      <td>0.789</td>\n",
       "      <td>0.789</td>\n",
       "      <td>0.750</td>\n",
       "      <td>0.675</td>\n",
       "    </tr>\n",
       "  </tbody>\n",
       "</table>\n",
       "</div>"
      ],
      "text/plain": [
       "             model  precision  recall  f1_micro  accuracy    auc     f1\n",
       "1  light_boost_ALL      0.747   0.643     0.795     0.795  0.761  0.691\n",
       "2    cat_boost_ALL      0.752   0.623     0.792     0.792  0.754  0.681\n",
       "0     xg_boost_ALL      0.748   0.615     0.789     0.789  0.750  0.675"
      ]
     },
     "metadata": {},
     "output_type": "display_data"
    }
   ],
   "source": [
    "# dataframe with all the perfomance metrics\n",
    "print(\"Performance metrics for tuned boosting models\")\n",
    "tuned_metrics_df = results_table(tuned_results)\n",
    "display(tuned_metrics_df)\n",
    "\n",
    "# sorted by f1 score/home/delinvas/repos/aml-crypto-graph/src/cryptoaml/datareader/_elliptic_dr.py\n",
    "print(\"Performance metrics for tuned boosting models sorted by f1-score\")\n",
    "display(tuned_metrics_df.sort_values(\"f1\", ascending=False))"
   ]
  },
  {
   "cell_type": "code",
   "execution_count": 16,
   "metadata": {},
   "outputs": [
    {
     "data": {
      "image/png": "[encoded data removed]",
      "text/plain": [
       "<Figure size 1224x288 with 6 Axes>"
      ]
     },
     "metadata": {},
     "output_type": "display_data"
    }
   ],
   "source": [
    "plot_result_matrices(tuned_results, figsize=(17,4), columns=3)"
   ]
  },
  {
   "cell_type": "markdown",
   "metadata": {},
   "source": [
    "#### Boosting Tuned Hyperparameters - Hyperparameters"
   ]
  },
  {
   "cell_type": "code",
   "execution_count": 17,
   "metadata": {},
   "outputs": [
    {
     "name": "stdout",
     "output_type": "stream",
     "text": [
      "Parameters used for 'xg_boost' on 'ALL' feature set\n",
      "{   'base_score': 0.5,\n",
      "    'booster': None,\n",
      "    'colsample_bylevel': 0.8259357777868539,\n",
      "    'colsample_bynode': 1,\n",
      "    'colsample_bytree': 0.9390481435192746,\n",
      "    'gamma': 9.856689719822213e-05,\n",
      "    'gpu_id': -1,\n",
      "    'importance_type': 'gain',\n",
      "    'interaction_constraints': None,\n",
      "    'learning_rate': 0.10278359593536876,\n",
      "    'max_delta_step': 0,\n",
      "    'max_depth': 3,\n",
      "    'min_child_weight': 0.23006847451636644,\n",
      "    'missing': nan,\n",
      "    'monotone_constraints': None,\n",
      "    'n_estimators': 686,\n",
      "    'n_jobs': 0,\n",
      "    'num_parallel_tree': 1,\n",
      "    'objective': 'binary:logistic',\n",
      "    'random_state': 0,\n",
      "    'reg_alpha': 0.9698309151946589,\n",
      "    'reg_lambda': 3.6482620406500425e-05,\n",
      "    'scale_pos_weight': 1,\n",
      "    'subsample': 0.9669853429860304,\n",
      "    'tree_method': None,\n",
      "    'validate_parameters': False,\n",
      "    'verbosity': None}\n"
     ]
    },
    {
     "data": {
      "text/html": [
       "</hr>"
      ],
      "text/plain": [
       "<IPython.core.display.HTML object>"
      ]
     },
     "metadata": {},
     "output_type": "display_data"
    },
    {
     "name": "stdout",
     "output_type": "stream",
     "text": [
      "Parameters used for 'light_boost' on 'ALL' feature set\n",
      "{   'boosting_type': 'gbdt',\n",
      "    'class_weight': None,\n",
      "    'colsample_bytree': 0.9042782299701083,\n",
      "    'importance_type': 'split',\n",
      "    'learning_rate': 0.00942139530205555,\n",
      "    'max_depth': -1,\n",
      "    'min_child_samples': 92,\n",
      "    'min_child_weight': 0.2509419055407807,\n",
      "    'min_split_gain': 0.0,\n",
      "    'n_estimators': 970,\n",
      "    'n_jobs': -1,\n",
      "    'num_leaves': 247,\n",
      "    'objective': None,\n",
      "    'random_state': None,\n",
      "    'reg_alpha': 0.07504697557719497,\n",
      "    'reg_lambda': 0.007102258113567796,\n",
      "    'silent': True,\n",
      "    'subsample': 0.6496983898551796,\n",
      "    'subsample_for_bin': 200000,\n",
      "    'subsample_freq': 1}\n"
     ]
    },
    {
     "data": {
      "text/html": [
       "</hr>"
      ],
      "text/plain": [
       "<IPython.core.display.HTML object>"
      ]
     },
     "metadata": {},
     "output_type": "display_data"
    },
    {
     "name": "stdout",
     "output_type": "stream",
     "text": [
      "Parameters used for 'cat_boost' on 'ALL' feature set\n",
      "{   'approx_on_full_history': False,\n",
      "    'bayesian_matrix_reg': 0.1000000015,\n",
      "    'best_model_min_trees': 1,\n",
      "    'boost_from_average': False,\n",
      "    'boosting_type': 'Plain',\n",
      "    'bootstrap_type': 'MVS',\n",
      "    'border_count': 254,\n",
      "    'class_names': ['0', '1'],\n",
      "    'classes_count': 0,\n",
      "    'depth': 9,\n",
      "    'eval_metric': 'F1',\n",
      "    'feature_border_type': 'GreedyLogSum',\n",
      "    'fold_len_multiplier': 2,\n",
      "    'fold_permutation_block': 0,\n",
      "    'has_time': False,\n",
      "    'iterations': 2201,\n",
      "    'l2_leaf_reg': 5.976006031,\n",
      "    'leaf_estimation_backtracking': 'AnyImprovement',\n",
      "    'leaf_estimation_iterations': 4,\n",
      "    'leaf_estimation_method': 'Newton',\n",
      "    'learning_rate': 0.0295537468,\n",
      "    'loss_function': 'Logloss',\n",
      "    'model_shrink_rate': 0,\n",
      "    'model_size_reg': 0.5,\n",
      "    'nan_mode': 'Min',\n",
      "    'permutation_count': 4,\n",
      "    'random_seed': 0,\n",
      "    'random_strength': 18,\n",
      "    'rsm': 0.2849999964,\n",
      "    'sampling_frequency': 'PerTree',\n",
      "    'score_function': 'Cosine',\n",
      "    'sparse_features_conflict_fraction': 0,\n",
      "    'subsample': 0.5883533955,\n",
      "    'task_type': 'CPU',\n",
      "    'use_best_model': False}\n"
     ]
    },
    {
     "data": {
      "text/html": [
       "</hr>"
      ],
      "text/plain": [
       "<IPython.core.display.HTML object>"
      ]
     },
     "metadata": {},
     "output_type": "display_data"
    }
   ],
   "source": [
    "print_model_params(tuned_results)"
   ]
  },
  {
   "cell_type": "code",
   "execution_count": null,
   "metadata": {},
   "outputs": [],
   "source": []
  }
 ],
 "metadata": {
  "kernelspec": {
   "display_name": "Python [conda env:btc-classifier] *",
   "language": "python",
   "name": "conda-env-btc-classifier-py"
  },
  "language_info": {
   "codemirror_mode": {
    "name": "ipython",
    "version": 3
   },
   "file_extension": ".py",
   "mimetype": "text/x-python",
   "name": "python",
   "nbconvert_exporter": "python",
   "pygments_lexer": "ipython3",
   "version": "3.7.6"
  }
 },
 "nbformat": 4,
 "nbformat_minor": 4
}

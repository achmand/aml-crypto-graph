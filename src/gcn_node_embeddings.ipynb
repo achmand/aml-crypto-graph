{
 "cells": [
  {
   "cell_type": "code",
   "execution_count": 1,
   "metadata": {},
   "outputs": [],
   "source": [
    "# import dependencies \n",
    "import math\n",
    "import torch\n",
    "import torch.nn as nn\n",
    "from torch.nn.parameter import Parameter"
   ]
  },
  {
   "cell_type": "code",
   "execution_count": 2,
   "metadata": {},
   "outputs": [],
   "source": [
    "# Graph Convolutional Network \n",
    "class GCN(torch.nn.Module):    \n",
    "    def __init__(self, num_layers, feats_per_node, layer_1_feats, layer_2_feats, activation):\n",
    "        super().__init__()\n",
    "        self.activation = activation\n",
    "        self.num_layers = num_layers\n",
    "\n",
    "        self.w_list = nn.ParameterList()\n",
    "        for i in range(self.num_layers):\n",
    "            if i==0:\n",
    "                w_i = Parameter(torch.Tensor(feats_per_node, layer_1_feats))\n",
    "                self.reset_param(w_i)\n",
    "            else:\n",
    "                w_i = Parameter(torch.Tensor(layer_1_feats, layer_2_feats))\n",
    "                self.reset_param(w_i)\n",
    "            self.w_list.append(w_i)\n",
    "            \n",
    "    def forward(self, A_list, Nodes_list, nodes_mask_list):\n",
    "        node_feats = Nodes_list[-1]\n",
    "        #A_list: T, each element sparse tensor\n",
    "        #take only last adj matrix in time\n",
    "        Ahat = A_list[-1]\n",
    "        #Ahat: NxN ~ 30k\n",
    "        #sparse multiplication\n",
    "\n",
    "        # Ahat NxN\n",
    "        # self.node_embs = Nxk\n",
    "        #\n",
    "        # note(bwheatman, tfk): change order of matrix multiply\n",
    "        last_l = self.activation(Ahat.matmul(node_feats.matmul(self.w_list[0])))\n",
    "        for i in range(1, self.num_layers):\n",
    "            last_l = self.activation(Ahat.matmul(last_l.matmul(self.w_list[i])))\n",
    "        return last_l\n",
    "\n",
    "    def reset_param(self, t):\n",
    "        stdv = 2. / math.sqrt(t.size(0))\n",
    "        t.data.uniform_(-stdv,stdv)"
   ]
  },
  {
   "cell_type": "code",
   "execution_count": 3,
   "metadata": {},
   "outputs": [],
   "source": [
    "# WHAT WE NEED IN DATASET\n",
    "# -> Edges \n",
    "# -> Node Feats\n",
    "# -> Total Feats per node \n",
    "\n",
    "class Static_Node_Cls_Tasker:\n",
    "    def __init__(self, dataset):\n",
    "        self.data = dataset \n",
    "        self.num_classes = 2 \n",
    "        self.adj_matrix = self.get_static_sp_adj(edges=self.data.edges)\n",
    "        self.feats_per_node = dataset.feats_per_node \n",
    "        self.node_feats = self.data.node_feats \n",
    "        self.adj_matrix = self.normalize_adj(adj=self.adj_matrix, num_nodes=self.data.num_nodes)\n",
    "        self.is_static = True        \n",
    "    \n",
    "    def get_static_sp_adj(self, edges):\n",
    "        idx = edges[\"idx\"]\n",
    "        vals = torch.ones(idx.size(0),dtype=torch.long)\n",
    "        return {\"idx\": idx, \"vals\": vals}"
   ]
  },
  {
   "cell_type": "code",
   "execution_count": 4,
   "metadata": {},
   "outputs": [],
   "source": [
    "# Cross Entropy Class\n",
    "class Cross_Entropy(torch.nn.Module):\n",
    "    def __init__(self):\n",
    "        super().__init__()\n",
    "        #weights = torch.tensor(args.class_weights).to(args.device)"
   ]
  },
  {
   "cell_type": "code",
   "execution_count": 5,
   "metadata": {},
   "outputs": [],
   "source": [
    "# Trainer Class \n",
    "class Trainer:\n",
    "    def __init__(self, gcn):\n",
    "        self.gcn = gcn         "
   ]
  },
  {
   "cell_type": "code",
   "execution_count": 6,
   "metadata": {},
   "outputs": [
    {
     "ename": "AttributeError",
     "evalue": "'NoneType' object has no attribute 'edges'",
     "output_type": "error",
     "traceback": [
      "\u001b[0;31m---------------------------------------------------------------------------\u001b[0m",
      "\u001b[0;31mAttributeError\u001b[0m                            Traceback (most recent call last)",
      "\u001b[0;32m<ipython-input-6-833f1a44cd6f>\u001b[0m in \u001b[0;36m<module>\u001b[0;34m\u001b[0m\n\u001b[0;32m----> 1\u001b[0;31m \u001b[0mtasker\u001b[0m \u001b[0;34m=\u001b[0m \u001b[0mStatic_Node_Cls_Tasker\u001b[0m\u001b[0;34m(\u001b[0m\u001b[0;32mNone\u001b[0m\u001b[0;34m)\u001b[0m\u001b[0;34m\u001b[0m\u001b[0;34m\u001b[0m\u001b[0m\n\u001b[0m\u001b[1;32m      2\u001b[0m \u001b[0;31m# new instance of graph convolutional neural network\u001b[0m\u001b[0;34m\u001b[0m\u001b[0;34m\u001b[0m\u001b[0;34m\u001b[0m\u001b[0m\n\u001b[1;32m      3\u001b[0m \u001b[0;31m# gcn = GCN(num_layers=2,\u001b[0m\u001b[0;34m\u001b[0m\u001b[0;34m\u001b[0m\u001b[0;34m\u001b[0m\u001b[0m\n\u001b[1;32m      4\u001b[0m \u001b[0;31m#           feats_per_node=164,\u001b[0m\u001b[0;34m\u001b[0m\u001b[0;34m\u001b[0m\u001b[0;34m\u001b[0m\u001b[0m\n\u001b[1;32m      5\u001b[0m \u001b[0;31m#           layer_1_feats=20,\u001b[0m\u001b[0;34m\u001b[0m\u001b[0;34m\u001b[0m\u001b[0;34m\u001b[0m\u001b[0m\n",
      "\u001b[0;32m<ipython-input-3-494fd2748a8c>\u001b[0m in \u001b[0;36m__init__\u001b[0;34m(self, dataset)\u001b[0m\n\u001b[1;32m      8\u001b[0m         \u001b[0mself\u001b[0m\u001b[0;34m.\u001b[0m\u001b[0mdata\u001b[0m \u001b[0;34m=\u001b[0m \u001b[0mdataset\u001b[0m\u001b[0;34m\u001b[0m\u001b[0;34m\u001b[0m\u001b[0m\n\u001b[1;32m      9\u001b[0m         \u001b[0mself\u001b[0m\u001b[0;34m.\u001b[0m\u001b[0mnum_classes\u001b[0m \u001b[0;34m=\u001b[0m \u001b[0;36m2\u001b[0m\u001b[0;34m\u001b[0m\u001b[0;34m\u001b[0m\u001b[0m\n\u001b[0;32m---> 10\u001b[0;31m         \u001b[0mself\u001b[0m\u001b[0;34m.\u001b[0m\u001b[0madj_matrix\u001b[0m \u001b[0;34m=\u001b[0m \u001b[0mself\u001b[0m\u001b[0;34m.\u001b[0m\u001b[0mget_static_sp_adj\u001b[0m\u001b[0;34m(\u001b[0m\u001b[0medges\u001b[0m\u001b[0;34m=\u001b[0m\u001b[0mself\u001b[0m\u001b[0;34m.\u001b[0m\u001b[0mdata\u001b[0m\u001b[0;34m.\u001b[0m\u001b[0medges\u001b[0m\u001b[0;34m)\u001b[0m\u001b[0;34m\u001b[0m\u001b[0;34m\u001b[0m\u001b[0m\n\u001b[0m\u001b[1;32m     11\u001b[0m         \u001b[0mself\u001b[0m\u001b[0;34m.\u001b[0m\u001b[0mfeats_per_node\u001b[0m \u001b[0;34m=\u001b[0m \u001b[0mdataset\u001b[0m\u001b[0;34m.\u001b[0m\u001b[0mfeats_per_node\u001b[0m\u001b[0;34m\u001b[0m\u001b[0;34m\u001b[0m\u001b[0m\n\u001b[1;32m     12\u001b[0m         \u001b[0mself\u001b[0m\u001b[0;34m.\u001b[0m\u001b[0mnode_feats\u001b[0m \u001b[0;34m=\u001b[0m \u001b[0mself\u001b[0m\u001b[0;34m.\u001b[0m\u001b[0mdata\u001b[0m\u001b[0;34m.\u001b[0m\u001b[0mnode_feats\u001b[0m\u001b[0;34m\u001b[0m\u001b[0;34m\u001b[0m\u001b[0m\n",
      "\u001b[0;31mAttributeError\u001b[0m: 'NoneType' object has no attribute 'edges'"
     ]
    }
   ],
   "source": [
    "tasker = Static_Node_Cls_Tasker(None)\n",
    "# new instance of graph convolutional neural network \n",
    "# gcn = GCN(num_layers=2, \n",
    "#           feats_per_node=164, \n",
    "#           layer_1_feats=20, \n",
    "#           layer_2_feats=10, \n",
    "#           activation=torch.nn.RReLU()).to(\"cpu\")\n",
    "# trainer = Trainer(gcn=gcn)"
   ]
  },
  {
   "cell_type": "code",
   "execution_count": null,
   "metadata": {},
   "outputs": [],
   "source": []
  }
 ],
 "metadata": {
  "kernelspec": {
   "display_name": "Python [conda env:btc-classifier] *",
   "language": "python",
   "name": "conda-env-btc-classifier-py"
  },
  "language_info": {
   "codemirror_mode": {
    "name": "ipython",
    "version": 3
   },
   "file_extension": ".py",
   "mimetype": "text/x-python",
   "name": "python",
   "nbconvert_exporter": "python",
   "pygments_lexer": "ipython3",
   "version": "3.7.6"
  }
 },
 "nbformat": 4,
 "nbformat_minor": 2
}

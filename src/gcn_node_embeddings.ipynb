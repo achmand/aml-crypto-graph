{
 "cells": [
  {
   "cell_type": "code",
   "execution_count": 1,
   "metadata": {},
   "outputs": [],
   "source": [
    "# import dependencies \n",
    "import math\n",
    "import torch\n",
    "import torch.nn as nn\n",
    "from torch.nn.parameter import Parameter"
   ]
  },
  {
   "cell_type": "code",
   "execution_count": 2,
   "metadata": {},
   "outputs": [],
   "source": [
    "# Graph Convolutional Network \n",
    "class GCN(torch.nn.Module):    \n",
    "    def __init__(self, num_layers, feats_per_node, layer_1_feats, layer_2_feats, activation):\n",
    "        super().__init__()\n",
    "        self.activation = activation\n",
    "        self.num_layers = num_layers\n",
    "\n",
    "        self.w_list = nn.ParameterList()\n",
    "        for i in range(self.num_layers):\n",
    "            if i==0:\n",
    "                w_i = Parameter(torch.Tensor(feats_per_node, layer_1_feats))\n",
    "                self.reset_param(w_i)\n",
    "            else:\n",
    "                w_i = Parameter(torch.Tensor(layer_1_feats, layer_2_feats))\n",
    "                self.reset_param(w_i)\n",
    "            self.w_list.append(w_i)\n",
    "            \n",
    "    def forward(self, A_list, Nodes_list, nodes_mask_list):\n",
    "        node_feats = Nodes_list[-1]\n",
    "        #A_list: T, each element sparse tensor\n",
    "        #take only last adj matrix in time\n",
    "        Ahat = A_list[-1]\n",
    "        #Ahat: NxN ~ 30k\n",
    "        #sparse multiplication\n",
    "\n",
    "        # Ahat NxN\n",
    "        # self.node_embs = Nxk\n",
    "        #\n",
    "        # note(bwheatman, tfk): change order of matrix multiply\n",
    "        last_l = self.activation(Ahat.matmul(node_feats.matmul(self.w_list[0])))\n",
    "        for i in range(1, self.num_layers):\n",
    "            last_l = self.activation(Ahat.matmul(last_l.matmul(self.w_list[i])))\n",
    "        \n",
    "        return last_l\n",
    "\n",
    "    def reset_param(self, t):\n",
    "        stdv = 2. / math.sqrt(t.size(0))\n",
    "        t.data.uniform_(-stdv,stdv)"
   ]
  },
  {
   "cell_type": "code",
   "execution_count": 3,
   "metadata": {},
   "outputs": [],
   "source": [
    "# Cross Entropy Class\n",
    "class Cross_Entropy(torch.nn.Module):\n",
    "    def __init__(self):\n",
    "        super().__init__()\n",
    "        #weights = torch.tensor(args.class_weights).to(args.device)"
   ]
  },
  {
   "cell_type": "code",
   "execution_count": 4,
   "metadata": {},
   "outputs": [],
   "source": [
    "# Trainer Class \n",
    "class Trainer():\n",
    "    def init(self, gcn):\n",
    "        self.gcn = gcn         "
   ]
  },
  {
   "cell_type": "code",
   "execution_count": 5,
   "metadata": {},
   "outputs": [],
   "source": [
    "# start training to extract node embeddings \n",
    "device = \"cpu\"\n",
    "\n",
    "# new instance of graph convolutional neural network \n",
    "gcn = GCN(num_layers=2, \n",
    "          feats_per_node=164, \n",
    "          layer_1_feats=20, \n",
    "          layer_2_feats=10, \n",
    "          activation=torch.nn.RReLU()).to(device)\n",
    "\n",
    "# new instance of cross entropy \n",
    "cross_entropy = Cross_Entropy().to(device)"
   ]
  },
  {
   "cell_type": "code",
   "execution_count": null,
   "metadata": {},
   "outputs": [],
   "source": []
  }
 ],
 "metadata": {
  "kernelspec": {
   "display_name": "Python [conda env:btc-classifier] *",
   "language": "python",
   "name": "conda-env-btc-classifier-py"
  },
  "language_info": {
   "codemirror_mode": {
    "name": "ipython",
    "version": 3
   },
   "file_extension": ".py",
   "mimetype": "text/x-python",
   "name": "python",
   "nbconvert_exporter": "python",
   "pygments_lexer": "ipython3",
   "version": "3.7.6"
  }
 },
 "nbformat": 4,
 "nbformat_minor": 2
}

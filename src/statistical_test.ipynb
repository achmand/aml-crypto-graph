{
 "cells": [
  {
   "cell_type": "code",
   "execution_count": 5,
   "metadata": {},
   "outputs": [],
   "source": [
    "from scipy.stats import friedmanchisquare"
   ]
  },
  {
   "cell_type": "code",
   "execution_count": 25,
   "metadata": {},
   "outputs": [
    {
     "name": "stdout",
     "output_type": "stream",
     "text": [
      "Statistics=1.723, p=0.632\n",
      "Same distributions (fail to reject H0)\n"
     ]
    }
   ],
   "source": [
    "# F1-scores \n",
    "\n",
    "\n",
    "# # Recall\n",
    "# exp_1_xgb_recall  = [0.791, 0.793, 0.822, 0|.815]\n",
    "# exp_1_lgbm_recall = [0.784, 0.791, 0.819, 0.819]\n",
    "# exp_1_cat_recall  = [0.791, 0.797, 0.819, 0.812]\n",
    "# exp_1_rf_recall   = [0.768, 0.806, 0.800, 0.819]\n",
    "\n",
    "\n",
    "stat, p = friedmanchisquare(exp_1_xgb_f1, \n",
    "                            exp_1_lgbm_f1, \n",
    "                            exp_1_cat_f1, \n",
    "                            exp_1_rf_f1)\n",
    "print('Statistics=%.3f, p=%.3f' % (stat, p))\n",
    "alpha = 0.05\n",
    "if p > alpha:\n",
    "    print('Same distributions (fail to reject H0)')\n",
    "else:\n",
    "    print('Different distributions (reject H0)')"
   ]
  },
  {
   "cell_type": "code",
   "execution_count": null,
   "metadata": {},
   "outputs": [],
   "source": []
  },
  {
   "cell_type": "code",
   "execution_count": null,
   "metadata": {},
   "outputs": [],
   "source": []
  }
 ],
 "metadata": {
  "kernelspec": {
   "display_name": "Python 3.7.6 64-bit ('btc-classifier': conda)",
   "language": "python",
   "name": "python37664bitbtcclassifiercondaf328939486114fc0aeb107830f867d66"
  },
  "language_info": {
   "codemirror_mode": {
    "name": "ipython",
    "version": 3
   },
   "file_extension": ".py",
   "mimetype": "text/x-python",
   "name": "python",
   "nbconvert_exporter": "python",
   "pygments_lexer": "ipython3",
   "version": "3.7.6"
  }
 },
 "nbformat": 4,
 "nbformat_minor": 4
}

{
 "cells": [
  {
   "cell_type": "code",
   "execution_count": 1,
   "metadata": {},
   "outputs": [],
   "source": [
    "###### importing dependencies #############################################\n",
    "import cryptoaml.datareader as cdr"
   ]
  },
  {
   "cell_type": "code",
   "execution_count": 2,
   "metadata": {},
   "outputs": [],
   "source": [
    "# ###### elliptic dataset ###################################################\n",
    "# # https://www.kaggle.com/ellipticco/elliptic-data-set\n",
    "# ###########################################################################\n",
    "\n",
    "# load elliptic dataset \n",
    "# elliptic = cdr.get_data(\"elliptic\")\n",
    "\n",
    "# display(elliptic.dataset_)\n",
    "\n",
    "# print(elliptic.feature_cols_)\n",
    "# print(len(elliptic.feature_cols_AF))\n",
    "# print(len(elliptic.feature_cols_LF))\n",
    "\n",
    "# print(elliptic.labels_)\n",
    "# print(elliptic.label_count_)\n",
    "\n",
    "# elliptic_sets = elliptic.train_test_split(train_size=0.7, \n",
    "#                                   feat_set=[\"LF\", \"AF\"], \n",
    "#                                   inc_meta=False)\n",
    "\n",
    "# # print labels information \n",
    "# print(elliptic.labels_)\n",
    "# print(elliptic.label_count_)"
   ]
  },
  {
   "cell_type": "code",
   "execution_count": null,
   "metadata": {},
   "outputs": [],
   "source": [
    "###### ethereum fraud detection dataset ###################################\n",
    "# https://github.com/sfarrugia15/Ethereum_Fraud_Detection\n",
    "###########################################################################\n",
    "\n",
    "# # load eth fraud accounts dataset \n",
    "# eth_fraud = cdr.get_data(\"eth_fraud\")\n",
    "\n",
    "# # print labels information \n",
    "# print(eth_fraud.labels_)\n",
    "# print(eth_fraud.label_count_)\n",
    "\n",
    "# print(eth_fraud.feature_cols_)\n",
    "\n",
    "# print(len(eth_fraud.feature_cols_))\n",
    "\n",
    "# display(eth_fraud.dataset_)\n",
    "\n",
    "\n",
    "\n",
    "# display(eth_fraud.dataset_[[\"erc20_uniq_sent_addr\", \"erc20_uniq_sent_addr.1\"]])"
   ]
  },
  {
   "cell_type": "code",
   "execution_count": null,
   "metadata": {},
   "outputs": [],
   "source": []
  }
 ],
 "metadata": {
  "kernelspec": {
   "display_name": "Python [conda env:btc-classifier] *",
   "language": "python",
   "name": "conda-env-btc-classifier-py"
  },
  "language_info": {
   "codemirror_mode": {
    "name": "ipython",
    "version": 3
   },
   "file_extension": ".py",
   "mimetype": "text/x-python",
   "name": "python",
   "nbconvert_exporter": "python",
   "pygments_lexer": "ipython3",
   "version": "3.7.6"
  }
 },
 "nbformat": 4,
 "nbformat_minor": 4
}

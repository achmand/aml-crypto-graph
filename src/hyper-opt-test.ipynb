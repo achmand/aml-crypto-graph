{
 "cells": [
  {
   "cell_type": "code",
   "execution_count": 1,
   "metadata": {},
   "outputs": [
    {
     "name": "stderr",
     "output_type": "stream",
     "text": [
      "/home/delinvas/anaconda3/envs/btc-classifier/lib/python3.7/site-packages/sklearn/utils/deprecation.py:144: FutureWarning: The sklearn.metrics.scorer module is  deprecated in version 0.22 and will be removed in version 0.24. The corresponding classes / functions should instead be imported from sklearn.metrics. Anything that cannot be imported from sklearn.metrics is now part of the private API.\n",
      "  warnings.warn(message, FutureWarning)\n"
     ]
    }
   ],
   "source": [
    "from hyperopt import hp, fmin, tpe, Trials, STATUS_OK, rand, space_eval\n",
    "from sklearn.model_selection import cross_val_score\n",
    "import numpy as np\n",
    "import matplotlib.pyplot as plt\n",
    "import lightgbm as lgb\n",
    "import cryptoaml.datareader as cdr\n",
    "# from sklearn.model_selection import StratifiedKFold\n",
    "from cryptoaml.models import LightGbmAlgo"
   ]
  },
  {
   "cell_type": "code",
   "execution_count": 2,
   "metadata": {},
   "outputs": [],
   "source": [
    "f = \"LF\"\n",
    "data = cdr.get_data(\"elliptic\")\n",
    "data_sets = data.train_test_split(train_size=0.7, \n",
    "                                  feat_set=[f], \n",
    "                                  inc_meta=False)                  "
   ]
  },
  {
   "cell_type": "code",
   "execution_count": 14,
   "metadata": {},
   "outputs": [
    {
     "name": "stdout",
     "output_type": "stream",
     "text": [
      "iteration: 0 | loss: 0.06 | avg: 0.94 | min: 0.91 | max: 0.98 | std: 0.02\n",
      "iteration: 1 | loss: 0.06 | avg: 0.94 | min: 0.91 | max: 0.98 | std: 0.02       \n",
      "100%|██████████| 2/2 [00:15<00:00,  7.84s/trial, best loss: 0.06140826795837051]\n"
     ]
    }
   ],
   "source": [
    "light_gbm = LightGbmAlgo(\n",
    "    tune_props={\n",
    "        \"method\": \"atpe\",\n",
    "        \"n_iterations\": 2,\n",
    "        \n",
    "#         \"method\": \"evolutionary_search\",\n",
    "#         \"population_size\": 2,\n",
    "                \n",
    "        \"param_grid\": {\n",
    "            \n",
    "#             \"reg_alpha\": [0.0, 0.5, 1.0],\n",
    "#             \"reg_lambda\": [0.0, 0.5, 1.0]\n",
    "            \n",
    "            \"reg_alpha\": hp.choice(\"reg_alpha\", [0.0, 0.5, 1.0]),\n",
    "            \"reg_lambda\": hp.choice(\"reg_lambda\", [0.0, 0.5, 1.0])\n",
    "        }\n",
    "    }\n",
    ")\n",
    "\n",
    "light_gbm.fit(data_sets[f].train_X, data_sets[f].train_y)"
   ]
  },
  {
   "cell_type": "code",
   "execution_count": 4,
   "metadata": {},
   "outputs": [
    {
     "name": "stdout",
     "output_type": "stream",
     "text": [
      "{'scorer': make_scorer(f1_score, average=binary), 'best_score': 0.9375579511635888, 'best_params': {'reg_alpha': 1.0, 'reg_lambda': 1.0}}\n"
     ]
    },
    {
     "data": {
      "text/html": [
       "<div>\n",
       "<style scoped>\n",
       "    .dataframe tbody tr th:only-of-type {\n",
       "        vertical-align: middle;\n",
       "    }\n",
       "\n",
       "    .dataframe tbody tr th {\n",
       "        vertical-align: top;\n",
       "    }\n",
       "\n",
       "    .dataframe thead th {\n",
       "        text-align: right;\n",
       "    }\n",
       "</style>\n",
       "<table border=\"1\" class=\"dataframe\">\n",
       "  <thead>\n",
       "    <tr style=\"text-align: right;\">\n",
       "      <th></th>\n",
       "      <th>loss</th>\n",
       "      <th>params</th>\n",
       "      <th>score</th>\n",
       "      <th>std_score</th>\n",
       "      <th>min_score</th>\n",
       "      <th>max_score</th>\n",
       "      <th>status</th>\n",
       "    </tr>\n",
       "  </thead>\n",
       "  <tbody>\n",
       "    <tr>\n",
       "      <th>0</th>\n",
       "      <td>0.064742</td>\n",
       "      <td>{'reg_alpha': 1.0, 'reg_lambda': 0.5}</td>\n",
       "      <td>0.935258</td>\n",
       "      <td>0.023302</td>\n",
       "      <td>0.907378</td>\n",
       "      <td>0.977323</td>\n",
       "      <td>ok</td>\n",
       "    </tr>\n",
       "    <tr>\n",
       "      <th>1</th>\n",
       "      <td>0.062442</td>\n",
       "      <td>{'reg_alpha': 1.0, 'reg_lambda': 1.0}</td>\n",
       "      <td>0.937558</td>\n",
       "      <td>0.022933</td>\n",
       "      <td>0.910658</td>\n",
       "      <td>0.978817</td>\n",
       "      <td>ok</td>\n",
       "    </tr>\n",
       "  </tbody>\n",
       "</table>\n",
       "</div>"
      ],
      "text/plain": [
       "       loss                                 params     score  std_score  \\\n",
       "0  0.064742  {'reg_alpha': 1.0, 'reg_lambda': 0.5}  0.935258   0.023302   \n",
       "1  0.062442  {'reg_alpha': 1.0, 'reg_lambda': 1.0}  0.937558   0.022933   \n",
       "\n",
       "   min_score  max_score status  \n",
       "0   0.907378   0.977323     ok  \n",
       "1   0.910658   0.978817     ok  "
      ]
     },
     "metadata": {},
     "output_type": "display_data"
    }
   ],
   "source": [
    "meta_results, results = light_gbm.tune_results_\n",
    "print(meta_results)\n",
    "\n",
    "display(results)\n",
    "\n",
    "# # print(type(light_gbm._model))\n",
    "# result = light_gbm.evaluate(metrics=[\"precision\", \"recall\", \"f1\", \"f1_micro\", \"confusion\"], \n",
    "#                                      X=data_sets[f].test_X, \n",
    "#                                      y=data_sets[f].test_y)\n",
    "# print(result)"
   ]
  },
  {
   "cell_type": "code",
   "execution_count": 5,
   "metadata": {},
   "outputs": [],
   "source": [
    "\n",
    "\n",
    "# data = cdr.get_data(\"elliptic\")\n",
    "# data_sets = data.train_test_split(train_size=0.7, \n",
    "#                                   feat_set=[\"AF\"], \n",
    "#                                   inc_meta=False)\n",
    "\n",
    "# # Define objective function\n",
    "# def f(x):\n",
    "#     return {'loss': x ** 2 - x, 'status': STATUS_OK}\n",
    "\n",
    "\n",
    "# # Run hyperopt optimization\n",
    "# trials = Trials()\n",
    "# result = fmin(\n",
    "#     fn=f,                           # objective function\n",
    "#     space=hp.uniform('x', -1, 1),   # parameter space\n",
    "#     algo=tpe.suggest,               # surrogate algorithm\n",
    "#     max_evals=100,                  # no. of evaluations\n",
    "#     trials=trials                   # trials object that keeps track of the sample results (optional)\n",
    "# )\n",
    "\n",
    "# # Print the optimized parameters\n",
    "# print(result)   # {'x': 0.5000833960783931}\n",
    "\n",
    "# # Extract and plot the trials \n",
    "# x = trials.vals['x']\n",
    "# y = min([x['loss'] for x in trials.results])\n",
    "# print(y)\n",
    "# #plt.scatter(x, y)"
   ]
  },
  {
   "cell_type": "code",
   "execution_count": 6,
   "metadata": {},
   "outputs": [],
   "source": [
    "# space = {\n",
    "#     \"boosting_type\": hp.choice('boosting_type', [\"gbdt\", \"dart\"]),\n",
    "#     \"subsample\": hp.choice(\"subsample\", [1.0, 0.75, 0.5]),\n",
    "#     \"num_leaves\": hp.choice(\"num_leaves\", [30, 90, 150]),\n",
    "#     \"learning_rate\": hp.choice(\"learning_rate\", [0.1, 0.01, 0.005]),\n",
    "#     \"subsample_for_bin\": hp.choice(\"subsample_for_bin\", [200000, 20000, 2000]),\n",
    "#     \"min_child_samples\": hp.choice(\"min_child_samples\", [20, 200, 400]),\n",
    "#     \"reg_alpha\": hp.choice(\"reg_alpha\", [0.0, 0.5, 1.0]),\n",
    "#     \"reg_lambda\": hp.choice(\"reg_lambda\", [0.0, 0.5, 1.0]),\n",
    "#     \"colsample_bytree\": hp.choice(\"colsample_bytree\", [0.5, 0.75, 1.0]),\n",
    "#     \"n_estimators\": hp.choice(\"n_estimators\", [100, 200, 400, 800])\n",
    "# }"
   ]
  },
  {
   "cell_type": "code",
   "execution_count": 7,
   "metadata": {
    "scrolled": false
   },
   "outputs": [],
   "source": [
    "# best_params = {}\n",
    "# best_f1 = 0.0 \n",
    "\n",
    "# def objective(params):\n",
    "\n",
    "# #     params['boosting_type'] = params['boosting_type']['boosting_type'] \n",
    "#     clf = lgb.LGBMClassifier(**params)\n",
    "#     score = cross_val_score(clf, data_sets[\"AF\"].train_X, data_sets[\"AF\"].train_y, scoring='f1', cv=StratifiedKFold(n_splits=5)).mean()\n",
    "    \n",
    "#     print(\"F1 score: {:.3f} | params {}\".format(score, params))\n",
    "#     return 1 - score\n",
    "\n",
    "# b = fmin(fn=objective,\n",
    "#      space=space,\n",
    "#      algo=tpe.suggest,\n",
    "#      max_evals=1000)"
   ]
  },
  {
   "cell_type": "code",
   "execution_count": 8,
   "metadata": {
    "scrolled": false
   },
   "outputs": [],
   "source": [
    "# best_params = space_eval(space, b)"
   ]
  },
  {
   "cell_type": "code",
   "execution_count": 9,
   "metadata": {},
   "outputs": [],
   "source": [
    "# # best[\"boosting_type\"] = \"gbdt\"\n",
    "# best_params[\"learning_rate\"] = .1\n",
    "# clf = LightGbmAlgo(**best_params)\n",
    "# print(clf.get_params())\n",
    "# clf.fit(data_sets[\"AF\"].train_X, data_sets[\"AF\"].train_y)\n",
    "# result = clf.evaluate(metrics=[\"precision\", \"recall\", \"f1\", \"f1_micro\", \"confusion\"], \n",
    "#                                      X=data_sets[\"AF\"].test_X, \n",
    "#                                      y=data_sets[\"AF\"].test_y)\n",
    "# print(result)"
   ]
  },
  {
   "cell_type": "code",
   "execution_count": 10,
   "metadata": {},
   "outputs": [],
   "source": [
    "# clf = LightGbmAlgo()\n",
    "# print(clf.get_params())\n",
    "# clf.fit(data_sets[\"AF\"].train_X, data_sets[\"AF\"].train_y)\n",
    "# result = clf.evaluate(metrics=[\"precision\", \"recall\", \"f1\", \"f1_micro\", \"confusion\"], \n",
    "#                                      X=data_sets[\"AF\"].test_X, \n",
    "#                                      y=data_sets[\"AF\"].test_y)\n",
    "# print(result)"
   ]
  },
  {
   "cell_type": "code",
   "execution_count": 11,
   "metadata": {},
   "outputs": [],
   "source": [
    "# clf = LightGbmAlgo()\n",
    "# clf.fit(data_sets[\"AF\"].train_X, data_sets[\"AF\"].train_y)\n",
    "# print(clf.get_params())\n",
    "\n",
    "# result = clf.evaluate(metrics=[\"precision\", \"recall\", \"f1\", \"f1_micro\", \"confusion\"], \n",
    "#                                      X=data_sets[\"AF\"].test_X, \n",
    "#                                      y=data_sets[\"AF\"].test_y)\n",
    "# print(result)"
   ]
  },
  {
   "cell_type": "code",
   "execution_count": 12,
   "metadata": {},
   "outputs": [],
   "source": [
    "# print(best)\n",
    "\n",
    "# best[\"boosting_type\"] = \"gbdt\"\n",
    "\n",
    "# print(best)\n",
    "# # clf = LightGbmAlgo(**best)\n",
    "# print(clf.get_params())\n",
    "# clf.fit(data_sets[\"AF\"].train_X, data_sets[\"AF\"].train_y)\n",
    "# result = clf.evaluate(metrics=[\"precision\", \"recall\", \"f1\", \"f1_micro\", \"confusion\"], \n",
    "#                                      X=data_sets[\"AF\"].test_X, \n",
    "#                                      y=data_sets[\"AF\"].test_y)\n",
    "# print(result)"
   ]
  },
  {
   "cell_type": "code",
   "execution_count": 13,
   "metadata": {},
   "outputs": [],
   "source": [
    "# data_sets[\"AF\"].test_X.shape"
   ]
  },
  {
   "cell_type": "code",
   "execution_count": null,
   "metadata": {},
   "outputs": [],
   "source": []
  }
 ],
 "metadata": {
  "kernelspec": {
   "display_name": "Python [conda env:btc-classifier] *",
   "language": "python",
   "name": "conda-env-btc-classifier-py"
  },
  "language_info": {
   "codemirror_mode": {
    "name": "ipython",
    "version": 3
   },
   "file_extension": ".py",
   "mimetype": "text/x-python",
   "name": "python",
   "nbconvert_exporter": "python",
   "pygments_lexer": "ipython3",
   "version": "3.7.6"
  }
 },
 "nbformat": 4,
 "nbformat_minor": 4
}

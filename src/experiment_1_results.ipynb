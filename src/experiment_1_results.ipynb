{
 "cells": [
  {
   "cell_type": "code",
   "execution_count": 1,
   "metadata": {},
   "outputs": [],
   "source": [
    "###### importing dependencies #############################################\n",
    "import warnings\n",
    "warnings.filterwarnings('ignore')\n",
    "\n",
    "import numpy as np\n",
    "import matplotlib.pyplot as plt\n",
    "from collections import OrderedDict\n",
    "from sklearn.metrics import plot_confusion_matrix\n",
    "\n",
    "import cryptoaml.datareader as cdr\n",
    "from cryptoaml.models import XgboostAlgo"
   ]
  },
  {
   "cell_type": "code",
   "execution_count": 2,
   "metadata": {},
   "outputs": [],
   "source": [
    "data = cdr.get_data(\"elliptic\")\n",
    "data_sets = data.train_test_split(train_size=0.7, \n",
    "                                  feat_set=[\"LF\"], \n",
    "                                  inc_meta=False)"
   ]
  },
  {
   "cell_type": "code",
   "execution_count": 3,
   "metadata": {},
   "outputs": [],
   "source": [
    "# collection of trained models \n",
    "models = OrderedDict()\n",
    "\n",
    "# load xgboost from exp. 1 \n",
    "xgb = XgboostAlgo(persist_props={\n",
    "    \"method\": \"load\",\n",
    "    \"load_path\": \"saved_models/experiment_1/tuned/LF/xg_boost\"\n",
    "})\n",
    "models[xgb.model_name_] = xgb\n",
    "models[xgb.model_name_ + \"1\"] = xgb\n",
    "models[xgb.model_name_ + \"2\"] = xgb\n",
    "models[xgb.model_name_ + \"3\"] = xgb"
   ]
  },
  {
   "cell_type": "code",
   "execution_count": 4,
   "metadata": {
    "scrolled": false
   },
   "outputs": [
    {
     "data": {
      "image/png": "[encoded data removed]",
      "text/plain": [
       "<Figure size 432x288 with 1 Axes>"
      ]
     },
     "metadata": {
      "needs_background": "light"
     },
     "output_type": "display_data"
    },
    {
     "name": "stdout",
     "output_type": "stream",
     "text": [
      "[0.7734138972809667, 0.7734138972809667, 0.7734138972809667, 0.7734138972809667]\n"
     ]
    }
   ],
   "source": [
    "# display results \n",
    "\n",
    "def plot_feature_importance(models):\n",
    "    for key, value in models.items():\n",
    "        value.feature_importances_.plot.bar(figsize=(18,5))\n",
    "        plt.xlabel(\"Feature Importance Score [{0}]\".format(key))\n",
    "        plt.show()\n",
    "\n",
    "def plot_performance(models, test_X, test_y):\n",
    "    f1 = []\n",
    "    model_names = models.keys()\n",
    "    for key, value in models.items():\n",
    "        tmp_results = value.evaluate(metrics=[\"precision\", \"recall\", \"f1\", \"f1_micro\", \"confusion\"], \n",
    "                                     X=data_sets[\"LF\"].test_X, \n",
    "                                     y=data_sets[\"LF\"].test_y)\n",
    "        \n",
    "        f1.append(tmp_results[\"f1\"])\n",
    "        \n",
    "    y_pos = np.arange(len(model_names))\n",
    "    plt.bar(y_pos, f1, align='center', alpha=0.5)\n",
    "    plt.xticks(y_pos, model_names)\n",
    "    plt.ylabel(\"F1\")\n",
    "    plt.title(\"Results - F1 (Illicit)\")\n",
    "\n",
    "    plt.show()\n",
    "    \n",
    "    print(f1)\n",
    "        \n",
    "# show_feature_importance(models)\n",
    "\n",
    "plot_performance(models, data_sets[\"LF\"].test_X, data_sets[\"LF\"].test_y)\n",
    "\n",
    "# perf_results = xgb.evaluate(metrics=[\"precision\", \"recall\", \"f1\", \"f1_micro\", \"confusion\"], \n",
    "#                             X=data_sets[\"LF\"].test_X, \n",
    "#                             y=data_sets[\"LF\"].test_y)\n",
    "# print(perf_results)"
   ]
  }
 ],
 "metadata": {
  "kernelspec": {
   "display_name": "Python [conda env:btc-classifier] *",
   "language": "python",
   "name": "conda-env-btc-classifier-py"
  },
  "language_info": {
   "codemirror_mode": {
    "name": "ipython",
    "version": 3
   },
   "file_extension": ".py",
   "mimetype": "text/x-python",
   "name": "python",
   "nbconvert_exporter": "python",
   "pygments_lexer": "ipython3",
   "version": "3.7.6"
  }
 },
 "nbformat": 4,
 "nbformat_minor": 4
}

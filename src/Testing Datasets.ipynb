{
 "cells": [
  {
   "cell_type": "code",
   "execution_count": 1,
   "metadata": {},
   "outputs": [
    {
     "name": "stderr",
     "output_type": "stream",
     "text": [
      "/home/delinvas/anaconda3/envs/btc-classifier/lib/python3.7/site-packages/sklearn/utils/deprecation.py:144: FutureWarning:\n",
      "\n",
      "The sklearn.metrics.scorer module is  deprecated in version 0.22 and will be removed in version 0.24. The corresponding classes / functions should instead be imported from sklearn.metrics. Anything that cannot be imported from sklearn.metrics is now part of the private API.\n",
      "\n"
     ]
    }
   ],
   "source": [
    "from collections import Counter\n",
    "import cryptoaml.datareader as cdr\n",
    "from cryptoaml.models import XgboostAlgo"
   ]
  },
  {
   "cell_type": "code",
   "execution_count": 2,
   "metadata": {},
   "outputs": [
    {
     "name": "stdout",
     "output_type": "stream",
     "text": [
      "Counter({0: 26432, 1: 3462})\n",
      "Counter({0: 15587, 1: 1083})\n",
      "{'objective': 'binary:logistic', 'base_score': 0.5, 'booster': None, 'colsample_bylevel': 1, 'colsample_bynode': 1, 'colsample_bytree': 1, 'gamma': 0, 'gpu_id': -1, 'importance_type': 'gain', 'interaction_constraints': None, 'learning_rate': 0.300000012, 'max_delta_step': 0, 'max_depth': 6, 'min_child_weight': 1, 'missing': nan, 'monotone_constraints': None, 'n_estimators': 100, 'n_jobs': 0, 'num_parallel_tree': 1, 'random_state': 0, 'reg_alpha': 0, 'reg_lambda': 1, 'scale_pos_weight': 1, 'subsample': 1, 'tree_method': None, 'validate_parameters': False, 'verbosity': None}\n",
      "OrderedDict([('f1', 0.8118918918918919), ('recall', 0.6934441366574331), ('precision', 0.9791395045632334), ('auc', 0.8462088201090463), ('f1_micro', 0.979124175164967)])\n"
     ]
    }
   ],
   "source": [
    "elliptic = cdr.get_data(\"elliptic\")\n",
    "data = elliptic.train_test_split(train_size=0.7, \n",
    "                                 feat_set=\"AF_NE\", \n",
    "                                 inc_meta=False,\n",
    "                                 inc_unknown=False)\n",
    "\n",
    "train_X = data.train_X\n",
    "train_y = data.train_y\n",
    "test_X = data.test_X\n",
    "test_y = data.test_y\n",
    "counter = Counter(train_y)\n",
    "print(counter)\n",
    "counter = Counter(test_y)\n",
    "print(counter)\n",
    "\n",
    "tmp = XgboostAlgo()\n",
    "tmp.fit(train_X, train_y, tune=False)\n",
    "print(tmp.get_params())\n",
    "results = tmp.evaluate([\"f1\", \"recall\", \"precision\", \"auc\", \"f1_micro\"], test_X, test_y)\n",
    "print(results)"
   ]
  },
  {
   "cell_type": "code",
   "execution_count": 3,
   "metadata": {},
   "outputs": [
    {
     "name": "stdout",
     "output_type": "stream",
     "text": [
      "Counter({0: 25229, 1: 3462})\n",
      "Counter({0: 15587, 1: 1083})\n",
      "{'objective': 'binary:logistic', 'base_score': 0.5, 'booster': None, 'colsample_bylevel': 1, 'colsample_bynode': 1, 'colsample_bytree': 1, 'gamma': 0, 'gpu_id': -1, 'importance_type': 'gain', 'interaction_constraints': None, 'learning_rate': 0.300000012, 'max_delta_step': 0, 'max_depth': 6, 'min_child_weight': 1, 'missing': nan, 'monotone_constraints': None, 'n_estimators': 100, 'n_jobs': 0, 'num_parallel_tree': 1, 'random_state': 0, 'reg_alpha': 0, 'reg_lambda': 1, 'scale_pos_weight': 1, 'subsample': 1, 'tree_method': None, 'validate_parameters': False, 'verbosity': None}\n",
      "OrderedDict([('f1', 0.8109266202463845), ('recall', 0.6989843028624192), ('precision', 0.9655612244897959), ('auc', 0.8486260450605161), ('f1_micro', 0.9788242351529695)])\n"
     ]
    }
   ],
   "source": [
    "elliptic = cdr.get_data(\"elliptic\", config_file=\"configuration/data/ell_data_config_ncr.yaml\")\n",
    "data = elliptic.train_test_split(train_size=0.7, \n",
    "                                 feat_set=\"AF_NE\", \n",
    "                                 inc_meta=False,\n",
    "                                 inc_unknown=False)\n",
    "\n",
    "train_X = data.train_X\n",
    "train_y = data.train_y\n",
    "test_X = data.test_X\n",
    "test_y = data.test_y\n",
    "counter = Counter(train_y)\n",
    "print(counter)\n",
    "counter = Counter(test_y)\n",
    "print(counter)\n",
    "\n",
    "tmp = XgboostAlgo()\n",
    "tmp.fit(train_X, train_y, tune=False)\n",
    "print(tmp.get_params())\n",
    "results = tmp.evaluate([\"f1\", \"recall\", \"precision\", \"auc\", \"f1_micro\"], test_X, test_y)\n",
    "print(results)"
   ]
  },
  {
   "cell_type": "code",
   "execution_count": 4,
   "metadata": {},
   "outputs": [
    {
     "name": "stdout",
     "output_type": "stream",
     "text": [
      "Counter({0: 24908, 1: 3462})\n",
      "Counter({0: 15587, 1: 1083})\n",
      "{'objective': 'binary:logistic', 'base_score': 0.5, 'booster': None, 'colsample_bylevel': 1, 'colsample_bynode': 1, 'colsample_bytree': 1, 'gamma': 0, 'gpu_id': -1, 'importance_type': 'gain', 'interaction_constraints': None, 'learning_rate': 0.300000012, 'max_delta_step': 0, 'max_depth': 6, 'min_child_weight': 1, 'missing': nan, 'monotone_constraints': None, 'n_estimators': 100, 'n_jobs': 0, 'num_parallel_tree': 1, 'random_state': 0, 'reg_alpha': 0, 'reg_lambda': 1, 'scale_pos_weight': 1, 'subsample': 1, 'tree_method': None, 'validate_parameters': False, 'verbosity': None}\n",
      "OrderedDict([('f1', 0.814655172413793), ('recall', 0.6980609418282548), ('precision', 0.9780077619663649), ('auc', 0.8484851446807277), ('f1_micro', 0.9793641271745651)])\n"
     ]
    }
   ],
   "source": [
    "elliptic = cdr.get_data(\"elliptic\", config_file=\"configuration/data/ell_data_config_ncr_stratified.yaml\")\n",
    "data = elliptic.train_test_split(train_size=0.7, \n",
    "                                 feat_set=\"AF_NE\", \n",
    "                                 inc_meta=False,\n",
    "                                 inc_unknown=False)\n",
    "\n",
    "train_X = data.train_X\n",
    "train_y = data.train_y\n",
    "test_X = data.test_X\n",
    "test_y = data.test_y\n",
    "counter = Counter(train_y)\n",
    "print(counter)\n",
    "counter = Counter(test_y)\n",
    "print(counter)\n",
    "\n",
    "tmp = XgboostAlgo()\n",
    "tmp.fit(train_X, train_y, tune=False)\n",
    "print(tmp.get_params())\n",
    "results = tmp.evaluate([\"f1\", \"recall\", \"precision\", \"auc\", \"f1_micro\"], test_X, test_y)\n",
    "print(results)"
   ]
  },
  {
   "cell_type": "code",
   "execution_count": null,
   "metadata": {},
   "outputs": [],
   "source": []
  }
 ],
 "metadata": {
  "kernelspec": {
   "display_name": "Python 3.7.6 64-bit ('btc-classifier': conda)",
   "language": "python",
   "name": "python37664bitbtcclassifiercondaf328939486114fc0aeb107830f867d66"
  },
  "language_info": {
   "codemirror_mode": {
    "name": "ipython",
    "version": 3
   },
   "file_extension": ".py",
   "mimetype": "text/x-python",
   "name": "python",
   "nbconvert_exporter": "python",
   "pygments_lexer": "ipython3",
   "version": "3.7.6"
  }
 },
 "nbformat": 4,
 "nbformat_minor": 4
}

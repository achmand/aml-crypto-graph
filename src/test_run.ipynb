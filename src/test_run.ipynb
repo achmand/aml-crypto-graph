{
 "cells": [
  {
   "cell_type": "code",
   "execution_count": 1,
   "metadata": {},
   "outputs": [
    {
     "name": "stderr",
     "output_type": "stream",
     "text": [
      "/home/delinvas/anaconda3/envs/btc-classifier/lib/python3.7/site-packages/sklearn/utils/deprecation.py:144: FutureWarning: The sklearn.metrics.scorer module is  deprecated in version 0.22 and will be removed in version 0.24. The corresponding classes / functions should instead be imported from sklearn.metrics. Anything that cannot be imported from sklearn.metrics is now part of the private API.\n",
      "  warnings.warn(message, FutureWarning)\n"
     ]
    }
   ],
   "source": [
    "import cryptoaml.datareader as cdr\n",
    "from cryptoaml.models import RandomForestAlgo, XgboostAlgo, LightGbmAlgo, CatBoostAlgo"
   ]
  },
  {
   "cell_type": "code",
   "execution_count": 4,
   "metadata": {},
   "outputs": [],
   "source": [
    "data = cdr.get_data(\"elliptic\")\n",
    "data_sets = data.train_test_split(train_size=0.7, \n",
    "                                  feat_set=[\"LF\"], \n",
    "                                  inc_meta=False)\n",
    "LF_dataset = data_sets[\"LF\"]"
   ]
  },
  {
   "cell_type": "code",
   "execution_count": 41,
   "metadata": {},
   "outputs": [
    {
     "name": "stdout",
     "output_type": "stream",
     "text": [
      "{'objective': 'binary:logistic', 'base_score': 0.5, 'booster': None, 'colsample_bylevel': 1, 'colsample_bynode': 1, 'colsample_bytree': 1, 'gamma': 0, 'gpu_id': -1, 'importance_type': 'gain', 'interaction_constraints': None, 'learning_rate': 0.300000012, 'max_delta_step': 0, 'max_depth': 6, 'min_child_weight': 1, 'missing': nan, 'monotone_constraints': None, 'n_estimators': 100, 'n_jobs': 4, 'num_parallel_tree': 1, 'random_state': 0, 'reg_alpha': 0, 'reg_lambda': 1, 'scale_pos_weight': 1, 'subsample': 0.5, 'tree_method': None, 'validate_parameters': False, 'verbosity': None}\n"
     ]
    }
   ],
   "source": [
    "rf = XgboostAlgo(n_jobs=4, subsample=.5)\n",
    "rf.fit(LF_dataset.train_X,LF_dataset.train_y)\n",
    "print(rf.get_params())"
   ]
  },
  {
   "cell_type": "code",
   "execution_count": 42,
   "metadata": {},
   "outputs": [
    {
     "name": "stdout",
     "output_type": "stream",
     "text": [
      "{'precision': 0.8008342022940563, 'recall': 0.7091412742382271, 'f1': 0.7522037218413321, 'f1_micro': 0.9696460707858429, 'confusion': array([[15396,   191],\n",
      "       [  315,   768]])}\n"
     ]
    }
   ],
   "source": [
    "metrics = rf.evaluate([\"precision\", \"recall\", \"f1\", \"f1_micro\", \"confusion\"], \n",
    "                      LF_dataset.test_X,\n",
    "                      LF_dataset.test_y)\n",
    "print(metrics)"
   ]
  },
  {
   "cell_type": "code",
   "execution_count": null,
   "metadata": {},
   "outputs": [],
   "source": [
    "0.7642276422764227\n",
    "0.7642276422764227\n",
    "0.7642276422764227\n",
    "0.7642276422764227\n",
    "\n",
    "0.7783452502553626\n",
    "0.7783452502553626\n",
    "0.7783452502553626\n",
    "\n",
    "0.5467411545623836\n",
    "0.5461309523809523\n",
    "\n",
    "\n",
    "0.754257907542579\n",
    "0.7522037218413321\n"
   ]
  }
 ],
 "metadata": {
  "kernelspec": {
   "display_name": "Python [conda env:btc-classifier] *",
   "language": "python",
   "name": "conda-env-btc-classifier-py"
  },
  "language_info": {
   "codemirror_mode": {
    "name": "ipython",
    "version": 3
   },
   "file_extension": ".py",
   "mimetype": "text/x-python",
   "name": "python",
   "nbconvert_exporter": "python",
   "pygments_lexer": "ipython3",
   "version": "3.7.6"
  }
 },
 "nbformat": 4,
 "nbformat_minor": 4
}

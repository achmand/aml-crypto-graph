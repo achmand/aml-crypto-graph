{
 "cells": [
  {
   "cell_type": "code",
   "execution_count": 1,
   "metadata": {},
   "outputs": [
    {
     "name": "stderr",
     "output_type": "stream",
     "text": [
      "/home/delinvas/anaconda3/envs/btc-classifier/lib/python3.7/site-packages/sklearn/utils/deprecation.py:144: FutureWarning:\n",
      "\n",
      "The sklearn.metrics.scorer module is  deprecated in version 0.22 and will be removed in version 0.24. The corresponding classes / functions should instead be imported from sklearn.metrics. Anything that cannot be imported from sklearn.metrics is now part of the private API.\n",
      "\n"
     ]
    }
   ],
   "source": [
    "import numpy as np\n",
    "import cryptoaml.datareader as cdr\n",
    "from cryptoaml.models import RandomForestAlgo"
   ]
  },
  {
   "cell_type": "code",
   "execution_count": 5,
   "metadata": {},
   "outputs": [],
   "source": [
    "elliptic = cdr.get_data(\"elliptic\")\n",
    "data = elliptic.train_test_split(train_size=0.7, feat_set=\"AF_NE\")\n",
    "\n",
    "train_X = data.train_X\n",
    "train_y = data.train_y\n",
    "test_X = data.test_X\n",
    "test_y = data.test_y"
   ]
  },
  {
   "cell_type": "code",
   "execution_count": 3,
   "metadata": {},
   "outputs": [
    {
     "data": {
      "text/html": [
       "<div>\n",
       "<style scoped>\n",
       "    .dataframe tbody tr th:only-of-type {\n",
       "        vertical-align: middle;\n",
       "    }\n",
       "\n",
       "    .dataframe tbody tr th {\n",
       "        vertical-align: top;\n",
       "    }\n",
       "\n",
       "    .dataframe thead th {\n",
       "        text-align: right;\n",
       "    }\n",
       "</style>\n",
       "<table border=\"1\" class=\"dataframe\">\n",
       "  <thead>\n",
       "    <tr style=\"text-align: right;\">\n",
       "      <th></th>\n",
       "      <th>ts</th>\n",
       "      <th>LF_0</th>\n",
       "      <th>LF_1</th>\n",
       "      <th>LF_2</th>\n",
       "      <th>LF_3</th>\n",
       "      <th>LF_4</th>\n",
       "      <th>LF_5</th>\n",
       "      <th>LF_6</th>\n",
       "      <th>LF_7</th>\n",
       "      <th>LF_8</th>\n",
       "      <th>...</th>\n",
       "      <th>NE_90</th>\n",
       "      <th>NE_91</th>\n",
       "      <th>NE_92</th>\n",
       "      <th>NE_93</th>\n",
       "      <th>NE_94</th>\n",
       "      <th>NE_95</th>\n",
       "      <th>NE_96</th>\n",
       "      <th>NE_97</th>\n",
       "      <th>NE_98</th>\n",
       "      <th>NE_99</th>\n",
       "    </tr>\n",
       "  </thead>\n",
       "  <tbody>\n",
       "    <tr>\n",
       "      <th>134511</th>\n",
       "      <td>34</td>\n",
       "      <td>-0.172947</td>\n",
       "      <td>-0.070152</td>\n",
       "      <td>0.463609</td>\n",
       "      <td>-0.121970</td>\n",
       "      <td>-0.043875</td>\n",
       "      <td>-0.113002</td>\n",
       "      <td>-0.061584</td>\n",
       "      <td>-0.163606</td>\n",
       "      <td>-0.169421</td>\n",
       "      <td>...</td>\n",
       "      <td>0.000000</td>\n",
       "      <td>0.0</td>\n",
       "      <td>0.000000</td>\n",
       "      <td>0.000000</td>\n",
       "      <td>0.000000</td>\n",
       "      <td>0.000000</td>\n",
       "      <td>0.000000</td>\n",
       "      <td>0.000000</td>\n",
       "      <td>0.000000</td>\n",
       "      <td>0.0</td>\n",
       "    </tr>\n",
       "    <tr>\n",
       "      <th>134512</th>\n",
       "      <td>34</td>\n",
       "      <td>-0.172960</td>\n",
       "      <td>-0.081852</td>\n",
       "      <td>0.463609</td>\n",
       "      <td>-0.121970</td>\n",
       "      <td>-0.043875</td>\n",
       "      <td>-0.113002</td>\n",
       "      <td>-0.061584</td>\n",
       "      <td>-0.163619</td>\n",
       "      <td>-0.169434</td>\n",
       "      <td>...</td>\n",
       "      <td>0.100331</td>\n",
       "      <td>0.0</td>\n",
       "      <td>0.000000</td>\n",
       "      <td>0.000000</td>\n",
       "      <td>0.000000</td>\n",
       "      <td>0.000000</td>\n",
       "      <td>0.000000</td>\n",
       "      <td>0.152085</td>\n",
       "      <td>0.244580</td>\n",
       "      <td>0.0</td>\n",
       "    </tr>\n",
       "    <tr>\n",
       "      <th>134525</th>\n",
       "      <td>34</td>\n",
       "      <td>-0.172950</td>\n",
       "      <td>-0.081127</td>\n",
       "      <td>-1.201369</td>\n",
       "      <td>-0.121970</td>\n",
       "      <td>-0.043875</td>\n",
       "      <td>-0.113002</td>\n",
       "      <td>-0.061584</td>\n",
       "      <td>-0.163609</td>\n",
       "      <td>-0.169424</td>\n",
       "      <td>...</td>\n",
       "      <td>0.645275</td>\n",
       "      <td>0.0</td>\n",
       "      <td>1.855973</td>\n",
       "      <td>0.933935</td>\n",
       "      <td>0.000000</td>\n",
       "      <td>1.407513</td>\n",
       "      <td>0.000000</td>\n",
       "      <td>0.225352</td>\n",
       "      <td>0.243526</td>\n",
       "      <td>0.0</td>\n",
       "    </tr>\n",
       "    <tr>\n",
       "      <th>134528</th>\n",
       "      <td>34</td>\n",
       "      <td>0.276966</td>\n",
       "      <td>-0.104657</td>\n",
       "      <td>0.463609</td>\n",
       "      <td>-0.121970</td>\n",
       "      <td>-0.043875</td>\n",
       "      <td>-0.113002</td>\n",
       "      <td>-0.061584</td>\n",
       "      <td>0.296720</td>\n",
       "      <td>0.284454</td>\n",
       "      <td>...</td>\n",
       "      <td>0.003265</td>\n",
       "      <td>0.0</td>\n",
       "      <td>2.498084</td>\n",
       "      <td>0.502986</td>\n",
       "      <td>0.604136</td>\n",
       "      <td>0.000000</td>\n",
       "      <td>2.128876</td>\n",
       "      <td>2.265944</td>\n",
       "      <td>0.229216</td>\n",
       "      <td>0.0</td>\n",
       "    </tr>\n",
       "    <tr>\n",
       "      <th>134549</th>\n",
       "      <td>34</td>\n",
       "      <td>-0.146326</td>\n",
       "      <td>0.630711</td>\n",
       "      <td>-0.091383</td>\n",
       "      <td>0.778481</td>\n",
       "      <td>-0.063725</td>\n",
       "      <td>0.809483</td>\n",
       "      <td>-0.061584</td>\n",
       "      <td>-0.163643</td>\n",
       "      <td>-0.148340</td>\n",
       "      <td>...</td>\n",
       "      <td>2.218314</td>\n",
       "      <td>0.0</td>\n",
       "      <td>0.000000</td>\n",
       "      <td>0.000000</td>\n",
       "      <td>0.000000</td>\n",
       "      <td>0.000000</td>\n",
       "      <td>0.000000</td>\n",
       "      <td>0.507234</td>\n",
       "      <td>0.000000</td>\n",
       "      <td>0.0</td>\n",
       "    </tr>\n",
       "  </tbody>\n",
       "</table>\n",
       "<p>5 rows × 266 columns</p>\n",
       "</div>"
      ],
      "text/plain": [
       "        ts      LF_0      LF_1      LF_2      LF_3      LF_4      LF_5  \\\n",
       "134511  34 -0.172947 -0.070152  0.463609 -0.121970 -0.043875 -0.113002   \n",
       "134512  34 -0.172960 -0.081852  0.463609 -0.121970 -0.043875 -0.113002   \n",
       "134525  34 -0.172950 -0.081127 -1.201369 -0.121970 -0.043875 -0.113002   \n",
       "134528  34  0.276966 -0.104657  0.463609 -0.121970 -0.043875 -0.113002   \n",
       "134549  34 -0.146326  0.630711 -0.091383  0.778481 -0.063725  0.809483   \n",
       "\n",
       "            LF_6      LF_7      LF_8  ...     NE_90  NE_91     NE_92  \\\n",
       "134511 -0.061584 -0.163606 -0.169421  ...  0.000000    0.0  0.000000   \n",
       "134512 -0.061584 -0.163619 -0.169434  ...  0.100331    0.0  0.000000   \n",
       "134525 -0.061584 -0.163609 -0.169424  ...  0.645275    0.0  1.855973   \n",
       "134528 -0.061584  0.296720  0.284454  ...  0.003265    0.0  2.498084   \n",
       "134549 -0.061584 -0.163643 -0.148340  ...  2.218314    0.0  0.000000   \n",
       "\n",
       "           NE_93     NE_94     NE_95     NE_96     NE_97     NE_98  NE_99  \n",
       "134511  0.000000  0.000000  0.000000  0.000000  0.000000  0.000000    0.0  \n",
       "134512  0.000000  0.000000  0.000000  0.000000  0.152085  0.244580    0.0  \n",
       "134525  0.933935  0.000000  1.407513  0.000000  0.225352  0.243526    0.0  \n",
       "134528  0.502986  0.604136  0.000000  2.128876  2.265944  0.229216    0.0  \n",
       "134549  0.000000  0.000000  0.000000  0.000000  0.507234  0.000000    0.0  \n",
       "\n",
       "[5 rows x 266 columns]"
      ]
     },
     "metadata": {},
     "output_type": "display_data"
    }
   ],
   "source": [
    "results = {}\n",
    "iterations = 1\n",
    "display(train_X.tail())"
   ]
  },
  {
   "cell_type": "code",
   "execution_count": 6,
   "metadata": {},
   "outputs": [
    {
     "name": "stdout",
     "output_type": "stream",
     "text": [
      "OrderedDict([('f1', 0.8265682656826568), ('recall', 0.7239150507848569), ('precision', 0.9631449631449631), ('f1_micro', 0.9802639472105579)])\n"
     ]
    }
   ],
   "source": [
    "f1_scores = []\n",
    "for i in range(iterations):\n",
    "    model = RandomForestAlgo(n_estimators=50, max_features=50)\n",
    "    model.fit(train_X, train_y)\n",
    "    results = model.evaluate([\"f1\", \"recall\", \"precision\", \"f1_micro\"], test_X, test_y)\n",
    "    f1_scores.append(results[\"f1\"])\n",
    "    print(results)\n",
    "    \n",
    "# print(f1_scores)"
   ]
  },
  {
   "cell_type": "code",
   "execution_count": 5,
   "metadata": {},
   "outputs": [
    {
     "name": "stdout",
     "output_type": "stream",
     "text": [
      "0.8169900367068695\n"
     ]
    }
   ],
   "source": [
    "# mat = np.array(f1_scores)\n",
    "# print(mat.mean())"
   ]
  },
  {
   "cell_type": "code",
   "execution_count": null,
   "metadata": {},
   "outputs": [],
   "source": [
    "# AF: 0.8169900367068695\n",
    "# AF_NEW: 0.8265682656826568"
   ]
  }
 ],
 "metadata": {
  "kernelspec": {
   "display_name": "Python 3.7.6 64-bit ('btc-classifier': conda)",
   "language": "python",
   "name": "python37664bitbtcclassifiercondaf328939486114fc0aeb107830f867d66"
  },
  "language_info": {
   "codemirror_mode": {
    "name": "ipython",
    "version": 3
   },
   "file_extension": ".py",
   "mimetype": "text/x-python",
   "name": "python",
   "nbconvert_exporter": "python",
   "pygments_lexer": "ipython3",
   "version": "3.7.6"
  }
 },
 "nbformat": 4,
 "nbformat_minor": 4
}

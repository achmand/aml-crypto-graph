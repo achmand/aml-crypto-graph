{
 "cells": [
  {
   "cell_type": "code",
   "execution_count": 11,
   "metadata": {},
   "outputs": [],
   "source": [
    "import cryptoaml.datareader as cdr\n",
    "from cryptoaml.models import RandomForestAlgo"
   ]
  },
  {
   "cell_type": "code",
   "execution_count": 12,
   "metadata": {},
   "outputs": [],
   "source": [
    "elliptic = cdr.get_data(\"elliptic\")\n",
    "data = elliptic.train_test_split(train_size=0.7, feat_set=\"LF\")\n",
    "\n",
    "train_X = data.train_X\n",
    "train_y = data.train_y\n",
    "test_X = data.test_X\n",
    "test_y = data.test_y"
   ]
  },
  {
   "cell_type": "code",
   "execution_count": 13,
   "metadata": {},
   "outputs": [],
   "source": [
    "results = {}\n",
    "iterations = 10"
   ]
  },
  {
   "cell_type": "code",
   "execution_count": 14,
   "metadata": {},
   "outputs": [
    {
     "name": "stdout",
     "output_type": "stream",
     "text": [
      "OrderedDict([('f1', 0.7814235234729934), ('recall', 0.7146814404432132), ('precision', 0.8619153674832962), ('f1_micro', 0.9740251949610078)])\n",
      "OrderedDict([('f1', 0.7818552497451581), ('recall', 0.7082179132040628), ('precision', 0.8725824800910125), ('f1_micro', 0.9743251349730054)])\n",
      "OrderedDict([('f1', 0.7908163265306123), ('recall', 0.7156048014773777), ('precision', 0.8836944127708096), ('f1_micro', 0.9754049190161967)])\n",
      "OrderedDict([('f1', 0.7866193613786113), ('recall', 0.716528162511542), ('precision', 0.8719101123595505), ('f1_micro', 0.974745050989802)])\n",
      "OrderedDict([('f1', 0.7865168539325843), ('recall', 0.7109879963065558), ('precision', 0.88), ('f1_micro', 0.9749250149970006)])\n",
      "OrderedDict([('f1', 0.7847186370676302), ('recall', 0.7017543859649122), ('precision', 0.8899297423887588), ('f1_micro', 0.9749850029994002)])\n",
      "OrderedDict([('f1', 0.7706422018348624), ('recall', 0.6980609418282548), ('precision', 0.8600682593856656), ('f1_micro', 0.973005398920216)])\n",
      "OrderedDict([('f1', 0.771047227926078), ('recall', 0.6934441366574331), ('precision', 0.8682080924855491), ('f1_micro', 0.973245350929814)])\n",
      "OrderedDict([('f1', 0.7687564234326824), ('recall', 0.6906740535549399), ('precision', 0.8667439165701043), ('f1_micro', 0.973005398920216)])\n",
      "OrderedDict([('f1', 0.7823439878234398), ('recall', 0.7119113573407202), ('precision', 0.8682432432432432), ('f1_micro', 0.9742651469706058)])\n"
     ]
    }
   ],
   "source": [
    "for i in range(iterations):\n",
    "    model = RandomForestAlgo(n_estimators=50, max_features=50)\n",
    "    model.fit(train_X, train_y)\n",
    "    results = model.evaluate([\"f1\", \"recall\", \"precision\", \"f1_micro\"], test_X, test_y)\n",
    "    print(results)"
   ]
  },
  {
   "cell_type": "code",
   "execution_count": null,
   "metadata": {},
   "outputs": [],
   "source": []
  }
 ],
 "metadata": {
  "kernelspec": {
   "display_name": "Python 3.7.6 64-bit ('btc-classifier': conda)",
   "language": "python",
   "name": "python37664bitbtcclassifiercondaf328939486114fc0aeb107830f867d66"
  },
  "language_info": {
   "codemirror_mode": {
    "name": "ipython",
    "version": 3
   },
   "file_extension": ".py",
   "mimetype": "text/x-python",
   "name": "python",
   "nbconvert_exporter": "python",
   "pygments_lexer": "ipython3",
   "version": "3.7.6"
  }
 },
 "nbformat": 4,
 "nbformat_minor": 4
}

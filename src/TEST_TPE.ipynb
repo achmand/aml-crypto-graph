{
 "cells": [
  {
   "cell_type": "code",
   "execution_count": 7,
   "metadata": {},
   "outputs": [],
   "source": [
    "import cryptoaml.datareader as cdr\n",
    "from cryptoaml.models import RandomForestAlgo\n",
    "from cryptoaml.models import CatBoostAlgo\n",
    "from cryptoaml.models import LightGbmAlgo\n",
    "from cryptoaml.models import XgboostAlgo"
   ]
  },
  {
   "cell_type": "code",
   "execution_count": null,
   "metadata": {},
   "outputs": [],
   "source": [
    "xgb = XgboostAlgo(persist_props={\n",
    "    \"method\":\"load\", \n",
    "    \"load_path\": \"persistence/experiment_1/tuned_models/AF_NE/xg_boost\"\n",
    "})"
   ]
  },
  {
   "cell_type": "code",
   "execution_count": null,
   "metadata": {},
   "outputs": [],
   "source": [
    "print(xgb.get_params())"
   ]
  },
  {
   "cell_type": "code",
   "execution_count": null,
   "metadata": {},
   "outputs": [],
   "source": [
    "display(xgb.tune_results_[1])\n",
    "print(xgb.tune_props_)"
   ]
  },
  {
   "cell_type": "code",
   "execution_count": null,
   "metadata": {},
   "outputs": [],
   "source": [
    "print(xgb.get_params())"
   ]
  },
  {
   "cell_type": "code",
   "execution_count": null,
   "metadata": {},
   "outputs": [],
   "source": [
    "# study = xgb._tuner._study.best_trial.params"
   ]
  },
  {
   "cell_type": "code",
   "execution_count": null,
   "metadata": {},
   "outputs": [],
   "source": [
    "# print(study.best_trial)\n",
    "\n",
    "print(study.best_trial.params)"
   ]
  },
  {
   "cell_type": "code",
   "execution_count": null,
   "metadata": {},
   "outputs": [],
   "source": [
    "# display(study.trials_dataframe())"
   ]
  },
  {
   "cell_type": "code",
   "execution_count": null,
   "metadata": {},
   "outputs": [],
   "source": [
    "\n",
    "# display(train_X)\n",
    "# display(test_X)"
   ]
  },
  {
   "cell_type": "code",
   "execution_count": null,
   "metadata": {
    "scrolled": false
   },
   "outputs": [
    {
     "data": {
      "text/html": [
       "<div>\n",
       "<style scoped>\n",
       "    .dataframe tbody tr th:only-of-type {\n",
       "        vertical-align: middle;\n",
       "    }\n",
       "\n",
       "    .dataframe tbody tr th {\n",
       "        vertical-align: top;\n",
       "    }\n",
       "\n",
       "    .dataframe thead th {\n",
       "        text-align: right;\n",
       "    }\n",
       "</style>\n",
       "<table border=\"1\" class=\"dataframe\">\n",
       "  <thead>\n",
       "    <tr style=\"text-align: right;\">\n",
       "      <th></th>\n",
       "      <th>number</th>\n",
       "      <th>value</th>\n",
       "      <th>datetime_start</th>\n",
       "      <th>datetime_complete</th>\n",
       "      <th>params_colsample_bylevel</th>\n",
       "      <th>params_colsample_bytree</th>\n",
       "      <th>params_gamma</th>\n",
       "      <th>params_learning_rate</th>\n",
       "      <th>params_max_depth</th>\n",
       "      <th>params_min_child_weight</th>\n",
       "      <th>params_reg_alpha</th>\n",
       "      <th>params_reg_lambda</th>\n",
       "      <th>params_subsample</th>\n",
       "      <th>user_attrs_best_n_estimators</th>\n",
       "      <th>user_attrs_cv_max</th>\n",
       "      <th>user_attrs_cv_min</th>\n",
       "      <th>user_attrs_cv_std</th>\n",
       "      <th>state</th>\n",
       "    </tr>\n",
       "  </thead>\n",
       "  <tbody>\n",
       "    <tr>\n",
       "      <th>0</th>\n",
       "      <td>0</td>\n",
       "      <td>0.966946</td>\n",
       "      <td>2020-05-01 21:15:42.923342</td>\n",
       "      <td>2020-05-01 21:22:54.335048</td>\n",
       "      <td>0.855356</td>\n",
       "      <td>0.973836</td>\n",
       "      <td>0.108208</td>\n",
       "      <td>0.017131</td>\n",
       "      <td>5</td>\n",
       "      <td>7.989269e-07</td>\n",
       "      <td>4.369495</td>\n",
       "      <td>1.340650e-07</td>\n",
       "      <td>0.611285</td>\n",
       "      <td>4650</td>\n",
       "      <td>0.970341</td>\n",
       "      <td>0.962439</td>\n",
       "      <td>0.003320</td>\n",
       "      <td>COMPLETE</td>\n",
       "    </tr>\n",
       "    <tr>\n",
       "      <th>1</th>\n",
       "      <td>1</td>\n",
       "      <td>0.955091</td>\n",
       "      <td>2020-05-01 21:22:54.336072</td>\n",
       "      <td>2020-05-01 21:29:30.888009</td>\n",
       "      <td>0.923801</td>\n",
       "      <td>0.803694</td>\n",
       "      <td>0.008694</td>\n",
       "      <td>0.014949</td>\n",
       "      <td>8</td>\n",
       "      <td>6.760572e+01</td>\n",
       "      <td>0.388373</td>\n",
       "      <td>4.476665e-04</td>\n",
       "      <td>0.973220</td>\n",
       "      <td>4928</td>\n",
       "      <td>0.956289</td>\n",
       "      <td>0.953271</td>\n",
       "      <td>0.001308</td>\n",
       "      <td>COMPLETE</td>\n",
       "    </tr>\n",
       "  </tbody>\n",
       "</table>\n",
       "</div>"
      ],
      "text/plain": [
       "   number     value             datetime_start          datetime_complete  \\\n",
       "0       0  0.966946 2020-05-01 21:15:42.923342 2020-05-01 21:22:54.335048   \n",
       "1       1  0.955091 2020-05-01 21:22:54.336072 2020-05-01 21:29:30.888009   \n",
       "\n",
       "   params_colsample_bylevel  params_colsample_bytree  params_gamma  \\\n",
       "0                  0.855356                 0.973836      0.108208   \n",
       "1                  0.923801                 0.803694      0.008694   \n",
       "\n",
       "   params_learning_rate  params_max_depth  params_min_child_weight  \\\n",
       "0              0.017131                 5             7.989269e-07   \n",
       "1              0.014949                 8             6.760572e+01   \n",
       "\n",
       "   params_reg_alpha  params_reg_lambda  params_subsample  \\\n",
       "0          4.369495       1.340650e-07          0.611285   \n",
       "1          0.388373       4.476665e-04          0.973220   \n",
       "\n",
       "   user_attrs_best_n_estimators  user_attrs_cv_max  user_attrs_cv_min  \\\n",
       "0                          4650           0.970341           0.962439   \n",
       "1                          4928           0.956289           0.953271   \n",
       "\n",
       "   user_attrs_cv_std     state  \n",
       "0           0.003320  COMPLETE  \n",
       "1           0.001308  COMPLETE  "
      ]
     },
     "metadata": {},
     "output_type": "display_data"
    }
   ],
   "source": [
    "\n",
    "# tmp = RandomForestAlgo(persist_props={\n",
    "#     \"method\":\"load\", \n",
    "#     \"load_path\": \"persistence/experiment_1.1/tuned_models/ALL/random_forest\"\n",
    "# })\n",
    "\n",
    "# tmp = LightGbmAlgo(persist_props={\n",
    "#     \"method\":\"load\", \n",
    "#     \"load_path\": \"persistence/experiment_1/tuned_models/AF/light_boost\"\n",
    "# })\n",
    "\n",
    "# tmp = CatBoostAlgo(persist_props={\n",
    "#     \"method\":\"load\", \n",
    "#     \"load_path\": \"persistence/experiment_1/tuned_models/AF/cat_boost\"\n",
    "# })\n",
    "\n",
    "tmp = XgboostAlgo(persist_props={\n",
    "    \"method\":\"load\", \n",
    "    \"load_path\": \"persistence/experiment_1/tuned_models/AF/xg_boost\"\n",
    "})\n",
    "\n",
    "display(tmp._tuner._study.trials_dataframe().sort_values(\"value\", ascending=False).head(5))\n",
    "\n",
    "# tmp = CatBoostAlgo()\n",
    "# tmp = XgboostAlgo()\n",
    "# tmp = LightGbmAlgo()\n",
    "\n",
    "elliptic = cdr.get_data(\"elliptic\")\n",
    "data = elliptic.train_test_split(train_size=0.7, feat_set=\"AF\")\n",
    "\n",
    "\n",
    "# data = elliptic.train_test_split(train_size=0.7,\n",
    "#                                  as_dict=False)\n",
    "\n",
    "# CAT \n",
    "\n",
    "# LIGHT \n",
    "# 0.8135942327497424\n",
    "\n",
    "# XGB \n",
    "# 0.8059548254620122\n",
    "\n",
    "train_X = data.train_X\n",
    "train_y = data.train_y\n",
    "test_X = data.test_X\n",
    "test_y = data.test_y\n",
    "\n",
    "# tmp.set_params(**tmp2.get_params())\n",
    "tmp.fit(train_X, train_y, tune=False)\n",
    "print(tmp.get_params())\n",
    "results = tmp.evaluate([\"f1\", \"recall\", \"precision\", \"auc\", \"f1_micro\"], test_X, test_y)\n",
    "print(results)\n",
    "\n",
    "# print(tmp.get_params())\n",
    "# print(tmp._tuner._study.best_trial.user_attrs[\"best_n_estimators\"])\n",
    "\n",
    "# import pickle\n",
    "# with open(\"study_randomforest_ALL.pkl\", \"wb\") as model_file:\n",
    "#     pickle.dump(tmp._tuner._study, model_file)"
   ]
  },
  {
   "cell_type": "code",
   "execution_count": null,
   "metadata": {},
   "outputs": [],
   "source": [
    "#---------------------------------\n",
    "# XGBOOST (DETERMINISTIC RESULTS)\n",
    "#---------------------------------\n",
    "# LF (DEFAULT: 0.7794871794871795)\n",
    "# 0.7848500789058391 (TUNED) [+0.005362899]\n",
    "# 0.7848500789058391 (TUNED) [+0.005362899]\n",
    "\n",
    "# LF_NE (DEFAULT: 0.7891832229580574)\n",
    "# 0.8013136288998358 (TUNED) [+0.012130406]\n",
    "# 0.8013136288998358 (TUNED) [+0.012130406]\n",
    "\n",
    "# AF (DEFAULT: 0.8026652998462326)\n",
    "# 0.8128564022809746 (TUNED) [+0.010191102]\n",
    "# 0.8128564022809746 (TUNED) [+0.010191102]\n",
    "\n",
    "# AF_NE (DEFAULT: 0.7980241492864983)\n",
    "# 0.8106348345089527 (TUNED) [+0.012610685]\n",
    "# 0.8106348345089527 (TUNED) [+0.012610685]\n",
    "# 0.8162162162162162\n",
    "\n",
    "#----------------------------------\n",
    "# LIGHTGBM (DETERMINISTIC RESULTS)\n",
    "#----------------------------------\n",
    "# LF (DEFAULT: 0.7789580171977744)\n",
    "# 0.790866632070576 (TUNED) [+0.011908615]\n",
    "# 0.790866632070576 (TUNED) [+0.011908615]\n",
    "\n",
    "# LF_NE (DEFAULT: 0.8030551009274413)\n",
    "# 0.7960308710033076 (TUNED) [−0.00702423]\n",
    "# 0.7960308710033076 (TUNED) [−0.00702423]\n",
    "\n",
    "# AF (DEFAULT: 0.813929313929314) \n",
    "# 0.8163693599160545 (TUNED) [+0.002440046]\n",
    "# 0.8163693599160545 (TUNED) [+0.002440046]\n",
    "\n",
    "# AF NE (DEFAULT: 0.8063112078346028) \n",
    "# 0.8043715846994536 (TUNED) [−0.001939623]\n",
    "# 0.8043715846994536 (TUNED) [−0.001939623]\n",
    "\n",
    "#----------------------------------\n",
    "# CATBOOST (DETERMINISTIC RESULTS)\n",
    "#----------------------------------\n",
    "# LF (DEFAULT: 0.7892004153686397) \n",
    "# 0.7741935483870969 (TUNED) [−0.015006867]\n",
    "# 0.7741935483870969 (TUNED) [−0.015006867]\n",
    "\n",
    "# LF_NE (DEFAULT: 0.7837687604224568) \n",
    "# 0.7828947368421053 (TUNED) [−0.000874024]\n",
    "# 0.7828947368421053 (TUNED) [−0.000874024]\n",
    "\n",
    "# AF (DEFAULT: 0.8187565858798735) \n",
    "# 0.8256116605934409 (TUNED) [+0.006855075]\n",
    "# 0.8256116605934409 (TUNED) [+0.006855075]\n",
    "\n",
    "# AF NE (DEFAULT: 0.8058887677208288) \n",
    "# 0.7989159891598916 (TUNED) [−0.006972779]\n",
    "# 0.7989159891598916 (TUNED) [−0.006972779]"
   ]
  },
  {
   "cell_type": "code",
   "execution_count": null,
   "metadata": {},
   "outputs": [],
   "source": [
    "display(xgb._tuner._study.trials_dataframe())"
   ]
  },
  {
   "cell_type": "code",
   "execution_count": null,
   "metadata": {},
   "outputs": [],
   "source": [
    "# xgb = XgboostAlgo(persist_props={\n",
    "#     \"method\":\"load\", \n",
    "#     \"load_path\": \"persistence/experiment_1/tuned_models/AF_NE/xg_boost\"\n",
    "# })\n",
    "\n",
    "# import pickle\n",
    "# with open(\"tpe_xgboost_AF_NE.pkl\", \"wb\") as model_file:\n",
    "#     pickle.dump(xgb._tuner._study, model_file)"
   ]
  },
  {
   "cell_type": "code",
   "execution_count": null,
   "metadata": {},
   "outputs": [],
   "source": [
    "from cryptoaml.models import RandomForestAlgo\n",
    "from cryptoaml.models import XgboostAlgo\n",
    "from cryptoaml.models import LightGbmAlgo\n",
    "from cryptoaml.models import CatBoostAlgo"
   ]
  },
  {
   "cell_type": "code",
   "execution_count": null,
   "metadata": {
    "scrolled": false
   },
   "outputs": [],
   "source": [
    "elliptic = cdr.get_data(\"elliptic\")\n",
    "data = elliptic.train_test_split(train_size=0.7, feat_set=\"LF\")\n",
    "\n",
    "train_X = data.train_X\n",
    "train_y = data.train_y\n",
    "test_X = data.test_X\n",
    "test_y = data.test_y\n",
    "\n",
    "tmp = CatBoostAlgo(verbose=0)\n",
    "tmp.fit(train_X, train_y)\n",
    "print(tmp.get_params())\n",
    "results = tmp.evaluate([\"f1\", \"recall\", \"precision\", \"f1_micro\"], test_X, test_y)\n",
    "print(results)"
   ]
  },
  {
   "cell_type": "code",
   "execution_count": null,
   "metadata": {},
   "outputs": [],
   "source": [
    "# rf = RandomForestAlgo()\n",
    "# xgb = XgboostAlgo()\n",
    "elliptic = cdr.get_data(\"elliptic\")\n",
    "data = elliptic.train_test_split(train_size=0.7, feat_set=\"LF_NE\")\n",
    "\n",
    "train_X = data.train_X\n",
    "train_y = data.train_y\n",
    "test_X = data.test_X\n",
    "test_y = data.test_y\n",
    "\n",
    "tmp = CatBoostAlgo(verbose=0, learning_rate=.1475, iterations=125)\n",
    "tmp.fit(train_X, train_y)\n",
    "print(tmp.get_params())\n",
    "results = tmp.evaluate([\"f1\", \"recall\", \"precision\", \"f1_micro\"], test_X, test_y)\n",
    "print(results)\n",
    "\n",
    "# light = LightGbmAlgo()\n",
    "# light.fit(train_X, train_y)\n",
    "# print(light.get_params())\n",
    "# results = light.evaluate([\"f1\", \"recall\", \"precision\", \"f1_micro\"], test_X, test_y)\n",
    "# print(results)"
   ]
  },
  {
   "cell_type": "code",
   "execution_count": null,
   "metadata": {
    "scrolled": false
   },
   "outputs": [],
   "source": [
    "elliptic = cdr.get_data(\"elliptic\")\n",
    "data = elliptic.train_test_split(train_size=0.7, feat_set=\"AF\")\n",
    "\n",
    "train_X = data.train_X\n",
    "train_y = data.train_y\n",
    "test_X = data.test_X\n",
    "test_y = data.test_y\n",
    "\n",
    "tmp = CatBoostAlgo(verbose=0, \n",
    "                   learning_rate=0.12, \n",
    "                   iterations=300, \n",
    "                   l2_leaf_reg=5.55,\n",
    "                   depth=10,\n",
    "                   rsm=0.02889848402592587,\n",
    "                   random_strength=60.06633858147979\n",
    "                  )\n",
    "tmp.fit(train_X, train_y)\n",
    "print(tmp.get_params())\n",
    "results = tmp.evaluate([\"f1\", \"recall\", \"precision\", \"f1_micro\"], test_X, test_y)\n",
    "print(results)\n",
    "\n",
    "# 0.8256784968684759\n",
    "# 0.8264984227129338\n",
    "# 0.8246991104133963\n",
    "# 0.8256116605934409\n"
   ]
  },
  {
   "cell_type": "code",
   "execution_count": null,
   "metadata": {
    "scrolled": false
   },
   "outputs": [],
   "source": [
    "elliptic = cdr.get_data(\"elliptic\")\n",
    "data = elliptic.train_test_split(train_size=0.7, feat_set=\"AF_NE\")\n",
    "\n",
    "train_X = data.train_X\n",
    "train_y = data.train_y\n",
    "test_X = data.test_X\n",
    "test_y = data.test_y\n",
    "\n",
    "tmp = CatBoostAlgo(verbose=0, iterations=450, learning_rate=0.2200)\n",
    "tmp.fit(train_X, train_y)\n",
    "print(tmp.get_params())\n",
    "results = tmp.evaluate([\"f1\", \"recall\", \"precision\", \"f1_micro\"], test_X, test_y)\n",
    "print(results)\n",
    "\n",
    "# 0.8045602605863192"
   ]
  },
  {
   "cell_type": "code",
   "execution_count": null,
   "metadata": {},
   "outputs": [],
   "source": [
    "# from sklearn.metrics import log_loss, make_scorer\n",
    "# from sklearn.model_selection import cross_val_score\n",
    "# from sklearn.model_selection import StratifiedKFold\n",
    "\n",
    "# xgb = XgboostAlgo()\n",
    "# scorer = make_scorer(log_loss, greater_is_better=False, needs_proba=True, eps=1e-7)\n",
    "# elliptic = cdr.get_data(\"elliptic\")\n",
    "# data = elliptic.train_test_split(train_size=0.7, feat_set=\"LF_NE\")\n",
    "\n",
    "# train_X = data.train_X\n",
    "# train_y = data.train_y\n",
    "# test_X = data.test_X\n",
    "# test_y = data.test_y\n",
    "\n",
    "# # -0.441107\n",
    "# scores = cross_val_score(xgb._model, train_X, train_y, scoring=scorer, cv=StratifiedKFold(n_splits=3))"
   ]
  },
  {
   "cell_type": "code",
   "execution_count": null,
   "metadata": {},
   "outputs": [],
   "source": [
    "print(scores.mean())"
   ]
  },
  {
   "cell_type": "code",
   "execution_count": null,
   "metadata": {},
   "outputs": [],
   "source": []
  }
 ],
 "metadata": {
  "kernelspec": {
   "display_name": "Python 3.7.6 64-bit ('btc-classifier': conda)",
   "language": "python",
   "name": "python37664bitbtcclassifiercondaf328939486114fc0aeb107830f867d66"
  },
  "language_info": {
   "codemirror_mode": {
    "name": "ipython",
    "version": 3
   },
   "file_extension": ".py",
   "mimetype": "text/x-python",
   "name": "python",
   "nbconvert_exporter": "python",
   "pygments_lexer": "ipython3",
   "version": "3.7.6"
  }
 },
 "nbformat": 4,
 "nbformat_minor": 4
}

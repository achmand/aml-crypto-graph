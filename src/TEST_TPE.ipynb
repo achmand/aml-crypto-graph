{
 "cells": [
  {
   "cell_type": "code",
   "execution_count": 1,
   "metadata": {},
   "outputs": [
    {
     "name": "stderr",
     "output_type": "stream",
     "text": [
      "/home/delinvas/anaconda3/envs/btc-classifier/lib/python3.7/site-packages/sklearn/utils/deprecation.py:144: FutureWarning:\n",
      "\n",
      "The sklearn.metrics.scorer module is  deprecated in version 0.22 and will be removed in version 0.24. The corresponding classes / functions should instead be imported from sklearn.metrics. Anything that cannot be imported from sklearn.metrics is now part of the private API.\n",
      "\n"
     ]
    }
   ],
   "source": [
    "import cryptoaml.datareader as cdr\n",
    "from cryptoaml.models import RandomForestAlgo\n",
    "from cryptoaml.models import CatBoostAlgo\n",
    "from cryptoaml.models import LightGbmAlgo\n",
    "from cryptoaml.models import XgboostRfAlgo"
   ]
  },
  {
   "cell_type": "code",
   "execution_count": null,
   "metadata": {},
   "outputs": [],
   "source": [
    "xgb = XgboostAlgo(persist_props={\n",
    "    \"method\":\"load\", \n",
    "    \"load_path\": \"persistence/experiment_1/tuned_models/AF_NE/xg_boost\"\n",
    "})"
   ]
  },
  {
   "cell_type": "code",
   "execution_count": null,
   "metadata": {},
   "outputs": [],
   "source": [
    "print(xgb.get_params())"
   ]
  },
  {
   "cell_type": "code",
   "execution_count": null,
   "metadata": {},
   "outputs": [],
   "source": [
    "display(xgb.tune_results_[1])\n",
    "print(xgb.tune_props_)"
   ]
  },
  {
   "cell_type": "code",
   "execution_count": null,
   "metadata": {},
   "outputs": [],
   "source": [
    "print(xgb.get_params())"
   ]
  },
  {
   "cell_type": "code",
   "execution_count": null,
   "metadata": {},
   "outputs": [],
   "source": [
    "# study = xgb._tuner._study.best_trial.params"
   ]
  },
  {
   "cell_type": "code",
   "execution_count": null,
   "metadata": {},
   "outputs": [],
   "source": [
    "# print(study.best_trial)\n",
    "\n",
    "print(study.best_trial.params)"
   ]
  },
  {
   "cell_type": "code",
   "execution_count": null,
   "metadata": {},
   "outputs": [],
   "source": [
    "# display(study.trials_dataframe())"
   ]
  },
  {
   "cell_type": "code",
   "execution_count": null,
   "metadata": {},
   "outputs": [],
   "source": [
    "\n",
    "# display(train_X)\n",
    "# display(test_X)"
   ]
  },
  {
   "cell_type": "code",
   "execution_count": 4,
   "metadata": {
    "scrolled": false
   },
   "outputs": [
    {
     "data": {
      "text/html": [
       "<div>\n",
       "<style scoped>\n",
       "    .dataframe tbody tr th:only-of-type {\n",
       "        vertical-align: middle;\n",
       "    }\n",
       "\n",
       "    .dataframe tbody tr th {\n",
       "        vertical-align: top;\n",
       "    }\n",
       "\n",
       "    .dataframe thead th {\n",
       "        text-align: right;\n",
       "    }\n",
       "</style>\n",
       "<table border=\"1\" class=\"dataframe\">\n",
       "  <thead>\n",
       "    <tr style=\"text-align: right;\">\n",
       "      <th></th>\n",
       "      <th>number</th>\n",
       "      <th>value</th>\n",
       "      <th>datetime_start</th>\n",
       "      <th>datetime_complete</th>\n",
       "      <th>params_max_features</th>\n",
       "      <th>params_max_samples</th>\n",
       "      <th>params_n_estimators</th>\n",
       "      <th>user_attrs_cv_max</th>\n",
       "      <th>user_attrs_cv_mean</th>\n",
       "      <th>user_attrs_cv_min</th>\n",
       "      <th>user_attrs_cv_std</th>\n",
       "      <th>state</th>\n",
       "    </tr>\n",
       "  </thead>\n",
       "  <tbody>\n",
       "    <tr>\n",
       "      <th>18</th>\n",
       "      <td>18</td>\n",
       "      <td>0.978608</td>\n",
       "      <td>2020-05-01 17:13:03.905767</td>\n",
       "      <td>2020-05-01 17:13:05.682954</td>\n",
       "      <td>sqrt</td>\n",
       "      <td>0.991780</td>\n",
       "      <td>400</td>\n",
       "      <td>0.980328</td>\n",
       "      <td>0.978608</td>\n",
       "      <td>0.973597</td>\n",
       "      <td>0.002582</td>\n",
       "      <td>COMPLETE</td>\n",
       "    </tr>\n",
       "    <tr>\n",
       "      <th>14</th>\n",
       "      <td>14</td>\n",
       "      <td>0.978214</td>\n",
       "      <td>2020-05-01 17:12:54.718469</td>\n",
       "      <td>2020-05-01 17:12:57.298090</td>\n",
       "      <td>sqrt</td>\n",
       "      <td>0.776590</td>\n",
       "      <td>650</td>\n",
       "      <td>0.988430</td>\n",
       "      <td>0.978214</td>\n",
       "      <td>0.968491</td>\n",
       "      <td>0.006869</td>\n",
       "      <td>COMPLETE</td>\n",
       "    </tr>\n",
       "    <tr>\n",
       "      <th>31</th>\n",
       "      <td>31</td>\n",
       "      <td>0.977900</td>\n",
       "      <td>2020-05-01 17:13:32.308626</td>\n",
       "      <td>2020-05-01 17:13:33.423492</td>\n",
       "      <td>sqrt</td>\n",
       "      <td>0.912535</td>\n",
       "      <td>250</td>\n",
       "      <td>0.991763</td>\n",
       "      <td>0.977900</td>\n",
       "      <td>0.971714</td>\n",
       "      <td>0.007301</td>\n",
       "      <td>COMPLETE</td>\n",
       "    </tr>\n",
       "    <tr>\n",
       "      <th>9</th>\n",
       "      <td>9</td>\n",
       "      <td>0.976906</td>\n",
       "      <td>2020-05-01 17:12:37.552806</td>\n",
       "      <td>2020-05-01 17:12:39.744974</td>\n",
       "      <td>sqrt</td>\n",
       "      <td>0.984231</td>\n",
       "      <td>500</td>\n",
       "      <td>0.983607</td>\n",
       "      <td>0.976906</td>\n",
       "      <td>0.970199</td>\n",
       "      <td>0.004696</td>\n",
       "      <td>COMPLETE</td>\n",
       "    </tr>\n",
       "    <tr>\n",
       "      <th>45</th>\n",
       "      <td>45</td>\n",
       "      <td>0.976651</td>\n",
       "      <td>2020-05-01 17:13:54.194014</td>\n",
       "      <td>2020-05-01 17:13:57.200100</td>\n",
       "      <td>log2</td>\n",
       "      <td>0.925950</td>\n",
       "      <td>750</td>\n",
       "      <td>0.983553</td>\n",
       "      <td>0.976651</td>\n",
       "      <td>0.968801</td>\n",
       "      <td>0.005954</td>\n",
       "      <td>COMPLETE</td>\n",
       "    </tr>\n",
       "  </tbody>\n",
       "</table>\n",
       "</div>"
      ],
      "text/plain": [
       "    number     value             datetime_start          datetime_complete  \\\n",
       "18      18  0.978608 2020-05-01 17:13:03.905767 2020-05-01 17:13:05.682954   \n",
       "14      14  0.978214 2020-05-01 17:12:54.718469 2020-05-01 17:12:57.298090   \n",
       "31      31  0.977900 2020-05-01 17:13:32.308626 2020-05-01 17:13:33.423492   \n",
       "9        9  0.976906 2020-05-01 17:12:37.552806 2020-05-01 17:12:39.744974   \n",
       "45      45  0.976651 2020-05-01 17:13:54.194014 2020-05-01 17:13:57.200100   \n",
       "\n",
       "   params_max_features  params_max_samples  params_n_estimators  \\\n",
       "18                sqrt            0.991780                  400   \n",
       "14                sqrt            0.776590                  650   \n",
       "31                sqrt            0.912535                  250   \n",
       "9                 sqrt            0.984231                  500   \n",
       "45                log2            0.925950                  750   \n",
       "\n",
       "    user_attrs_cv_max  user_attrs_cv_mean  user_attrs_cv_min  \\\n",
       "18           0.980328            0.978608           0.973597   \n",
       "14           0.988430            0.978214           0.968491   \n",
       "31           0.991763            0.977900           0.971714   \n",
       "9            0.983607            0.976906           0.970199   \n",
       "45           0.983553            0.976651           0.968801   \n",
       "\n",
       "    user_attrs_cv_std     state  \n",
       "18           0.002582  COMPLETE  \n",
       "14           0.006869  COMPLETE  \n",
       "31           0.007301  COMPLETE  \n",
       "9            0.004696  COMPLETE  \n",
       "45           0.005954  COMPLETE  "
      ]
     },
     "metadata": {},
     "output_type": "display_data"
    },
    {
     "name": "stdout",
     "output_type": "stream",
     "text": [
      "{'bootstrap': True, 'ccp_alpha': 0.0, 'class_weight': None, 'criterion': 'gini', 'max_depth': None, 'max_features': 'sqrt', 'max_leaf_nodes': None, 'max_samples': 0.9917795313422468, 'min_impurity_decrease': 0.0, 'min_impurity_split': None, 'min_samples_leaf': 1, 'min_samples_split': 2, 'min_weight_fraction_leaf': 0.0, 'n_estimators': 400, 'n_jobs': None, 'oob_score': False, 'random_state': None, 'verbose': 0, 'warm_start': False}\n",
      "OrderedDict([('f1', 0.9705882352941176), ('recall', 0.9587155963302753), ('precision', 0.9827586206896551), ('auc', 0.9720342295899046), ('f1_micro', 0.9729537366548042)])\n"
     ]
    }
   ],
   "source": [
    "\n",
    "tmp = RandomForestAlgo(persist_props={\n",
    "    \"method\":\"load\", \n",
    "    \"load_path\": \"persistence/experiment_1.1/tuned_models/ALL/random_forest\"\n",
    "})\n",
    "\n",
    "# tmp = LightGbmAlgo(persist_props={\n",
    "#     \"method\":\"load\", \n",
    "#     \"load_path\": \"persistence/experiment_1.1/tuned_models/ALL/light_boost\"\n",
    "# })\n",
    "\n",
    "# tmp = CatBoostAlgo(persist_props={\n",
    "#     \"method\":\"load\", \n",
    "#     \"load_path\": \"persistence/experiment_1.1/tuned_models/ALL/cat_boost\"\n",
    "# })\n",
    "\n",
    "# tmp = XgboostAlgo(persist_props={\n",
    "#     \"method\":\"load\", \n",
    "#     \"load_path\": \"persistence/experiment_1.1/tuned_models/ALL/xg_boost\"\n",
    "# })\n",
    "\n",
    "display(tmp._tuner._study.trials_dataframe().sort_values(\"value\", ascending=False).head(5))\n",
    "\n",
    "# tmp = CatBoostAlgo()\n",
    "# tmp = XgboostAlgo()\n",
    "# tmp = LightGbmAlgo()\n",
    "\n",
    "elliptic = cdr.get_data(\"eth_accounts\")\n",
    "data = elliptic.train_test_split(train_size=0.7,\n",
    "                                 as_dict=False)\n",
    "\n",
    "train_X = data.train_X\n",
    "train_y = data.train_y\n",
    "test_X = data.test_X\n",
    "test_y = data.test_y\n",
    "\n",
    "# tmp.set_params(**tmp2.get_params())\n",
    "tmp.fit(train_X, train_y, tune=False)\n",
    "print(tmp.get_params())\n",
    "results = tmp.evaluate([\"f1\", \"recall\", \"precision\", \"auc\", \"f1_micro\"], test_X, test_y)\n",
    "print(results)\n",
    "\n",
    "# print(tmp.get_params())\n",
    "# print(tmp._tuner._study.best_trial.user_attrs[\"best_n_estimators\"])\n",
    "\n",
    "# import pickle\n",
    "# with open(\"study_randomforest_ALL.pkl\", \"wb\") as model_file:\n",
    "#     pickle.dump(tmp._tuner._study, model_file)"
   ]
  },
  {
   "cell_type": "code",
   "execution_count": null,
   "metadata": {},
   "outputs": [],
   "source": [
    "#---------------------------------\n",
    "# XGBOOST (DETERMINISTIC RESULTS)\n",
    "#---------------------------------\n",
    "# LF (DEFAULT: 0.7794871794871795)\n",
    "# 0.7848500789058391 (TUNED) [+0.005362899]\n",
    "# 0.7848500789058391 (TUNED) [+0.005362899]\n",
    "\n",
    "# LF_NE (DEFAULT: 0.7891832229580574)\n",
    "# 0.8013136288998358 (TUNED) [+0.012130406]\n",
    "# 0.8013136288998358 (TUNED) [+0.012130406]\n",
    "\n",
    "# AF (DEFAULT: 0.8026652998462326)\n",
    "# 0.8128564022809746 (TUNED) [+0.010191102]\n",
    "# 0.8128564022809746 (TUNED) [+0.010191102]\n",
    "\n",
    "# AF_NE (DEFAULT: 0.7980241492864983)\n",
    "# 0.8106348345089527 (TUNED) [+0.012610685]\n",
    "# 0.8106348345089527 (TUNED) [+0.012610685]\n",
    "# 0.8162162162162162\n",
    "\n",
    "#----------------------------------\n",
    "# LIGHTGBM (DETERMINISTIC RESULTS)\n",
    "#----------------------------------\n",
    "# LF (DEFAULT: 0.7789580171977744)\n",
    "# 0.790866632070576 (TUNED) [+0.011908615]\n",
    "# 0.790866632070576 (TUNED) [+0.011908615]\n",
    "\n",
    "# LF_NE (DEFAULT: 0.8030551009274413)\n",
    "# 0.7960308710033076 (TUNED) [−0.00702423]\n",
    "# 0.7960308710033076 (TUNED) [−0.00702423]\n",
    "\n",
    "# AF (DEFAULT: 0.813929313929314) \n",
    "# 0.8163693599160545 (TUNED) [+0.002440046]\n",
    "# 0.8163693599160545 (TUNED) [+0.002440046]\n",
    "\n",
    "# AF NE (DEFAULT: 0.8063112078346028) \n",
    "# 0.8043715846994536 (TUNED) [−0.001939623]\n",
    "# 0.8043715846994536 (TUNED) [−0.001939623]\n",
    "\n",
    "#----------------------------------\n",
    "# CATBOOST (DETERMINISTIC RESULTS)\n",
    "#----------------------------------\n",
    "# LF (DEFAULT: 0.7892004153686397) \n",
    "# 0.7741935483870969 (TUNED) [−0.015006867]\n",
    "# 0.7741935483870969 (TUNED) [−0.015006867]\n",
    "\n",
    "# LF_NE (DEFAULT: 0.7837687604224568) \n",
    "# 0.7828947368421053 (TUNED) [−0.000874024]\n",
    "# 0.7828947368421053 (TUNED) [−0.000874024]\n",
    "\n",
    "# AF (DEFAULT: 0.8187565858798735) \n",
    "# 0.8256116605934409 (TUNED) [+0.006855075]\n",
    "# 0.8256116605934409 (TUNED) [+0.006855075]\n",
    "\n",
    "# AF NE (DEFAULT: 0.8058887677208288) \n",
    "# 0.7989159891598916 (TUNED) [−0.006972779]\n",
    "# 0.7989159891598916 (TUNED) [−0.006972779]"
   ]
  },
  {
   "cell_type": "code",
   "execution_count": null,
   "metadata": {},
   "outputs": [],
   "source": [
    "display(xgb._tuner._study.trials_dataframe())"
   ]
  },
  {
   "cell_type": "code",
   "execution_count": null,
   "metadata": {},
   "outputs": [],
   "source": [
    "# xgb = XgboostAlgo(persist_props={\n",
    "#     \"method\":\"load\", \n",
    "#     \"load_path\": \"persistence/experiment_1/tuned_models/AF_NE/xg_boost\"\n",
    "# })\n",
    "\n",
    "# import pickle\n",
    "# with open(\"tpe_xgboost_AF_NE.pkl\", \"wb\") as model_file:\n",
    "#     pickle.dump(xgb._tuner._study, model_file)"
   ]
  },
  {
   "cell_type": "code",
   "execution_count": null,
   "metadata": {},
   "outputs": [],
   "source": [
    "from cryptoaml.models import RandomForestAlgo\n",
    "from cryptoaml.models import XgboostAlgo\n",
    "from cryptoaml.models import LightGbmAlgo\n",
    "from cryptoaml.models import CatBoostAlgo"
   ]
  },
  {
   "cell_type": "code",
   "execution_count": null,
   "metadata": {
    "scrolled": false
   },
   "outputs": [],
   "source": [
    "elliptic = cdr.get_data(\"elliptic\")\n",
    "data = elliptic.train_test_split(train_size=0.7, feat_set=\"LF\")\n",
    "\n",
    "train_X = data.train_X\n",
    "train_y = data.train_y\n",
    "test_X = data.test_X\n",
    "test_y = data.test_y\n",
    "\n",
    "tmp = CatBoostAlgo(verbose=0)\n",
    "tmp.fit(train_X, train_y)\n",
    "print(tmp.get_params())\n",
    "results = tmp.evaluate([\"f1\", \"recall\", \"precision\", \"f1_micro\"], test_X, test_y)\n",
    "print(results)"
   ]
  },
  {
   "cell_type": "code",
   "execution_count": null,
   "metadata": {},
   "outputs": [],
   "source": [
    "# rf = RandomForestAlgo()\n",
    "# xgb = XgboostAlgo()\n",
    "elliptic = cdr.get_data(\"elliptic\")\n",
    "data = elliptic.train_test_split(train_size=0.7, feat_set=\"LF_NE\")\n",
    "\n",
    "train_X = data.train_X\n",
    "train_y = data.train_y\n",
    "test_X = data.test_X\n",
    "test_y = data.test_y\n",
    "\n",
    "tmp = CatBoostAlgo(verbose=0, learning_rate=.1475, iterations=125)\n",
    "tmp.fit(train_X, train_y)\n",
    "print(tmp.get_params())\n",
    "results = tmp.evaluate([\"f1\", \"recall\", \"precision\", \"f1_micro\"], test_X, test_y)\n",
    "print(results)\n",
    "\n",
    "# light = LightGbmAlgo()\n",
    "# light.fit(train_X, train_y)\n",
    "# print(light.get_params())\n",
    "# results = light.evaluate([\"f1\", \"recall\", \"precision\", \"f1_micro\"], test_X, test_y)\n",
    "# print(results)"
   ]
  },
  {
   "cell_type": "code",
   "execution_count": null,
   "metadata": {
    "scrolled": false
   },
   "outputs": [],
   "source": [
    "elliptic = cdr.get_data(\"elliptic\")\n",
    "data = elliptic.train_test_split(train_size=0.7, feat_set=\"AF\")\n",
    "\n",
    "train_X = data.train_X\n",
    "train_y = data.train_y\n",
    "test_X = data.test_X\n",
    "test_y = data.test_y\n",
    "\n",
    "tmp = CatBoostAlgo(verbose=0, \n",
    "                   learning_rate=0.12, \n",
    "                   iterations=300, \n",
    "                   l2_leaf_reg=5.55,\n",
    "                   depth=10,\n",
    "                   rsm=0.02889848402592587,\n",
    "                   random_strength=60.06633858147979\n",
    "                  )\n",
    "tmp.fit(train_X, train_y)\n",
    "print(tmp.get_params())\n",
    "results = tmp.evaluate([\"f1\", \"recall\", \"precision\", \"f1_micro\"], test_X, test_y)\n",
    "print(results)\n",
    "\n",
    "# 0.8256784968684759\n",
    "# 0.8264984227129338\n",
    "# 0.8246991104133963\n",
    "# 0.8256116605934409\n"
   ]
  },
  {
   "cell_type": "code",
   "execution_count": null,
   "metadata": {
    "scrolled": false
   },
   "outputs": [],
   "source": [
    "elliptic = cdr.get_data(\"elliptic\")\n",
    "data = elliptic.train_test_split(train_size=0.7, feat_set=\"AF_NE\")\n",
    "\n",
    "train_X = data.train_X\n",
    "train_y = data.train_y\n",
    "test_X = data.test_X\n",
    "test_y = data.test_y\n",
    "\n",
    "tmp = CatBoostAlgo(verbose=0, iterations=450, learning_rate=0.2200)\n",
    "tmp.fit(train_X, train_y)\n",
    "print(tmp.get_params())\n",
    "results = tmp.evaluate([\"f1\", \"recall\", \"precision\", \"f1_micro\"], test_X, test_y)\n",
    "print(results)\n",
    "\n",
    "# 0.8045602605863192"
   ]
  },
  {
   "cell_type": "code",
   "execution_count": null,
   "metadata": {},
   "outputs": [],
   "source": [
    "# from sklearn.metrics import log_loss, make_scorer\n",
    "# from sklearn.model_selection import cross_val_score\n",
    "# from sklearn.model_selection import StratifiedKFold\n",
    "\n",
    "# xgb = XgboostAlgo()\n",
    "# scorer = make_scorer(log_loss, greater_is_better=False, needs_proba=True, eps=1e-7)\n",
    "# elliptic = cdr.get_data(\"elliptic\")\n",
    "# data = elliptic.train_test_split(train_size=0.7, feat_set=\"LF_NE\")\n",
    "\n",
    "# train_X = data.train_X\n",
    "# train_y = data.train_y\n",
    "# test_X = data.test_X\n",
    "# test_y = data.test_y\n",
    "\n",
    "# # -0.441107\n",
    "# scores = cross_val_score(xgb._model, train_X, train_y, scoring=scorer, cv=StratifiedKFold(n_splits=3))"
   ]
  },
  {
   "cell_type": "code",
   "execution_count": null,
   "metadata": {},
   "outputs": [],
   "source": [
    "print(scores.mean())"
   ]
  },
  {
   "cell_type": "code",
   "execution_count": null,
   "metadata": {},
   "outputs": [],
   "source": []
  }
 ],
 "metadata": {
  "kernelspec": {
   "display_name": "Python 3.7.6 64-bit ('btc-classifier': conda)",
   "language": "python",
   "name": "python37664bitbtcclassifiercondaf328939486114fc0aeb107830f867d66"
  },
  "language_info": {
   "codemirror_mode": {
    "name": "ipython",
    "version": 3
   },
   "file_extension": ".py",
   "mimetype": "text/x-python",
   "name": "python",
   "nbconvert_exporter": "python",
   "pygments_lexer": "ipython3",
   "version": "3.7.6"
  }
 },
 "nbformat": 4,
 "nbformat_minor": 4
}

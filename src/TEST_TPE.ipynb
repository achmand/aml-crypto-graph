{
 "cells": [
  {
   "cell_type": "code",
   "execution_count": 1,
   "metadata": {},
   "outputs": [
    {
     "name": "stderr",
     "output_type": "stream",
     "text": [
      "/home/delinvas/anaconda3/envs/btc-classifier/lib/python3.7/site-packages/sklearn/utils/deprecation.py:144: FutureWarning:\n",
      "\n",
      "The sklearn.metrics.scorer module is  deprecated in version 0.22 and will be removed in version 0.24. The corresponding classes / functions should instead be imported from sklearn.metrics. Anything that cannot be imported from sklearn.metrics is now part of the private API.\n",
      "\n"
     ]
    }
   ],
   "source": [
    "import cryptoaml.datareader as cdr\n",
    "from cryptoaml.models import RandomForestAlgo\n",
    "from cryptoaml.models import CatBoostAlgo\n",
    "from cryptoaml.models import LightGbmAlgo\n",
    "from cryptoaml.models import XgboostRfAlgo"
   ]
  },
  {
   "cell_type": "code",
   "execution_count": null,
   "metadata": {},
   "outputs": [],
   "source": [
    "xgb = XgboostAlgo(persist_props={\n",
    "    \"method\":\"load\", \n",
    "    \"load_path\": \"persistence/experiment_1/tuned_models/AF_NE/xg_boost\"\n",
    "})"
   ]
  },
  {
   "cell_type": "code",
   "execution_count": null,
   "metadata": {},
   "outputs": [],
   "source": [
    "print(xgb.get_params())"
   ]
  },
  {
   "cell_type": "code",
   "execution_count": null,
   "metadata": {},
   "outputs": [],
   "source": [
    "display(xgb.tune_results_[1])\n",
    "print(xgb.tune_props_)"
   ]
  },
  {
   "cell_type": "code",
   "execution_count": null,
   "metadata": {},
   "outputs": [],
   "source": [
    "print(xgb.get_params())"
   ]
  },
  {
   "cell_type": "code",
   "execution_count": null,
   "metadata": {},
   "outputs": [],
   "source": [
    "# study = xgb._tuner._study.best_trial.params"
   ]
  },
  {
   "cell_type": "code",
   "execution_count": null,
   "metadata": {},
   "outputs": [],
   "source": [
    "# print(study.best_trial)\n",
    "\n",
    "print(study.best_trial.params)"
   ]
  },
  {
   "cell_type": "code",
   "execution_count": null,
   "metadata": {},
   "outputs": [],
   "source": [
    "# display(study.trials_dataframe())"
   ]
  },
  {
   "cell_type": "code",
   "execution_count": null,
   "metadata": {},
   "outputs": [],
   "source": [
    "\n",
    "# display(train_X)\n",
    "# display(test_X)"
   ]
  },
  {
   "cell_type": "code",
   "execution_count": 3,
   "metadata": {
    "scrolled": false
   },
   "outputs": [
    {
     "ename": "ValueError",
     "evalue": "unsupported pickle protocol: 5",
     "output_type": "error",
     "traceback": [
      "\u001b[0;31m---------------------------------------------------------------------------\u001b[0m",
      "\u001b[0;31mValueError\u001b[0m                                Traceback (most recent call last)",
      "\u001b[0;32m<ipython-input-3-5802a5f1aa89>\u001b[0m in \u001b[0;36m<module>\u001b[0;34m\u001b[0m\n\u001b[1;32m     11\u001b[0m tmp = CatBoostAlgo(persist_props={\n\u001b[1;32m     12\u001b[0m     \u001b[0;34m\"method\"\u001b[0m\u001b[0;34m:\u001b[0m\u001b[0;34m\"load\"\u001b[0m\u001b[0;34m,\u001b[0m\u001b[0;34m\u001b[0m\u001b[0;34m\u001b[0m\u001b[0m\n\u001b[0;32m---> 13\u001b[0;31m     \u001b[0;34m\"load_path\"\u001b[0m\u001b[0;34m:\u001b[0m \u001b[0;34m\"persistence/experiment_1/tuned_models/AF/cat_boost\"\u001b[0m\u001b[0;34m\u001b[0m\u001b[0;34m\u001b[0m\u001b[0m\n\u001b[0m\u001b[1;32m     14\u001b[0m })\n\u001b[1;32m     15\u001b[0m \u001b[0;34m\u001b[0m\u001b[0m\n",
      "\u001b[0;32m~/repos/aml-crypto-graph/src/cryptoaml/models/_models.py\u001b[0m in \u001b[0;36m__init__\u001b[0;34m(self, tune_props, persist_props, **kwargs)\u001b[0m\n\u001b[1;32m    270\u001b[0m             \u001b[0mtune_props\u001b[0m \u001b[0;34m=\u001b[0m \u001b[0mtune_props\u001b[0m\u001b[0;34m,\u001b[0m\u001b[0;34m\u001b[0m\u001b[0;34m\u001b[0m\u001b[0m\n\u001b[1;32m    271\u001b[0m             \u001b[0mpersist_props\u001b[0m \u001b[0;34m=\u001b[0m \u001b[0mpersist_props\u001b[0m\u001b[0;34m,\u001b[0m\u001b[0;34m\u001b[0m\u001b[0;34m\u001b[0m\u001b[0m\n\u001b[0;32m--> 272\u001b[0;31m             \u001b[0;34m**\u001b[0m\u001b[0mkwargs\u001b[0m\u001b[0;34m\u001b[0m\u001b[0;34m\u001b[0m\u001b[0m\n\u001b[0m\u001b[1;32m    273\u001b[0m         )\n\u001b[1;32m    274\u001b[0m \u001b[0;34m\u001b[0m\u001b[0m\n",
      "\u001b[0;32m~/repos/aml-crypto-graph/src/cryptoaml/models/_models.py\u001b[0m in \u001b[0;36m__init__\u001b[0;34m(self, tune_props, persist_props, **kwargs)\u001b[0m\n\u001b[1;32m     63\u001b[0m             \u001b[0;31m# load model\u001b[0m\u001b[0;34m\u001b[0m\u001b[0;34m\u001b[0m\u001b[0;34m\u001b[0m\u001b[0m\n\u001b[1;32m     64\u001b[0m             \u001b[0;32mif\u001b[0m \u001b[0mself\u001b[0m\u001b[0;34m.\u001b[0m\u001b[0m_persist_props\u001b[0m\u001b[0;34m.\u001b[0m\u001b[0mmethod\u001b[0m \u001b[0;34m==\u001b[0m \u001b[0mPERSIST_LOAD\u001b[0m\u001b[0;34m:\u001b[0m\u001b[0;34m\u001b[0m\u001b[0;34m\u001b[0m\u001b[0m\n\u001b[0;32m---> 65\u001b[0;31m                 \u001b[0mself\u001b[0m\u001b[0;34m.\u001b[0m\u001b[0mload\u001b[0m\u001b[0;34m(\u001b[0m\u001b[0mself\u001b[0m\u001b[0;34m.\u001b[0m\u001b[0m_persist_props\u001b[0m\u001b[0;34m.\u001b[0m\u001b[0mload_path\u001b[0m\u001b[0;34m)\u001b[0m\u001b[0;34m\u001b[0m\u001b[0;34m\u001b[0m\u001b[0m\n\u001b[0m\u001b[1;32m     66\u001b[0m \u001b[0;34m\u001b[0m\u001b[0m\n\u001b[1;32m     67\u001b[0m     \u001b[0;31m# properties ----------------------------------------------------------\u001b[0m\u001b[0;34m\u001b[0m\u001b[0;34m\u001b[0m\u001b[0;34m\u001b[0m\u001b[0m\n",
      "\u001b[0;32m~/repos/aml-crypto-graph/src/cryptoaml/models/_models.py\u001b[0m in \u001b[0;36mload\u001b[0;34m(self, path)\u001b[0m\n\u001b[1;32m    167\u001b[0m         \u001b[0;31m# Load meta data\u001b[0m\u001b[0;34m\u001b[0m\u001b[0;34m\u001b[0m\u001b[0;34m\u001b[0m\u001b[0m\n\u001b[1;32m    168\u001b[0m         \u001b[0;32mwith\u001b[0m \u001b[0mopen\u001b[0m\u001b[0;34m(\u001b[0m\u001b[0mpath\u001b[0m \u001b[0;34m+\u001b[0m \u001b[0;34m\"/\"\u001b[0m \u001b[0;34m+\u001b[0m  \u001b[0mpath\u001b[0m\u001b[0;34m.\u001b[0m\u001b[0msplit\u001b[0m\u001b[0;34m(\u001b[0m\u001b[0;34m\"/\"\u001b[0m\u001b[0;34m)\u001b[0m\u001b[0;34m[\u001b[0m\u001b[0;34m-\u001b[0m\u001b[0;36m1\u001b[0m\u001b[0;34m]\u001b[0m \u001b[0;34m+\u001b[0m \u001b[0;34m\"_meta.pkl\"\u001b[0m\u001b[0;34m,\u001b[0m \u001b[0;34m\"rb\"\u001b[0m\u001b[0;34m)\u001b[0m \u001b[0;32mas\u001b[0m \u001b[0mmeta_file\u001b[0m\u001b[0;34m:\u001b[0m\u001b[0;34m\u001b[0m\u001b[0;34m\u001b[0m\u001b[0m\n\u001b[0;32m--> 169\u001b[0;31m             \u001b[0mmeta_data\u001b[0m \u001b[0;34m=\u001b[0m \u001b[0mpickle\u001b[0m\u001b[0;34m.\u001b[0m\u001b[0mload\u001b[0m\u001b[0;34m(\u001b[0m\u001b[0mmeta_file\u001b[0m\u001b[0;34m)\u001b[0m\u001b[0;34m\u001b[0m\u001b[0;34m\u001b[0m\u001b[0m\n\u001b[0m\u001b[1;32m    170\u001b[0m             \u001b[0mself\u001b[0m\u001b[0;34m.\u001b[0m\u001b[0m_features\u001b[0m \u001b[0;34m=\u001b[0m \u001b[0mmeta_data\u001b[0m\u001b[0;34m[\u001b[0m\u001b[0;34m\"features\"\u001b[0m\u001b[0;34m]\u001b[0m\u001b[0;34m\u001b[0m\u001b[0;34m\u001b[0m\u001b[0m\n\u001b[1;32m    171\u001b[0m             \u001b[0mself\u001b[0m\u001b[0;34m.\u001b[0m\u001b[0m_tune_props\u001b[0m \u001b[0;34m=\u001b[0m \u001b[0mmeta_data\u001b[0m\u001b[0;34m[\u001b[0m\u001b[0;34m\"tune_props\"\u001b[0m\u001b[0;34m]\u001b[0m\u001b[0;34m\u001b[0m\u001b[0;34m\u001b[0m\u001b[0m\n",
      "\u001b[0;31mValueError\u001b[0m: unsupported pickle protocol: 5"
     ]
    }
   ],
   "source": [
    "\n",
    "# tmp = RandomForestAlgo(persist_props={\n",
    "#     \"method\":\"load\", \n",
    "#     \"load_path\": \"persistence/experiment_1.1/tuned_models/ALL/random_forest\"\n",
    "# })\n",
    "\n",
    "# tmp = LightGbmAlgo(persist_props={\n",
    "#     \"method\":\"load\", \n",
    "#     \"load_path\": \"persistence/experiment_1.1/tuned_models/ALL/light_boost\"\n",
    "# })\n",
    "\n",
    "tmp = CatBoostAlgo(persist_props={\n",
    "    \"method\":\"load\", \n",
    "    \"load_path\": \"persistence/experiment_1/tuned_models/AF/cat_boost\"\n",
    "})\n",
    "\n",
    "# tmp = XgboostAlgo(persist_props={\n",
    "#     \"method\":\"load\", \n",
    "#     \"load_path\": \"persistence/experiment_1.1/tuned_models/ALL/xg_boost\"\n",
    "# })\n",
    "\n",
    "display(tmp._tuner._study.trials_dataframe().sort_values(\"value\", ascending=False).head(5))\n",
    "\n",
    "# tmp = CatBoostAlgo()\n",
    "# tmp = XgboostAlgo()\n",
    "# tmp = LightGbmAlgo()\n",
    "\n",
    "elliptic = cdr.get_data(\"elliptic\")\n",
    "data = elliptic.train_test_split(train_size=0.7, feat_set=\"AF\")\n",
    "\n",
    "\n",
    "# data = elliptic.train_test_split(train_size=0.7,\n",
    "#                                  as_dict=False)\n",
    "\n",
    "train_X = data.train_X\n",
    "train_y = data.train_y\n",
    "test_X = data.test_X\n",
    "test_y = data.test_y\n",
    "\n",
    "# tmp.set_params(**tmp2.get_params())\n",
    "tmp.fit(train_X, train_y, tune=False)\n",
    "print(tmp.get_params())\n",
    "results = tmp.evaluate([\"f1\", \"recall\", \"precision\", \"auc\", \"f1_micro\"], test_X, test_y)\n",
    "print(results)\n",
    "\n",
    "# print(tmp.get_params())\n",
    "# print(tmp._tuner._study.best_trial.user_attrs[\"best_n_estimators\"])\n",
    "\n",
    "# import pickle\n",
    "# with open(\"study_randomforest_ALL.pkl\", \"wb\") as model_file:\n",
    "#     pickle.dump(tmp._tuner._study, model_file)"
   ]
  },
  {
   "cell_type": "code",
   "execution_count": null,
   "metadata": {},
   "outputs": [],
   "source": [
    "#---------------------------------\n",
    "# XGBOOST (DETERMINISTIC RESULTS)\n",
    "#---------------------------------\n",
    "# LF (DEFAULT: 0.7794871794871795)\n",
    "# 0.7848500789058391 (TUNED) [+0.005362899]\n",
    "# 0.7848500789058391 (TUNED) [+0.005362899]\n",
    "\n",
    "# LF_NE (DEFAULT: 0.7891832229580574)\n",
    "# 0.8013136288998358 (TUNED) [+0.012130406]\n",
    "# 0.8013136288998358 (TUNED) [+0.012130406]\n",
    "\n",
    "# AF (DEFAULT: 0.8026652998462326)\n",
    "# 0.8128564022809746 (TUNED) [+0.010191102]\n",
    "# 0.8128564022809746 (TUNED) [+0.010191102]\n",
    "\n",
    "# AF_NE (DEFAULT: 0.7980241492864983)\n",
    "# 0.8106348345089527 (TUNED) [+0.012610685]\n",
    "# 0.8106348345089527 (TUNED) [+0.012610685]\n",
    "# 0.8162162162162162\n",
    "\n",
    "#----------------------------------\n",
    "# LIGHTGBM (DETERMINISTIC RESULTS)\n",
    "#----------------------------------\n",
    "# LF (DEFAULT: 0.7789580171977744)\n",
    "# 0.790866632070576 (TUNED) [+0.011908615]\n",
    "# 0.790866632070576 (TUNED) [+0.011908615]\n",
    "\n",
    "# LF_NE (DEFAULT: 0.8030551009274413)\n",
    "# 0.7960308710033076 (TUNED) [−0.00702423]\n",
    "# 0.7960308710033076 (TUNED) [−0.00702423]\n",
    "\n",
    "# AF (DEFAULT: 0.813929313929314) \n",
    "# 0.8163693599160545 (TUNED) [+0.002440046]\n",
    "# 0.8163693599160545 (TUNED) [+0.002440046]\n",
    "\n",
    "# AF NE (DEFAULT: 0.8063112078346028) \n",
    "# 0.8043715846994536 (TUNED) [−0.001939623]\n",
    "# 0.8043715846994536 (TUNED) [−0.001939623]\n",
    "\n",
    "#----------------------------------\n",
    "# CATBOOST (DETERMINISTIC RESULTS)\n",
    "#----------------------------------\n",
    "# LF (DEFAULT: 0.7892004153686397) \n",
    "# 0.7741935483870969 (TUNED) [−0.015006867]\n",
    "# 0.7741935483870969 (TUNED) [−0.015006867]\n",
    "\n",
    "# LF_NE (DEFAULT: 0.7837687604224568) \n",
    "# 0.7828947368421053 (TUNED) [−0.000874024]\n",
    "# 0.7828947368421053 (TUNED) [−0.000874024]\n",
    "\n",
    "# AF (DEFAULT: 0.8187565858798735) \n",
    "# 0.8256116605934409 (TUNED) [+0.006855075]\n",
    "# 0.8256116605934409 (TUNED) [+0.006855075]\n",
    "\n",
    "# AF NE (DEFAULT: 0.8058887677208288) \n",
    "# 0.7989159891598916 (TUNED) [−0.006972779]\n",
    "# 0.7989159891598916 (TUNED) [−0.006972779]"
   ]
  },
  {
   "cell_type": "code",
   "execution_count": null,
   "metadata": {},
   "outputs": [],
   "source": [
    "display(xgb._tuner._study.trials_dataframe())"
   ]
  },
  {
   "cell_type": "code",
   "execution_count": null,
   "metadata": {},
   "outputs": [],
   "source": [
    "# xgb = XgboostAlgo(persist_props={\n",
    "#     \"method\":\"load\", \n",
    "#     \"load_path\": \"persistence/experiment_1/tuned_models/AF_NE/xg_boost\"\n",
    "# })\n",
    "\n",
    "# import pickle\n",
    "# with open(\"tpe_xgboost_AF_NE.pkl\", \"wb\") as model_file:\n",
    "#     pickle.dump(xgb._tuner._study, model_file)"
   ]
  },
  {
   "cell_type": "code",
   "execution_count": null,
   "metadata": {},
   "outputs": [],
   "source": [
    "from cryptoaml.models import RandomForestAlgo\n",
    "from cryptoaml.models import XgboostAlgo\n",
    "from cryptoaml.models import LightGbmAlgo\n",
    "from cryptoaml.models import CatBoostAlgo"
   ]
  },
  {
   "cell_type": "code",
   "execution_count": null,
   "metadata": {
    "scrolled": false
   },
   "outputs": [],
   "source": [
    "elliptic = cdr.get_data(\"elliptic\")\n",
    "data = elliptic.train_test_split(train_size=0.7, feat_set=\"LF\")\n",
    "\n",
    "train_X = data.train_X\n",
    "train_y = data.train_y\n",
    "test_X = data.test_X\n",
    "test_y = data.test_y\n",
    "\n",
    "tmp = CatBoostAlgo(verbose=0)\n",
    "tmp.fit(train_X, train_y)\n",
    "print(tmp.get_params())\n",
    "results = tmp.evaluate([\"f1\", \"recall\", \"precision\", \"f1_micro\"], test_X, test_y)\n",
    "print(results)"
   ]
  },
  {
   "cell_type": "code",
   "execution_count": null,
   "metadata": {},
   "outputs": [],
   "source": [
    "# rf = RandomForestAlgo()\n",
    "# xgb = XgboostAlgo()\n",
    "elliptic = cdr.get_data(\"elliptic\")\n",
    "data = elliptic.train_test_split(train_size=0.7, feat_set=\"LF_NE\")\n",
    "\n",
    "train_X = data.train_X\n",
    "train_y = data.train_y\n",
    "test_X = data.test_X\n",
    "test_y = data.test_y\n",
    "\n",
    "tmp = CatBoostAlgo(verbose=0, learning_rate=.1475, iterations=125)\n",
    "tmp.fit(train_X, train_y)\n",
    "print(tmp.get_params())\n",
    "results = tmp.evaluate([\"f1\", \"recall\", \"precision\", \"f1_micro\"], test_X, test_y)\n",
    "print(results)\n",
    "\n",
    "# light = LightGbmAlgo()\n",
    "# light.fit(train_X, train_y)\n",
    "# print(light.get_params())\n",
    "# results = light.evaluate([\"f1\", \"recall\", \"precision\", \"f1_micro\"], test_X, test_y)\n",
    "# print(results)"
   ]
  },
  {
   "cell_type": "code",
   "execution_count": null,
   "metadata": {
    "scrolled": false
   },
   "outputs": [],
   "source": [
    "elliptic = cdr.get_data(\"elliptic\")\n",
    "data = elliptic.train_test_split(train_size=0.7, feat_set=\"AF\")\n",
    "\n",
    "train_X = data.train_X\n",
    "train_y = data.train_y\n",
    "test_X = data.test_X\n",
    "test_y = data.test_y\n",
    "\n",
    "tmp = CatBoostAlgo(verbose=0, \n",
    "                   learning_rate=0.12, \n",
    "                   iterations=300, \n",
    "                   l2_leaf_reg=5.55,\n",
    "                   depth=10,\n",
    "                   rsm=0.02889848402592587,\n",
    "                   random_strength=60.06633858147979\n",
    "                  )\n",
    "tmp.fit(train_X, train_y)\n",
    "print(tmp.get_params())\n",
    "results = tmp.evaluate([\"f1\", \"recall\", \"precision\", \"f1_micro\"], test_X, test_y)\n",
    "print(results)\n",
    "\n",
    "# 0.8256784968684759\n",
    "# 0.8264984227129338\n",
    "# 0.8246991104133963\n",
    "# 0.8256116605934409\n"
   ]
  },
  {
   "cell_type": "code",
   "execution_count": null,
   "metadata": {
    "scrolled": false
   },
   "outputs": [],
   "source": [
    "elliptic = cdr.get_data(\"elliptic\")\n",
    "data = elliptic.train_test_split(train_size=0.7, feat_set=\"AF_NE\")\n",
    "\n",
    "train_X = data.train_X\n",
    "train_y = data.train_y\n",
    "test_X = data.test_X\n",
    "test_y = data.test_y\n",
    "\n",
    "tmp = CatBoostAlgo(verbose=0, iterations=450, learning_rate=0.2200)\n",
    "tmp.fit(train_X, train_y)\n",
    "print(tmp.get_params())\n",
    "results = tmp.evaluate([\"f1\", \"recall\", \"precision\", \"f1_micro\"], test_X, test_y)\n",
    "print(results)\n",
    "\n",
    "# 0.8045602605863192"
   ]
  },
  {
   "cell_type": "code",
   "execution_count": null,
   "metadata": {},
   "outputs": [],
   "source": [
    "# from sklearn.metrics import log_loss, make_scorer\n",
    "# from sklearn.model_selection import cross_val_score\n",
    "# from sklearn.model_selection import StratifiedKFold\n",
    "\n",
    "# xgb = XgboostAlgo()\n",
    "# scorer = make_scorer(log_loss, greater_is_better=False, needs_proba=True, eps=1e-7)\n",
    "# elliptic = cdr.get_data(\"elliptic\")\n",
    "# data = elliptic.train_test_split(train_size=0.7, feat_set=\"LF_NE\")\n",
    "\n",
    "# train_X = data.train_X\n",
    "# train_y = data.train_y\n",
    "# test_X = data.test_X\n",
    "# test_y = data.test_y\n",
    "\n",
    "# # -0.441107\n",
    "# scores = cross_val_score(xgb._model, train_X, train_y, scoring=scorer, cv=StratifiedKFold(n_splits=3))"
   ]
  },
  {
   "cell_type": "code",
   "execution_count": null,
   "metadata": {},
   "outputs": [],
   "source": [
    "print(scores.mean())"
   ]
  },
  {
   "cell_type": "code",
   "execution_count": null,
   "metadata": {},
   "outputs": [],
   "source": []
  }
 ],
 "metadata": {
  "kernelspec": {
   "display_name": "Python 3.7.6 64-bit ('btc-classifier': conda)",
   "language": "python",
   "name": "python37664bitbtcclassifiercondaf328939486114fc0aeb107830f867d66"
  },
  "language_info": {
   "codemirror_mode": {
    "name": "ipython",
    "version": 3
   },
   "file_extension": ".py",
   "mimetype": "text/x-python",
   "name": "python",
   "nbconvert_exporter": "python",
   "pygments_lexer": "ipython3",
   "version": "3.7.6"
  }
 },
 "nbformat": 4,
 "nbformat_minor": 4
}

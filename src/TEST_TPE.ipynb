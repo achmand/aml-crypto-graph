{
 "cells": [
  {
   "cell_type": "code",
   "execution_count": 1,
   "metadata": {},
   "outputs": [
    {
     "name": "stderr",
     "output_type": "stream",
     "text": [
      "/home/delinvas/anaconda3/envs/btc-classifier/lib/python3.7/site-packages/sklearn/utils/deprecation.py:144: FutureWarning:\n",
      "\n",
      "The sklearn.metrics.scorer module is  deprecated in version 0.22 and will be removed in version 0.24. The corresponding classes / functions should instead be imported from sklearn.metrics. Anything that cannot be imported from sklearn.metrics is now part of the private API.\n",
      "\n"
     ]
    }
   ],
   "source": [
    "import cryptoaml.datareader as cdr\n",
    "from cryptoaml.models import XgboostAlgo"
   ]
  },
  {
   "cell_type": "code",
   "execution_count": 2,
   "metadata": {},
   "outputs": [],
   "source": [
    "# xgb = XgboostAlgo(\n",
    "#     tune_props= {\n",
    "#         \"method\": \"tpe\",\n",
    "#         \"scoring\": \"neg_log_loss\",\n",
    "#         \"k_folds\": 3,\n",
    "#         \"n_iterations\": 100,\n",
    "#         \"param_grid\": {\n",
    "#             \"three_method\": {\n",
    "#                 \"value\": \"gpu_hist\",\n",
    "#                 \"type\": \"throw\"\n",
    "#             },\n",
    "#             \"predictor\": {\n",
    "#                 \"value\": \"gpu_predictor\",\n",
    "#                 \"type\": \"throw\"\n",
    "#             },\n",
    "#             \"learning_rate\": {\n",
    "#                 \"value\": 0.125,\n",
    "#                 \"type\": \"fixed\"      \n",
    "#             },\n",
    "#             \"n_estimators\": { \n",
    "#                 \"value\": 475, \n",
    "#                 \"type\": \"fixed\"\n",
    "#             },\n",
    "#             \"max_depth\": {\n",
    "#                 \"min\": 1,\n",
    "#                 \"max\": 12,\n",
    "#                 \"type\": \"suggest_int\"\n",
    "#             },\n",
    "#             \"subsample\": {\n",
    "#                 \"min\": 0.9,\n",
    "#                 \"max\": 1.0,\n",
    "#                 \"type\": \"suggest_uniform\"      \n",
    "#             },\n",
    "#             \"colsample_bytree\": {\n",
    "#                 \"min\": 0.9,\n",
    "#                 \"max\": 1.0,\n",
    "#                 \"type\": \"suggest_uniform\"\n",
    "#             },\n",
    "#             \"min_child_weight\": {\n",
    "#                 \"min\": 0,\n",
    "#                 \"max\": 4,\n",
    "#                 \"type\": \"suggest_int\" \n",
    "#             },\n",
    "#             \"max_delta_step\": {\n",
    "#                 \"min\": 0,\n",
    "#                 \"max\": 1,\n",
    "#                 \"type\": \"suggest_int\"\n",
    "#             },\n",
    "#             \"gamma\": { \n",
    "#                 \"min\": 0.0,\n",
    "#                 \"max\": 0.01,\n",
    "#                 \"step\": 0.005,\n",
    "#                 \"type\": \"suggest_discrete_uniform\"\n",
    "#             }\n",
    "#         }\n",
    "#     }\n",
    "# )"
   ]
  },
  {
   "cell_type": "code",
   "execution_count": 3,
   "metadata": {},
   "outputs": [],
   "source": [
    "# elliptic = cdr.get_data(\"elliptic\")\n",
    "# data = elliptic.train_test_split(train_size=0.7, feat_set=\"LF\")\n",
    "# train_X = data.train_X\n",
    "# train_y = data.train_y\n"
   ]
  },
  {
   "cell_type": "code",
   "execution_count": 4,
   "metadata": {
    "scrolled": false
   },
   "outputs": [],
   "source": [
    "# xgb.fit(train_X, train_y)"
   ]
  },
  {
   "cell_type": "code",
   "execution_count": 5,
   "metadata": {},
   "outputs": [],
   "source": [
    "xgb = XgboostAlgo(persist_props={\n",
    "    \"method\":\"load\", \n",
    "    \"load_path\": \"persistence/experiment_1/tuned_models/LF/xg_boost\"\n",
    "})"
   ]
  },
  {
   "cell_type": "code",
   "execution_count": 6,
   "metadata": {},
   "outputs": [
    {
     "name": "stdout",
     "output_type": "stream",
     "text": [
      "{'objective': 'binary:logistic', 'base_score': 0.5, 'booster': None, 'colsample_bylevel': 1, 'colsample_bynode': 1, 'colsample_bytree': 0.9853980539174987, 'gamma': 0.0, 'gpu_id': -1, 'importance_type': 'gain', 'interaction_constraints': None, 'learning_rate': 0.125, 'max_delta_step': 0, 'max_depth': 11, 'min_child_weight': 3, 'missing': nan, 'monotone_constraints': None, 'n_estimators': 475, 'n_jobs': 0, 'num_parallel_tree': 1, 'random_state': 0, 'reg_alpha': 0, 'reg_lambda': 1, 'scale_pos_weight': 1, 'subsample': 0.9195609163154224, 'tree_method': None, 'validate_parameters': False, 'verbosity': None}\n"
     ]
    }
   ],
   "source": [
    "print(xgb.get_params())"
   ]
  },
  {
   "cell_type": "code",
   "execution_count": 7,
   "metadata": {},
   "outputs": [
    {
     "data": {
      "text/html": [
       "<div>\n",
       "<style scoped>\n",
       "    .dataframe tbody tr th:only-of-type {\n",
       "        vertical-align: middle;\n",
       "    }\n",
       "\n",
       "    .dataframe tbody tr th {\n",
       "        vertical-align: top;\n",
       "    }\n",
       "\n",
       "    .dataframe thead th {\n",
       "        text-align: right;\n",
       "    }\n",
       "</style>\n",
       "<table border=\"1\" class=\"dataframe\">\n",
       "  <thead>\n",
       "    <tr style=\"text-align: right;\">\n",
       "      <th></th>\n",
       "      <th>number</th>\n",
       "      <th>value</th>\n",
       "      <th>datetime_start</th>\n",
       "      <th>datetime_complete</th>\n",
       "      <th>params_colsample_bytree</th>\n",
       "      <th>params_gamma</th>\n",
       "      <th>params_max_delta_step</th>\n",
       "      <th>params_max_depth</th>\n",
       "      <th>params_min_child_weight</th>\n",
       "      <th>params_subsample</th>\n",
       "      <th>user_attrs_cv_max</th>\n",
       "      <th>user_attrs_cv_mean</th>\n",
       "      <th>user_attrs_cv_min</th>\n",
       "      <th>user_attrs_cv_std</th>\n",
       "      <th>state</th>\n",
       "    </tr>\n",
       "  </thead>\n",
       "  <tbody>\n",
       "    <tr>\n",
       "      <th>3</th>\n",
       "      <td>3</td>\n",
       "      <td>-0.546966</td>\n",
       "      <td>2020-04-11 22:05:30.061460</td>\n",
       "      <td>2020-04-11 22:07:30.773083</td>\n",
       "      <td>0.985398</td>\n",
       "      <td>0.00</td>\n",
       "      <td>0</td>\n",
       "      <td>11</td>\n",
       "      <td>3</td>\n",
       "      <td>0.919561</td>\n",
       "      <td>-0.151771</td>\n",
       "      <td>-0.546966</td>\n",
       "      <td>-1.311917</td>\n",
       "      <td>0.541001</td>\n",
       "      <td>COMPLETE</td>\n",
       "    </tr>\n",
       "    <tr>\n",
       "      <th>0</th>\n",
       "      <td>0</td>\n",
       "      <td>-0.706034</td>\n",
       "      <td>2020-04-11 22:00:20.128944</td>\n",
       "      <td>2020-04-11 22:02:28.858065</td>\n",
       "      <td>0.961890</td>\n",
       "      <td>0.00</td>\n",
       "      <td>0</td>\n",
       "      <td>12</td>\n",
       "      <td>1</td>\n",
       "      <td>0.961760</td>\n",
       "      <td>-0.127114</td>\n",
       "      <td>-0.706034</td>\n",
       "      <td>-1.795603</td>\n",
       "      <td>0.770945</td>\n",
       "      <td>COMPLETE</td>\n",
       "    </tr>\n",
       "    <tr>\n",
       "      <th>1</th>\n",
       "      <td>1</td>\n",
       "      <td>-0.709874</td>\n",
       "      <td>2020-04-11 22:02:28.858919</td>\n",
       "      <td>2020-04-11 22:03:55.574045</td>\n",
       "      <td>0.911103</td>\n",
       "      <td>0.01</td>\n",
       "      <td>1</td>\n",
       "      <td>1</td>\n",
       "      <td>4</td>\n",
       "      <td>0.971331</td>\n",
       "      <td>-0.134199</td>\n",
       "      <td>-0.709874</td>\n",
       "      <td>-1.798979</td>\n",
       "      <td>0.770533</td>\n",
       "      <td>COMPLETE</td>\n",
       "    </tr>\n",
       "    <tr>\n",
       "      <th>2</th>\n",
       "      <td>2</td>\n",
       "      <td>-0.910107</td>\n",
       "      <td>2020-04-11 22:03:55.575035</td>\n",
       "      <td>2020-04-11 22:05:30.060074</td>\n",
       "      <td>0.999572</td>\n",
       "      <td>0.01</td>\n",
       "      <td>0</td>\n",
       "      <td>2</td>\n",
       "      <td>3</td>\n",
       "      <td>0.932321</td>\n",
       "      <td>-0.162869</td>\n",
       "      <td>-0.910107</td>\n",
       "      <td>-2.251228</td>\n",
       "      <td>0.950380</td>\n",
       "      <td>COMPLETE</td>\n",
       "    </tr>\n",
       "  </tbody>\n",
       "</table>\n",
       "</div>"
      ],
      "text/plain": [
       "   number     value             datetime_start          datetime_complete  \\\n",
       "3       3 -0.546966 2020-04-11 22:05:30.061460 2020-04-11 22:07:30.773083   \n",
       "0       0 -0.706034 2020-04-11 22:00:20.128944 2020-04-11 22:02:28.858065   \n",
       "1       1 -0.709874 2020-04-11 22:02:28.858919 2020-04-11 22:03:55.574045   \n",
       "2       2 -0.910107 2020-04-11 22:03:55.575035 2020-04-11 22:05:30.060074   \n",
       "\n",
       "   params_colsample_bytree  params_gamma  params_max_delta_step  \\\n",
       "3                 0.985398          0.00                      0   \n",
       "0                 0.961890          0.00                      0   \n",
       "1                 0.911103          0.01                      1   \n",
       "2                 0.999572          0.01                      0   \n",
       "\n",
       "   params_max_depth  params_min_child_weight  params_subsample  \\\n",
       "3                11                        3          0.919561   \n",
       "0                12                        1          0.961760   \n",
       "1                 1                        4          0.971331   \n",
       "2                 2                        3          0.932321   \n",
       "\n",
       "   user_attrs_cv_max  user_attrs_cv_mean  user_attrs_cv_min  \\\n",
       "3          -0.151771           -0.546966          -1.311917   \n",
       "0          -0.127114           -0.706034          -1.795603   \n",
       "1          -0.134199           -0.709874          -1.798979   \n",
       "2          -0.162869           -0.910107          -2.251228   \n",
       "\n",
       "   user_attrs_cv_std     state  \n",
       "3           0.541001  COMPLETE  \n",
       "0           0.770945  COMPLETE  \n",
       "1           0.770533  COMPLETE  \n",
       "2           0.950380  COMPLETE  "
      ]
     },
     "metadata": {},
     "output_type": "display_data"
    },
    {
     "name": "stdout",
     "output_type": "stream",
     "text": [
      "{'scoring': 'neg_log_loss', 'k_folds': 3, 'n_iterations': 4, 'param_grid': {'tree_method': {'value': 'gpu_hist', 'type': 'throw'}, 'predictor': {'value': 'gpu_predictor', 'type': 'throw'}, 'learning_rate': {'value': 0.125, 'type': 'fixed'}, 'n_estimators': {'value': 475, 'type': 'fixed'}, 'max_depth': {'min': 1, 'max': 12, 'type': 'suggest_int'}, 'subsample': {'min': 0.9, 'max': 1.0, 'type': 'suggest_uniform'}, 'colsample_bytree': {'min': 0.9, 'max': 1.0, 'type': 'suggest_uniform'}, 'min_child_weight': {'min': 0, 'max': 4, 'type': 'suggest_int'}, 'max_delta_step': {'min': 0, 'max': 1, 'type': 'suggest_int'}, 'gamma': {'min': 0.0, 'max': 0.01, 'step': 0.005, 'type': 'suggest_discrete_uniform'}}, 'verbose': 1, 'estimator': XGBClassifier(base_score=0.5, booster=None, colsample_bylevel=1,\n",
      "              colsample_bynode=1, colsample_bytree=0.9853980539174987,\n",
      "              gamma=0.0, gpu_id=-1, importance_type='gain',\n",
      "              interaction_constraints=None, learning_rate=0.125,\n",
      "              max_delta_step=0, max_depth=11, min_child_weight=3, missing=nan,\n",
      "              monotone_constraints=None, n_estimators=475, n_jobs=0,\n",
      "              num_parallel_tree=1, objective='binary:logistic', random_state=0,\n",
      "              reg_alpha=0, reg_lambda=1, scale_pos_weight=1,\n",
      "              subsample=0.9195609163154224, tree_method=None,\n",
      "              validate_parameters=False, verbosity=None)}\n"
     ]
    }
   ],
   "source": [
    "display(xgb.tune_results_[1])\n",
    "\n",
    "print(xgb.tune_props_)"
   ]
  },
  {
   "cell_type": "code",
   "execution_count": 8,
   "metadata": {},
   "outputs": [
    {
     "name": "stdout",
     "output_type": "stream",
     "text": [
      "{'objective': 'binary:logistic', 'base_score': 0.5, 'booster': None, 'colsample_bylevel': 1, 'colsample_bynode': 1, 'colsample_bytree': 0.9853980539174987, 'gamma': 0.0, 'gpu_id': -1, 'importance_type': 'gain', 'interaction_constraints': None, 'learning_rate': 0.125, 'max_delta_step': 0, 'max_depth': 11, 'min_child_weight': 3, 'missing': nan, 'monotone_constraints': None, 'n_estimators': 475, 'n_jobs': 0, 'num_parallel_tree': 1, 'random_state': 0, 'reg_alpha': 0, 'reg_lambda': 1, 'scale_pos_weight': 1, 'subsample': 0.9195609163154224, 'tree_method': None, 'validate_parameters': False, 'verbosity': None}\n"
     ]
    }
   ],
   "source": [
    "print(xgb.get_params())"
   ]
  },
  {
   "cell_type": "code",
   "execution_count": 9,
   "metadata": {},
   "outputs": [],
   "source": [
    "study = xgb._tuner._study"
   ]
  },
  {
   "cell_type": "code",
   "execution_count": 10,
   "metadata": {},
   "outputs": [
    {
     "name": "stdout",
     "output_type": "stream",
     "text": [
      "FrozenTrial(number=3, value=-0.5469663416059088, datetime_start=datetime.datetime(2020, 4, 11, 22, 5, 30, 61460), datetime_complete=datetime.datetime(2020, 4, 11, 22, 7, 30, 773083), params={'max_depth': 11, 'subsample': 0.9195609163154224, 'colsample_bytree': 0.9853980539174987, 'min_child_weight': 3, 'max_delta_step': 0, 'gamma': 0.0}, distributions={'max_depth': IntUniformDistribution(high=12, low=1, step=1), 'subsample': UniformDistribution(high=1.0, low=0.9), 'colsample_bytree': UniformDistribution(high=1.0, low=0.9), 'min_child_weight': IntUniformDistribution(high=4, low=0, step=1), 'max_delta_step': IntUniformDistribution(high=1, low=0, step=1), 'gamma': DiscreteUniformDistribution(high=0.01, low=0.0, q=0.005)}, user_attrs={'cv_mean': -0.5469663416059088, 'cv_std': 0.5410014158082945, 'cv_min': -1.3119168919488093, 'cv_max': -0.15177141598961122}, system_attrs={}, intermediate_values={}, trial_id=3, state=TrialState.COMPLETE)\n",
      "{'max_depth': 11, 'subsample': 0.9195609163154224, 'colsample_bytree': 0.9853980539174987, 'min_child_weight': 3, 'max_delta_step': 0, 'gamma': 0.0}\n"
     ]
    }
   ],
   "source": [
    "print(study.best_trial)\n",
    "\n",
    "print(study.best_trial.params)"
   ]
  },
  {
   "cell_type": "code",
   "execution_count": 11,
   "metadata": {},
   "outputs": [
    {
     "data": {
      "text/html": [
       "<div>\n",
       "<style scoped>\n",
       "    .dataframe tbody tr th:only-of-type {\n",
       "        vertical-align: middle;\n",
       "    }\n",
       "\n",
       "    .dataframe tbody tr th {\n",
       "        vertical-align: top;\n",
       "    }\n",
       "\n",
       "    .dataframe thead th {\n",
       "        text-align: right;\n",
       "    }\n",
       "</style>\n",
       "<table border=\"1\" class=\"dataframe\">\n",
       "  <thead>\n",
       "    <tr style=\"text-align: right;\">\n",
       "      <th></th>\n",
       "      <th>number</th>\n",
       "      <th>value</th>\n",
       "      <th>datetime_start</th>\n",
       "      <th>datetime_complete</th>\n",
       "      <th>params_colsample_bytree</th>\n",
       "      <th>params_gamma</th>\n",
       "      <th>params_max_delta_step</th>\n",
       "      <th>params_max_depth</th>\n",
       "      <th>params_min_child_weight</th>\n",
       "      <th>params_subsample</th>\n",
       "      <th>user_attrs_cv_max</th>\n",
       "      <th>user_attrs_cv_mean</th>\n",
       "      <th>user_attrs_cv_min</th>\n",
       "      <th>user_attrs_cv_std</th>\n",
       "      <th>state</th>\n",
       "    </tr>\n",
       "  </thead>\n",
       "  <tbody>\n",
       "    <tr>\n",
       "      <th>0</th>\n",
       "      <td>0</td>\n",
       "      <td>-0.706034</td>\n",
       "      <td>2020-04-11 22:00:20.128944</td>\n",
       "      <td>2020-04-11 22:02:28.858065</td>\n",
       "      <td>0.961890</td>\n",
       "      <td>0.00</td>\n",
       "      <td>0</td>\n",
       "      <td>12</td>\n",
       "      <td>1</td>\n",
       "      <td>0.961760</td>\n",
       "      <td>-0.127114</td>\n",
       "      <td>-0.706034</td>\n",
       "      <td>-1.795603</td>\n",
       "      <td>0.770945</td>\n",
       "      <td>COMPLETE</td>\n",
       "    </tr>\n",
       "    <tr>\n",
       "      <th>1</th>\n",
       "      <td>1</td>\n",
       "      <td>-0.709874</td>\n",
       "      <td>2020-04-11 22:02:28.858919</td>\n",
       "      <td>2020-04-11 22:03:55.574045</td>\n",
       "      <td>0.911103</td>\n",
       "      <td>0.01</td>\n",
       "      <td>1</td>\n",
       "      <td>1</td>\n",
       "      <td>4</td>\n",
       "      <td>0.971331</td>\n",
       "      <td>-0.134199</td>\n",
       "      <td>-0.709874</td>\n",
       "      <td>-1.798979</td>\n",
       "      <td>0.770533</td>\n",
       "      <td>COMPLETE</td>\n",
       "    </tr>\n",
       "    <tr>\n",
       "      <th>2</th>\n",
       "      <td>2</td>\n",
       "      <td>-0.910107</td>\n",
       "      <td>2020-04-11 22:03:55.575035</td>\n",
       "      <td>2020-04-11 22:05:30.060074</td>\n",
       "      <td>0.999572</td>\n",
       "      <td>0.01</td>\n",
       "      <td>0</td>\n",
       "      <td>2</td>\n",
       "      <td>3</td>\n",
       "      <td>0.932321</td>\n",
       "      <td>-0.162869</td>\n",
       "      <td>-0.910107</td>\n",
       "      <td>-2.251228</td>\n",
       "      <td>0.950380</td>\n",
       "      <td>COMPLETE</td>\n",
       "    </tr>\n",
       "    <tr>\n",
       "      <th>3</th>\n",
       "      <td>3</td>\n",
       "      <td>-0.546966</td>\n",
       "      <td>2020-04-11 22:05:30.061460</td>\n",
       "      <td>2020-04-11 22:07:30.773083</td>\n",
       "      <td>0.985398</td>\n",
       "      <td>0.00</td>\n",
       "      <td>0</td>\n",
       "      <td>11</td>\n",
       "      <td>3</td>\n",
       "      <td>0.919561</td>\n",
       "      <td>-0.151771</td>\n",
       "      <td>-0.546966</td>\n",
       "      <td>-1.311917</td>\n",
       "      <td>0.541001</td>\n",
       "      <td>COMPLETE</td>\n",
       "    </tr>\n",
       "  </tbody>\n",
       "</table>\n",
       "</div>"
      ],
      "text/plain": [
       "   number     value             datetime_start          datetime_complete  \\\n",
       "0       0 -0.706034 2020-04-11 22:00:20.128944 2020-04-11 22:02:28.858065   \n",
       "1       1 -0.709874 2020-04-11 22:02:28.858919 2020-04-11 22:03:55.574045   \n",
       "2       2 -0.910107 2020-04-11 22:03:55.575035 2020-04-11 22:05:30.060074   \n",
       "3       3 -0.546966 2020-04-11 22:05:30.061460 2020-04-11 22:07:30.773083   \n",
       "\n",
       "   params_colsample_bytree  params_gamma  params_max_delta_step  \\\n",
       "0                 0.961890          0.00                      0   \n",
       "1                 0.911103          0.01                      1   \n",
       "2                 0.999572          0.01                      0   \n",
       "3                 0.985398          0.00                      0   \n",
       "\n",
       "   params_max_depth  params_min_child_weight  params_subsample  \\\n",
       "0                12                        1          0.961760   \n",
       "1                 1                        4          0.971331   \n",
       "2                 2                        3          0.932321   \n",
       "3                11                        3          0.919561   \n",
       "\n",
       "   user_attrs_cv_max  user_attrs_cv_mean  user_attrs_cv_min  \\\n",
       "0          -0.127114           -0.706034          -1.795603   \n",
       "1          -0.134199           -0.709874          -1.798979   \n",
       "2          -0.162869           -0.910107          -2.251228   \n",
       "3          -0.151771           -0.546966          -1.311917   \n",
       "\n",
       "   user_attrs_cv_std     state  \n",
       "0           0.770945  COMPLETE  \n",
       "1           0.770533  COMPLETE  \n",
       "2           0.950380  COMPLETE  \n",
       "3           0.541001  COMPLETE  "
      ]
     },
     "metadata": {},
     "output_type": "display_data"
    }
   ],
   "source": [
    "display(study.trials_dataframe())"
   ]
  },
  {
   "cell_type": "code",
   "execution_count": 12,
   "metadata": {},
   "outputs": [],
   "source": [
    "elliptic = cdr.get_data(\"elliptic\")\n",
    "data = elliptic.train_test_split(train_size=0.7, feat_set=\"LF\")\n",
    "\n",
    "train_X = data.train_X\n",
    "train_y = data.train_y\n",
    "test_X = data.test_X\n",
    "test_y = data.test_y"
   ]
  },
  {
   "cell_type": "code",
   "execution_count": 17,
   "metadata": {},
   "outputs": [
    {
     "ename": "TypeError",
     "evalue": "set_params() takes 1 positional argument but 2 were given",
     "output_type": "error",
     "traceback": [
      "\u001b[0;31m---------------------------------------------------------------------------\u001b[0m",
      "\u001b[0;31mTypeError\u001b[0m                                 Traceback (most recent call last)",
      "\u001b[0;32m<ipython-input-17-115253e6d5a4>\u001b[0m in \u001b[0;36m<module>\u001b[0;34m\u001b[0m\n\u001b[1;32m      1\u001b[0m \u001b[0mxgb\u001b[0m\u001b[0;34m.\u001b[0m\u001b[0mfit\u001b[0m\u001b[0;34m(\u001b[0m\u001b[0mtrain_X\u001b[0m\u001b[0;34m,\u001b[0m \u001b[0mtrain_y\u001b[0m\u001b[0;34m,\u001b[0m \u001b[0mtune\u001b[0m\u001b[0;34m=\u001b[0m\u001b[0;32mFalse\u001b[0m\u001b[0;34m)\u001b[0m\u001b[0;34m\u001b[0m\u001b[0;34m\u001b[0m\u001b[0m\n\u001b[0;32m----> 2\u001b[0;31m \u001b[0mxgb\u001b[0m\u001b[0;34m.\u001b[0m\u001b[0mset_params\u001b[0m\u001b[0;34m(\u001b[0m\u001b[0;34m{\u001b[0m\u001b[0;34m\"n_estimators\"\u001b[0m \u001b[0;34m:\u001b[0m \u001b[0;36m100\u001b[0m\u001b[0;34m}\u001b[0m\u001b[0;34m)\u001b[0m\u001b[0;34m\u001b[0m\u001b[0;34m\u001b[0m\u001b[0m\n\u001b[0m\u001b[1;32m      3\u001b[0m \u001b[0mprint\u001b[0m\u001b[0;34m(\u001b[0m\u001b[0mxgb\u001b[0m\u001b[0;34m.\u001b[0m\u001b[0mget_params\u001b[0m\u001b[0;34m(\u001b[0m\u001b[0;34m)\u001b[0m\u001b[0;34m)\u001b[0m\u001b[0;34m\u001b[0m\u001b[0;34m\u001b[0m\u001b[0m\n\u001b[1;32m      4\u001b[0m \u001b[0mresults\u001b[0m \u001b[0;34m=\u001b[0m \u001b[0mxgb\u001b[0m\u001b[0;34m.\u001b[0m\u001b[0mevaluate\u001b[0m\u001b[0;34m(\u001b[0m\u001b[0;34m[\u001b[0m\u001b[0;34m\"f1\"\u001b[0m\u001b[0;34m,\u001b[0m \u001b[0;34m\"recall\"\u001b[0m\u001b[0;34m,\u001b[0m \u001b[0;34m\"precision\"\u001b[0m\u001b[0;34m]\u001b[0m\u001b[0;34m,\u001b[0m \u001b[0mtest_X\u001b[0m\u001b[0;34m,\u001b[0m \u001b[0mtest_y\u001b[0m\u001b[0;34m)\u001b[0m\u001b[0;34m\u001b[0m\u001b[0;34m\u001b[0m\u001b[0m\n\u001b[1;32m      5\u001b[0m \u001b[0mprint\u001b[0m\u001b[0;34m(\u001b[0m\u001b[0mresults\u001b[0m\u001b[0;34m)\u001b[0m\u001b[0;34m\u001b[0m\u001b[0;34m\u001b[0m\u001b[0m\n",
      "\u001b[0;31mTypeError\u001b[0m: set_params() takes 1 positional argument but 2 were given"
     ]
    }
   ],
   "source": [
    "xgb.fit(train_X, train_y, tune=False)\n",
    "xgb.set_params({\"n_estimators\" : 100})\n",
    "print(xgb.get_params())\n",
    "results = xgb.evaluate([\"f1\", \"recall\", \"precision\"], test_X, test_y)\n",
    "print(results)"
   ]
  },
  {
   "cell_type": "code",
   "execution_count": null,
   "metadata": {},
   "outputs": [],
   "source": [
    "# 0.7794871794871795\n",
    "\n",
    "\n",
    "# 0.7822539520652728\n",
    "# 0.7822539520652728"
   ]
  }
 ],
 "metadata": {
  "kernelspec": {
   "display_name": "Python 3.7.6 64-bit ('btc-classifier': conda)",
   "language": "python",
   "name": "python37664bitbtcclassifiercondaf328939486114fc0aeb107830f867d66"
  },
  "language_info": {
   "codemirror_mode": {
    "name": "ipython",
    "version": 3
   },
   "file_extension": ".py",
   "mimetype": "text/x-python",
   "name": "python",
   "nbconvert_exporter": "python",
   "pygments_lexer": "ipython3",
   "version": "3.7.6"
  }
 },
 "nbformat": 4,
 "nbformat_minor": 4
}

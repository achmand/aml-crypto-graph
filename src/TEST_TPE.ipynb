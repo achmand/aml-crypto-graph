{
 "cells": [
  {
   "cell_type": "code",
   "execution_count": 2,
   "metadata": {},
   "outputs": [],
   "source": [
    "import cryptoaml.datareader as cdr\n",
    "from cryptoaml.models import XgboostAlgo\n",
    "from cryptoaml.models import LightGbmAlgo\n",
    "from cryptoaml.models import XgboostRfAlgo"
   ]
  },
  {
   "cell_type": "code",
   "execution_count": null,
   "metadata": {},
   "outputs": [],
   "source": [
    "xgb = XgboostAlgo(persist_props={\n",
    "    \"method\":\"load\", \n",
    "    \"load_path\": \"persistence/experiment_1/tuned_models/AF_NE/xg_boost\"\n",
    "})"
   ]
  },
  {
   "cell_type": "code",
   "execution_count": null,
   "metadata": {},
   "outputs": [],
   "source": [
    "print(xgb.get_params())"
   ]
  },
  {
   "cell_type": "code",
   "execution_count": null,
   "metadata": {},
   "outputs": [],
   "source": [
    "display(xgb.tune_results_[1])\n",
    "print(xgb.tune_props_)"
   ]
  },
  {
   "cell_type": "code",
   "execution_count": null,
   "metadata": {},
   "outputs": [],
   "source": [
    "print(xgb.get_params())"
   ]
  },
  {
   "cell_type": "code",
   "execution_count": null,
   "metadata": {},
   "outputs": [],
   "source": [
    "# study = xgb._tuner._study.best_trial.params"
   ]
  },
  {
   "cell_type": "code",
   "execution_count": null,
   "metadata": {},
   "outputs": [],
   "source": [
    "# print(study.best_trial)\n",
    "\n",
    "print(study.best_trial.params)"
   ]
  },
  {
   "cell_type": "code",
   "execution_count": null,
   "metadata": {},
   "outputs": [],
   "source": [
    "# display(study.trials_dataframe())"
   ]
  },
  {
   "cell_type": "code",
   "execution_count": null,
   "metadata": {},
   "outputs": [],
   "source": [
    "elliptic = cdr.get_data(\"elliptic\")\n",
    "data = elliptic.train_test_split(train_size=0.7, feat_set=\"LF_NE\")\n",
    "\n",
    "train_X = data.train_X\n",
    "train_y = data.train_y\n",
    "test_X = data.test_X\n",
    "test_y = data.test_y\n",
    "\n",
    "# display(train_X)\n",
    "# display(test_X)"
   ]
  },
  {
   "cell_type": "code",
   "execution_count": null,
   "metadata": {},
   "outputs": [],
   "source": [
    "# xgb.set_params(max_depth=2, gamme=0.05, colsample_bytree=0.921136, subsample=0.900609)\n",
    "\n",
    "tmp = XgboostAlgo(persist_props={\n",
    "    \"method\":\"load\", \n",
    "    \"load_path\": \"persistence/experiment_1/tuned_models/LF_NE/xg_boost\"\n",
    "})\n",
    "\n",
    "tmp.fit(train_X, train_y, tune=False)\n",
    "print(tmp.get_params())\n",
    "results = tmp.evaluate([\"f1\", \"recall\", \"precision\", \"f1_micro\"], test_X, test_y)\n",
    "print(results)\n",
    "\n",
    "import pickle\n",
    "with open(\"tpe_xgboost_LF_NE.pkl\", \"wb\") as model_file:\n",
    "    pickle.dump(tmp._tuner._study, model_file)"
   ]
  },
  {
   "cell_type": "code",
   "execution_count": null,
   "metadata": {},
   "outputs": [],
   "source": [
    "#---------------------------------\n",
    "# XGBOOST (DETERMINISTIC RESULTS)\n",
    "#---------------------------------\n",
    "# LF (DEFAULT: 0.7794871794871795)\n",
    "# 0.7848500789058391 (TUNED) [+0.005362899]\n",
    "# 0.7848500789058391 (TUNED) [+0.005362899]\n",
    "\n",
    "# LF_NE (DEFAULT: 0.7891832229580574)\n",
    "# 0.8013136288998358 (TUNED) [+0.012130406]\n",
    "# 0.8013136288998358 (TUNED) [+0.012130406]\n",
    "\n",
    "# AF (DEFAULT: 0.8026652998462326)\n",
    "# 0.8128564022809746 (TUNED) [+0.010191102]\n",
    "# 0.8128564022809746 (TUNED) [+0.010191102]\n",
    "\n",
    "# AF_NE (DEFAULT: 0.7980241492864983)\n",
    "# 0.8106348345089527 (TUNED) [+0.012610685]\n",
    "# 0.8106348345089527 (TUNED) [+0.012610685]\n",
    "\n",
    "#----------------------------------\n",
    "# LIGHTGBM (DETERMINISTIC RESULTS)\n",
    "#----------------------------------\n",
    "# LF (DEFAULT: 0.7789580171977744)\n",
    "# 0.790866632070576 (TUNED) [+0.011908615]\n",
    "# 0.790866632070576 (TUNED) [+0.011908615]\n",
    "\n",
    "# LF_NE (DEFAULT: 0.8030551009274413)\n",
    "# 0.7960308710033076 (TUNED) [−0.00702423]\n",
    "# 0.7960308710033076 (TUNED) [−0.00702423]\n",
    "\n",
    "# AF (DEFAULT: 0.813929313929314) \n",
    "# 0.8163693599160545 (TUNED) [+0.002440046]\n",
    "# 0.8163693599160545 (TUNED) [+0.002440046]\n",
    "\n",
    "# AF NE (DEFAULT: 0.8063112078346028) \n",
    "# 0.8043715846994536 (TUNED) [−0.001939623]\n",
    "# 0.8043715846994536 (TUNED) [−0.001939623]"
   ]
  },
  {
   "cell_type": "code",
   "execution_count": null,
   "metadata": {},
   "outputs": [],
   "source": [
    "display(xgb._tuner._study.trials_dataframe())"
   ]
  },
  {
   "cell_type": "code",
   "execution_count": null,
   "metadata": {},
   "outputs": [],
   "source": [
    "# xgb = XgboostAlgo(persist_props={\n",
    "#     \"method\":\"load\", \n",
    "#     \"load_path\": \"persistence/experiment_1/tuned_models/AF_NE/xg_boost\"\n",
    "# })\n",
    "\n",
    "# import pickle\n",
    "# with open(\"tpe_xgboost_AF_NE.pkl\", \"wb\") as model_file:\n",
    "#     pickle.dump(xgb._tuner._study, model_file)"
   ]
  },
  {
   "cell_type": "code",
   "execution_count": null,
   "metadata": {},
   "outputs": [],
   "source": [
    "from cryptoaml.models import RandomForestAlgo\n",
    "from cryptoaml.models import XgboostAlgo\n",
    "from cryptoaml.models import LightGbmAlgo\n",
    "from cryptoaml.models import CatBoostAlgo"
   ]
  },
  {
   "cell_type": "code",
   "execution_count": null,
   "metadata": {},
   "outputs": [],
   "source": [
    "rf = RandomForestAlgo()\n",
    "xgb = XgboostAlgo()\n",
    "\n",
    "elliptic = cdr.get_data(\"elliptic\")\n",
    "data = elliptic.train_test_split(train_size=0.7, feat_set=\"LF\")\n",
    "\n",
    "train_X = data.train_X\n",
    "train_y = data.train_y\n",
    "test_X = data.test_X\n",
    "test_y = data.test_y\n",
    "\n",
    "# light.fit(train_X, train_y)\n",
    "# print(light.get_params())\n",
    "# results = light.evaluate([\"f1\", \"recall\", \"precision\", \"f1_micro\"], test_X, test_y)\n",
    "# print(results)\n",
    "\n",
    "# xgb.fit(train_X, train_y)\n",
    "# print(xgb.get_params())\n",
    "# results = xgb.evaluate([\"f1\", \"recall\", \"precision\", \"f1_micro\"], test_X, test_y)\n",
    "# print(results)\n",
    "\n",
    "rf.fit(train_X, train_y)\n",
    "results = rf.evaluate([\"f1\", \"recall\", \"precision\"], test_X, test_y)\n",
    "print(results)\n",
    "xgb.fit(train_X, train_y)\n",
    "results = xgb.evaluate([\"f1\", \"recall\", \"precision\", \"f1_micro\"], test_X, test_y)\n",
    "\n",
    "# 0.7875700458481915\n",
    "# print(results)"
   ]
  },
  {
   "cell_type": "code",
   "execution_count": null,
   "metadata": {},
   "outputs": [],
   "source": [
    "# rf = RandomForestAlgo()\n",
    "# xgb = XgboostAlgo()\n",
    "elliptic = cdr.get_data(\"elliptic\")\n",
    "data = elliptic.train_test_split(train_size=0.7, feat_set=\"LF_NE\")\n",
    "\n",
    "train_X = data.train_X\n",
    "train_y = data.train_y\n",
    "test_X = data.test_X\n",
    "test_y = data.test_y\n",
    "\n",
    "tmp = XgboostAlgo()\n",
    "tmp.fit(train_X, train_y)\n",
    "print(tmp.get_params())\n",
    "results = tmp.evaluate([\"f1\", \"recall\", \"precision\", \"f1_micro\"], test_X, test_y)\n",
    "print(results)\n",
    "\n",
    "# light = LightGbmAlgo()\n",
    "# light.fit(train_X, train_y)\n",
    "# print(light.get_params())\n",
    "# results = light.evaluate([\"f1\", \"recall\", \"precision\", \"f1_micro\"], test_X, test_y)\n",
    "# print(results)"
   ]
  },
  {
   "cell_type": "code",
   "execution_count": 5,
   "metadata": {
    "scrolled": false
   },
   "outputs": [
    {
     "name": "stdout",
     "output_type": "stream",
     "text": [
      "{'colsample_bynode': 0.8, 'learning_rate': 1, 'reg_lambda': 1e-05, 'subsample': 0.8, 'objective': 'binary:logistic', 'base_score': 0.5, 'booster': None, 'colsample_bylevel': 1, 'colsample_bytree': 1, 'gamma': 0, 'gpu_id': -1, 'importance_type': 'gain', 'interaction_constraints': None, 'max_delta_step': 0, 'max_depth': 6, 'min_child_weight': 1, 'missing': nan, 'monotone_constraints': None, 'n_estimators': 100, 'n_jobs': 0, 'num_parallel_tree': 100, 'random_state': 0, 'reg_alpha': 0, 'scale_pos_weight': 1, 'tree_method': None, 'validate_parameters': False, 'verbosity': None}\n",
      "OrderedDict([('f1', 0.7344199424736337), ('recall', 0.7072945521698984), ('precision', 0.7637088733798604), ('f1_micro', 0.9667666466706659)])\n"
     ]
    }
   ],
   "source": [
    "elliptic = cdr.get_data(\"elliptic\")\n",
    "data = elliptic.train_test_split(train_size=0.7, feat_set=\"AF\")\n",
    "\n",
    "train_X = data.train_X\n",
    "train_y = data.train_y\n",
    "test_X = data.test_X\n",
    "test_y = data.test_y\n",
    "\n",
    "tmp = XgboostRfAlgo()\n",
    "tmp.fit(train_X, train_y)\n",
    "print(tmp.get_params())\n",
    "results = tmp.evaluate([\"f1\", \"recall\", \"precision\", \"f1_micro\"], test_X, test_y)\n",
    "print(results)"
   ]
  },
  {
   "cell_type": "code",
   "execution_count": 6,
   "metadata": {
    "scrolled": false
   },
   "outputs": [
    {
     "name": "stdout",
     "output_type": "stream",
     "text": [
      "{'colsample_bynode': 0.8, 'learning_rate': 1, 'reg_lambda': 1e-05, 'subsample': 0.8, 'objective': 'binary:logistic', 'base_score': 0.5, 'booster': None, 'colsample_bylevel': 1, 'colsample_bytree': 1, 'gamma': 0, 'gpu_id': -1, 'importance_type': 'gain', 'interaction_constraints': None, 'max_delta_step': 0, 'max_depth': 6, 'min_child_weight': 1, 'missing': nan, 'monotone_constraints': None, 'n_estimators': 100, 'n_jobs': 0, 'num_parallel_tree': 100, 'random_state': 0, 'reg_alpha': 0, 'scale_pos_weight': 1, 'tree_method': None, 'validate_parameters': False, 'verbosity': None}\n",
      "OrderedDict([('f1', 0.7673216132368148), ('recall', 0.6851338873499538), ('precision', 0.8719153936545241), ('f1_micro', 0.973005398920216)])\n"
     ]
    }
   ],
   "source": [
    "elliptic = cdr.get_data(\"elliptic\")\n",
    "data = elliptic.train_test_split(train_size=0.7, feat_set=\"AF_NE\")\n",
    "\n",
    "train_X = data.train_X\n",
    "train_y = data.train_y\n",
    "test_X = data.test_X\n",
    "test_y = data.test_y\n",
    "\n",
    "tmp = XgboostRfAlgo()\n",
    "tmp.fit(train_X, train_y)\n",
    "print(tmp.get_params())\n",
    "results = tmp.evaluate([\"f1\", \"recall\", \"precision\", \"f1_micro\"], test_X, test_y)\n",
    "print(results)"
   ]
  },
  {
   "cell_type": "code",
   "execution_count": null,
   "metadata": {},
   "outputs": [],
   "source": [
    "# from sklearn.metrics import log_loss, make_scorer\n",
    "# from sklearn.model_selection import cross_val_score\n",
    "# from sklearn.model_selection import StratifiedKFold\n",
    "\n",
    "# xgb = XgboostAlgo()\n",
    "# scorer = make_scorer(log_loss, greater_is_better=False, needs_proba=True, eps=1e-7)\n",
    "# elliptic = cdr.get_data(\"elliptic\")\n",
    "# data = elliptic.train_test_split(train_size=0.7, feat_set=\"LF_NE\")\n",
    "\n",
    "# train_X = data.train_X\n",
    "# train_y = data.train_y\n",
    "# test_X = data.test_X\n",
    "# test_y = data.test_y\n",
    "\n",
    "# # -0.441107\n",
    "# scores = cross_val_score(xgb._model, train_X, train_y, scoring=scorer, cv=StratifiedKFold(n_splits=3))"
   ]
  },
  {
   "cell_type": "code",
   "execution_count": null,
   "metadata": {},
   "outputs": [],
   "source": [
    "print(scores.mean())"
   ]
  },
  {
   "cell_type": "code",
   "execution_count": null,
   "metadata": {},
   "outputs": [],
   "source": []
  }
 ],
 "metadata": {
  "kernelspec": {
   "display_name": "Python 3.7.6 64-bit ('btc-classifier': conda)",
   "language": "python",
   "name": "python37664bitbtcclassifiercondaf328939486114fc0aeb107830f867d66"
  },
  "language_info": {
   "codemirror_mode": {
    "name": "ipython",
    "version": 3
   },
   "file_extension": ".py",
   "mimetype": "text/x-python",
   "name": "python",
   "nbconvert_exporter": "python",
   "pygments_lexer": "ipython3",
   "version": "3.7.6"
  }
 },
 "nbformat": 4,
 "nbformat_minor": 4
}
